{
 "cells": [
  {
   "cell_type": "code",
   "execution_count": 2,
   "metadata": {},
   "outputs": [
    {
     "data": {
      "application/javascript": "(function(root) {\n  function now() {\n    return new Date();\n  }\n\n  const force = true;\n\n  if (typeof root._bokeh_onload_callbacks === \"undefined\" || force === true) {\n    root._bokeh_onload_callbacks = [];\n    root._bokeh_is_loading = undefined;\n  }\n\nconst JS_MIME_TYPE = 'application/javascript';\n  const HTML_MIME_TYPE = 'text/html';\n  const EXEC_MIME_TYPE = 'application/vnd.bokehjs_exec.v0+json';\n  const CLASS_NAME = 'output_bokeh rendered_html';\n\n  /**\n   * Render data to the DOM node\n   */\n  function render(props, node) {\n    const script = document.createElement(\"script\");\n    node.appendChild(script);\n  }\n\n  /**\n   * Handle when an output is cleared or removed\n   */\n  function handleClearOutput(event, handle) {\n    const cell = handle.cell;\n\n    const id = cell.output_area._bokeh_element_id;\n    const server_id = cell.output_area._bokeh_server_id;\n    // Clean up Bokeh references\n    if (id != null && id in Bokeh.index) {\n      Bokeh.index[id].model.document.clear();\n      delete Bokeh.index[id];\n    }\n\n    if (server_id !== undefined) {\n      // Clean up Bokeh references\n      const cmd_clean = \"from bokeh.io.state import curstate; print(curstate().uuid_to_server['\" + server_id + \"'].get_sessions()[0].document.roots[0]._id)\";\n      cell.notebook.kernel.execute(cmd_clean, {\n        iopub: {\n          output: function(msg) {\n            const id = msg.content.text.trim();\n            if (id in Bokeh.index) {\n              Bokeh.index[id].model.document.clear();\n              delete Bokeh.index[id];\n            }\n          }\n        }\n      });\n      // Destroy server and session\n      const cmd_destroy = \"import bokeh.io.notebook as ion; ion.destroy_server('\" + server_id + \"')\";\n      cell.notebook.kernel.execute(cmd_destroy);\n    }\n  }\n\n  /**\n   * Handle when a new output is added\n   */\n  function handleAddOutput(event, handle) {\n    const output_area = handle.output_area;\n    const output = handle.output;\n\n    // limit handleAddOutput to display_data with EXEC_MIME_TYPE content only\n    if ((output.output_type != \"display_data\") || (!Object.prototype.hasOwnProperty.call(output.data, EXEC_MIME_TYPE))) {\n      return\n    }\n\n    const toinsert = output_area.element.find(\".\" + CLASS_NAME.split(' ')[0]);\n\n    if (output.metadata[EXEC_MIME_TYPE][\"id\"] !== undefined) {\n      toinsert[toinsert.length - 1].firstChild.textContent = output.data[JS_MIME_TYPE];\n      // store reference to embed id on output_area\n      output_area._bokeh_element_id = output.metadata[EXEC_MIME_TYPE][\"id\"];\n    }\n    if (output.metadata[EXEC_MIME_TYPE][\"server_id\"] !== undefined) {\n      const bk_div = document.createElement(\"div\");\n      bk_div.innerHTML = output.data[HTML_MIME_TYPE];\n      const script_attrs = bk_div.children[0].attributes;\n      for (let i = 0; i < script_attrs.length; i++) {\n        toinsert[toinsert.length - 1].firstChild.setAttribute(script_attrs[i].name, script_attrs[i].value);\n        toinsert[toinsert.length - 1].firstChild.textContent = bk_div.children[0].textContent\n      }\n      // store reference to server id on output_area\n      output_area._bokeh_server_id = output.metadata[EXEC_MIME_TYPE][\"server_id\"];\n    }\n  }\n\n  function register_renderer(events, OutputArea) {\n\n    function append_mime(data, metadata, element) {\n      // create a DOM node to render to\n      const toinsert = this.create_output_subarea(\n        metadata,\n        CLASS_NAME,\n        EXEC_MIME_TYPE\n      );\n      this.keyboard_manager.register_events(toinsert);\n      // Render to node\n      const props = {data: data, metadata: metadata[EXEC_MIME_TYPE]};\n      render(props, toinsert[toinsert.length - 1]);\n      element.append(toinsert);\n      return toinsert\n    }\n\n    /* Handle when an output is cleared or removed */\n    events.on('clear_output.CodeCell', handleClearOutput);\n    events.on('delete.Cell', handleClearOutput);\n\n    /* Handle when a new output is added */\n    events.on('output_added.OutputArea', handleAddOutput);\n\n    /**\n     * Register the mime type and append_mime function with output_area\n     */\n    OutputArea.prototype.register_mime_type(EXEC_MIME_TYPE, append_mime, {\n      /* Is output safe? */\n      safe: true,\n      /* Index of renderer in `output_area.display_order` */\n      index: 0\n    });\n  }\n\n  // register the mime type if in Jupyter Notebook environment and previously unregistered\n  if (root.Jupyter !== undefined) {\n    const events = require('base/js/events');\n    const OutputArea = require('notebook/js/outputarea').OutputArea;\n\n    if (OutputArea.prototype.mime_types().indexOf(EXEC_MIME_TYPE) == -1) {\n      register_renderer(events, OutputArea);\n    }\n  }\n  if (typeof (root._bokeh_timeout) === \"undefined\" || force === true) {\n    root._bokeh_timeout = Date.now() + 5000;\n    root._bokeh_failed_load = false;\n  }\n\n  const NB_LOAD_WARNING = {'data': {'text/html':\n     \"<div style='background-color: #fdd'>\\n\"+\n     \"<p>\\n\"+\n     \"BokehJS does not appear to have successfully loaded. If loading BokehJS from CDN, this \\n\"+\n     \"may be due to a slow or bad network connection. Possible fixes:\\n\"+\n     \"</p>\\n\"+\n     \"<ul>\\n\"+\n     \"<li>re-rerun `output_notebook()` to attempt to load from CDN again, or</li>\\n\"+\n     \"<li>use INLINE resources instead, as so:</li>\\n\"+\n     \"</ul>\\n\"+\n     \"<code>\\n\"+\n     \"from bokeh.resources import INLINE\\n\"+\n     \"output_notebook(resources=INLINE)\\n\"+\n     \"</code>\\n\"+\n     \"</div>\"}};\n\n  function display_loaded() {\n    const el = document.getElementById(null);\n    if (el != null) {\n      el.textContent = \"BokehJS is loading...\";\n    }\n    if (root.Bokeh !== undefined) {\n      if (el != null) {\n        el.textContent = \"BokehJS \" + root.Bokeh.version + \" successfully loaded.\";\n      }\n    } else if (Date.now() < root._bokeh_timeout) {\n      setTimeout(display_loaded, 100)\n    }\n  }\n\n  function run_callbacks() {\n    try {\n      root._bokeh_onload_callbacks.forEach(function(callback) {\n        if (callback != null)\n          callback();\n      });\n    } finally {\n      delete root._bokeh_onload_callbacks\n    }\n    console.debug(\"Bokeh: all callbacks have finished\");\n  }\n\n  function load_libs(css_urls, js_urls, callback) {\n    if (css_urls == null) css_urls = [];\n    if (js_urls == null) js_urls = [];\n\n    root._bokeh_onload_callbacks.push(callback);\n    if (root._bokeh_is_loading > 0) {\n      console.debug(\"Bokeh: BokehJS is being loaded, scheduling callback at\", now());\n      return null;\n    }\n    if (js_urls == null || js_urls.length === 0) {\n      run_callbacks();\n      return null;\n    }\n    console.debug(\"Bokeh: BokehJS not loaded, scheduling load and callback at\", now());\n    root._bokeh_is_loading = css_urls.length + js_urls.length;\n\n    function on_load() {\n      root._bokeh_is_loading--;\n      if (root._bokeh_is_loading === 0) {\n        console.debug(\"Bokeh: all BokehJS libraries/stylesheets loaded\");\n        run_callbacks()\n      }\n    }\n\n    function on_error(url) {\n      console.error(\"failed to load \" + url);\n    }\n\n    for (let i = 0; i < css_urls.length; i++) {\n      const url = css_urls[i];\n      const element = document.createElement(\"link\");\n      element.onload = on_load;\n      element.onerror = on_error.bind(null, url);\n      element.rel = \"stylesheet\";\n      element.type = \"text/css\";\n      element.href = url;\n      console.debug(\"Bokeh: injecting link tag for BokehJS stylesheet: \", url);\n      document.body.appendChild(element);\n    }\n\n    for (let i = 0; i < js_urls.length; i++) {\n      const url = js_urls[i];\n      const element = document.createElement('script');\n      element.onload = on_load;\n      element.onerror = on_error.bind(null, url);\n      element.async = false;\n      element.src = url;\n      console.debug(\"Bokeh: injecting script tag for BokehJS library: \", url);\n      document.head.appendChild(element);\n    }\n  };\n\n  function inject_raw_css(css) {\n    const element = document.createElement(\"style\");\n    element.appendChild(document.createTextNode(css));\n    document.body.appendChild(element);\n  }\n\n  const js_urls = [\"https://cdn.bokeh.org/bokeh/release/bokeh-2.4.3.min.js\", \"https://cdn.bokeh.org/bokeh/release/bokeh-gl-2.4.3.min.js\", \"https://cdn.bokeh.org/bokeh/release/bokeh-widgets-2.4.3.min.js\", \"https://cdn.bokeh.org/bokeh/release/bokeh-tables-2.4.3.min.js\", \"https://cdn.bokeh.org/bokeh/release/bokeh-mathjax-2.4.3.min.js\"];\n  const css_urls = [];\n\n  const inline_js = [    function(Bokeh) {\n      Bokeh.set_log_level(\"info\");\n    },\nfunction(Bokeh) {\n    }\n  ];\n\n  function run_inline_js() {\n    if (root.Bokeh !== undefined || force === true) {\n          for (let i = 0; i < inline_js.length; i++) {\n      inline_js[i].call(root, root.Bokeh);\n    }\n} else if (Date.now() < root._bokeh_timeout) {\n      setTimeout(run_inline_js, 100);\n    } else if (!root._bokeh_failed_load) {\n      console.log(\"Bokeh: BokehJS failed to load within specified timeout.\");\n      root._bokeh_failed_load = true;\n    } else if (force !== true) {\n      const cell = $(document.getElementById(null)).parents('.cell').data().cell;\n      cell.output_area.append_execute_result(NB_LOAD_WARNING)\n    }\n  }\n\n  if (root._bokeh_is_loading === 0) {\n    console.debug(\"Bokeh: BokehJS loaded, going straight to plotting\");\n    run_inline_js();\n  } else {\n    load_libs(css_urls, js_urls, function() {\n      console.debug(\"Bokeh: BokehJS plotting callback run at\", now());\n      run_inline_js();\n    });\n  }\n}(window));",
      "application/vnd.bokehjs_load.v0+json": ""
     },
     "metadata": {},
     "output_type": "display_data"
    },
    {
     "data": {
      "application/javascript": "(function(root) {\n  function now() {\n    return new Date();\n  }\n\n  const force = true;\n\n  if (typeof root._bokeh_onload_callbacks === \"undefined\" || force === true) {\n    root._bokeh_onload_callbacks = [];\n    root._bokeh_is_loading = undefined;\n  }\n\nconst JS_MIME_TYPE = 'application/javascript';\n  const HTML_MIME_TYPE = 'text/html';\n  const EXEC_MIME_TYPE = 'application/vnd.bokehjs_exec.v0+json';\n  const CLASS_NAME = 'output_bokeh rendered_html';\n\n  /**\n   * Render data to the DOM node\n   */\n  function render(props, node) {\n    const script = document.createElement(\"script\");\n    node.appendChild(script);\n  }\n\n  /**\n   * Handle when an output is cleared or removed\n   */\n  function handleClearOutput(event, handle) {\n    const cell = handle.cell;\n\n    const id = cell.output_area._bokeh_element_id;\n    const server_id = cell.output_area._bokeh_server_id;\n    // Clean up Bokeh references\n    if (id != null && id in Bokeh.index) {\n      Bokeh.index[id].model.document.clear();\n      delete Bokeh.index[id];\n    }\n\n    if (server_id !== undefined) {\n      // Clean up Bokeh references\n      const cmd_clean = \"from bokeh.io.state import curstate; print(curstate().uuid_to_server['\" + server_id + \"'].get_sessions()[0].document.roots[0]._id)\";\n      cell.notebook.kernel.execute(cmd_clean, {\n        iopub: {\n          output: function(msg) {\n            const id = msg.content.text.trim();\n            if (id in Bokeh.index) {\n              Bokeh.index[id].model.document.clear();\n              delete Bokeh.index[id];\n            }\n          }\n        }\n      });\n      // Destroy server and session\n      const cmd_destroy = \"import bokeh.io.notebook as ion; ion.destroy_server('\" + server_id + \"')\";\n      cell.notebook.kernel.execute(cmd_destroy);\n    }\n  }\n\n  /**\n   * Handle when a new output is added\n   */\n  function handleAddOutput(event, handle) {\n    const output_area = handle.output_area;\n    const output = handle.output;\n\n    // limit handleAddOutput to display_data with EXEC_MIME_TYPE content only\n    if ((output.output_type != \"display_data\") || (!Object.prototype.hasOwnProperty.call(output.data, EXEC_MIME_TYPE))) {\n      return\n    }\n\n    const toinsert = output_area.element.find(\".\" + CLASS_NAME.split(' ')[0]);\n\n    if (output.metadata[EXEC_MIME_TYPE][\"id\"] !== undefined) {\n      toinsert[toinsert.length - 1].firstChild.textContent = output.data[JS_MIME_TYPE];\n      // store reference to embed id on output_area\n      output_area._bokeh_element_id = output.metadata[EXEC_MIME_TYPE][\"id\"];\n    }\n    if (output.metadata[EXEC_MIME_TYPE][\"server_id\"] !== undefined) {\n      const bk_div = document.createElement(\"div\");\n      bk_div.innerHTML = output.data[HTML_MIME_TYPE];\n      const script_attrs = bk_div.children[0].attributes;\n      for (let i = 0; i < script_attrs.length; i++) {\n        toinsert[toinsert.length - 1].firstChild.setAttribute(script_attrs[i].name, script_attrs[i].value);\n        toinsert[toinsert.length - 1].firstChild.textContent = bk_div.children[0].textContent\n      }\n      // store reference to server id on output_area\n      output_area._bokeh_server_id = output.metadata[EXEC_MIME_TYPE][\"server_id\"];\n    }\n  }\n\n  function register_renderer(events, OutputArea) {\n\n    function append_mime(data, metadata, element) {\n      // create a DOM node to render to\n      const toinsert = this.create_output_subarea(\n        metadata,\n        CLASS_NAME,\n        EXEC_MIME_TYPE\n      );\n      this.keyboard_manager.register_events(toinsert);\n      // Render to node\n      const props = {data: data, metadata: metadata[EXEC_MIME_TYPE]};\n      render(props, toinsert[toinsert.length - 1]);\n      element.append(toinsert);\n      return toinsert\n    }\n\n    /* Handle when an output is cleared or removed */\n    events.on('clear_output.CodeCell', handleClearOutput);\n    events.on('delete.Cell', handleClearOutput);\n\n    /* Handle when a new output is added */\n    events.on('output_added.OutputArea', handleAddOutput);\n\n    /**\n     * Register the mime type and append_mime function with output_area\n     */\n    OutputArea.prototype.register_mime_type(EXEC_MIME_TYPE, append_mime, {\n      /* Is output safe? */\n      safe: true,\n      /* Index of renderer in `output_area.display_order` */\n      index: 0\n    });\n  }\n\n  // register the mime type if in Jupyter Notebook environment and previously unregistered\n  if (root.Jupyter !== undefined) {\n    const events = require('base/js/events');\n    const OutputArea = require('notebook/js/outputarea').OutputArea;\n\n    if (OutputArea.prototype.mime_types().indexOf(EXEC_MIME_TYPE) == -1) {\n      register_renderer(events, OutputArea);\n    }\n  }\n  if (typeof (root._bokeh_timeout) === \"undefined\" || force === true) {\n    root._bokeh_timeout = Date.now() + 5000;\n    root._bokeh_failed_load = false;\n  }\n\n  const NB_LOAD_WARNING = {'data': {'text/html':\n     \"<div style='background-color: #fdd'>\\n\"+\n     \"<p>\\n\"+\n     \"BokehJS does not appear to have successfully loaded. If loading BokehJS from CDN, this \\n\"+\n     \"may be due to a slow or bad network connection. Possible fixes:\\n\"+\n     \"</p>\\n\"+\n     \"<ul>\\n\"+\n     \"<li>re-rerun `output_notebook()` to attempt to load from CDN again, or</li>\\n\"+\n     \"<li>use INLINE resources instead, as so:</li>\\n\"+\n     \"</ul>\\n\"+\n     \"<code>\\n\"+\n     \"from bokeh.resources import INLINE\\n\"+\n     \"output_notebook(resources=INLINE)\\n\"+\n     \"</code>\\n\"+\n     \"</div>\"}};\n\n  function display_loaded() {\n    const el = document.getElementById(null);\n    if (el != null) {\n      el.textContent = \"BokehJS is loading...\";\n    }\n    if (root.Bokeh !== undefined) {\n      if (el != null) {\n        el.textContent = \"BokehJS \" + root.Bokeh.version + \" successfully loaded.\";\n      }\n    } else if (Date.now() < root._bokeh_timeout) {\n      setTimeout(display_loaded, 100)\n    }\n  }\n\n  function run_callbacks() {\n    try {\n      root._bokeh_onload_callbacks.forEach(function(callback) {\n        if (callback != null)\n          callback();\n      });\n    } finally {\n      delete root._bokeh_onload_callbacks\n    }\n    console.debug(\"Bokeh: all callbacks have finished\");\n  }\n\n  function load_libs(css_urls, js_urls, callback) {\n    if (css_urls == null) css_urls = [];\n    if (js_urls == null) js_urls = [];\n\n    root._bokeh_onload_callbacks.push(callback);\n    if (root._bokeh_is_loading > 0) {\n      console.debug(\"Bokeh: BokehJS is being loaded, scheduling callback at\", now());\n      return null;\n    }\n    if (js_urls == null || js_urls.length === 0) {\n      run_callbacks();\n      return null;\n    }\n    console.debug(\"Bokeh: BokehJS not loaded, scheduling load and callback at\", now());\n    root._bokeh_is_loading = css_urls.length + js_urls.length;\n\n    function on_load() {\n      root._bokeh_is_loading--;\n      if (root._bokeh_is_loading === 0) {\n        console.debug(\"Bokeh: all BokehJS libraries/stylesheets loaded\");\n        run_callbacks()\n      }\n    }\n\n    function on_error(url) {\n      console.error(\"failed to load \" + url);\n    }\n\n    for (let i = 0; i < css_urls.length; i++) {\n      const url = css_urls[i];\n      const element = document.createElement(\"link\");\n      element.onload = on_load;\n      element.onerror = on_error.bind(null, url);\n      element.rel = \"stylesheet\";\n      element.type = \"text/css\";\n      element.href = url;\n      console.debug(\"Bokeh: injecting link tag for BokehJS stylesheet: \", url);\n      document.body.appendChild(element);\n    }\n\n    for (let i = 0; i < js_urls.length; i++) {\n      const url = js_urls[i];\n      const element = document.createElement('script');\n      element.onload = on_load;\n      element.onerror = on_error.bind(null, url);\n      element.async = false;\n      element.src = url;\n      console.debug(\"Bokeh: injecting script tag for BokehJS library: \", url);\n      document.head.appendChild(element);\n    }\n  };\n\n  function inject_raw_css(css) {\n    const element = document.createElement(\"style\");\n    element.appendChild(document.createTextNode(css));\n    document.body.appendChild(element);\n  }\n\n  const js_urls = [\"https://cdn.bokeh.org/bokeh/release/bokeh-2.4.3.min.js\", \"https://cdn.bokeh.org/bokeh/release/bokeh-gl-2.4.3.min.js\", \"https://cdn.bokeh.org/bokeh/release/bokeh-widgets-2.4.3.min.js\", \"https://cdn.bokeh.org/bokeh/release/bokeh-tables-2.4.3.min.js\", \"https://cdn.bokeh.org/bokeh/release/bokeh-mathjax-2.4.3.min.js\"];\n  const css_urls = [];\n\n  const inline_js = [    function(Bokeh) {\n      Bokeh.set_log_level(\"info\");\n    },\nfunction(Bokeh) {\n    }\n  ];\n\n  function run_inline_js() {\n    if (root.Bokeh !== undefined || force === true) {\n          for (let i = 0; i < inline_js.length; i++) {\n      inline_js[i].call(root, root.Bokeh);\n    }\n} else if (Date.now() < root._bokeh_timeout) {\n      setTimeout(run_inline_js, 100);\n    } else if (!root._bokeh_failed_load) {\n      console.log(\"Bokeh: BokehJS failed to load within specified timeout.\");\n      root._bokeh_failed_load = true;\n    } else if (force !== true) {\n      const cell = $(document.getElementById(null)).parents('.cell').data().cell;\n      cell.output_area.append_execute_result(NB_LOAD_WARNING)\n    }\n  }\n\n  if (root._bokeh_is_loading === 0) {\n    console.debug(\"Bokeh: BokehJS loaded, going straight to plotting\");\n    run_inline_js();\n  } else {\n    load_libs(css_urls, js_urls, function() {\n      console.debug(\"Bokeh: BokehJS plotting callback run at\", now());\n      run_inline_js();\n    });\n  }\n}(window));",
      "application/vnd.bokehjs_load.v0+json": ""
     },
     "metadata": {},
     "output_type": "display_data"
    }
   ],
   "source": [
    "import sys\n",
    "import os\n",
    "import pandas as pd\n",
    "import numpy as np\n",
    "import biosignalsnotebooks as bsnb\n",
    "import biosignalsnotebooks.signal_samples as bsnb_ss\n",
    "import re\n",
    "import pickle\n",
    "import scipy as sp\n",
    "import datetime"
   ]
  },
  {
   "cell_type": "code",
   "execution_count": 8,
   "metadata": {},
   "outputs": [],
   "source": [
    "df = pd.read_csv('/Users/htr365/Documents/Side_Projects/09_founding_lab/amanda_johanna/quantified_self.nosync/pipeline/survey_data/raw_survey_data.csv')"
   ]
  },
  {
   "cell_type": "code",
   "execution_count": 9,
   "metadata": {},
   "outputs": [],
   "source": [
    "names = ['timestamp','person']  + [f'cis_{i}' for i in range(1, 21)] \\\n",
    "+ ['hooper_muscles_sore','extra_muscles_tired','hooper_sleep_quality','hooper_fatigue_level','hooper_stress_level']  \\\n",
    "+ ['sleep_hours','coffee_count','physical_activity','step_count'] \\\n",
    "+ ['f_illness','f_changes','f_day_description','f_measurement_comments','f_other']  \\\n",
    "+ ['alcohol','fatigue_expected','X','muscles_sore_expected','muscles_tired_expected'] "
   ]
  },
  {
   "cell_type": "code",
   "execution_count": 11,
   "metadata": {},
   "outputs": [
    {
     "data": {
      "text/html": [
       "<div>\n",
       "<style scoped>\n",
       "    .dataframe tbody tr th:only-of-type {\n",
       "        vertical-align: middle;\n",
       "    }\n",
       "\n",
       "    .dataframe tbody tr th {\n",
       "        vertical-align: top;\n",
       "    }\n",
       "\n",
       "    .dataframe thead th {\n",
       "        text-align: right;\n",
       "    }\n",
       "</style>\n",
       "<table border=\"1\" class=\"dataframe\">\n",
       "  <thead>\n",
       "    <tr style=\"text-align: right;\">\n",
       "      <th></th>\n",
       "      <th>timestamp</th>\n",
       "      <th>person</th>\n",
       "      <th>cis_1</th>\n",
       "      <th>cis_2</th>\n",
       "      <th>cis_3</th>\n",
       "      <th>cis_4</th>\n",
       "      <th>cis_5</th>\n",
       "      <th>cis_6</th>\n",
       "      <th>cis_7</th>\n",
       "      <th>cis_8</th>\n",
       "      <th>...</th>\n",
       "      <th>f_illness</th>\n",
       "      <th>f_changes</th>\n",
       "      <th>f_day_description</th>\n",
       "      <th>f_measurement_comments</th>\n",
       "      <th>f_other</th>\n",
       "      <th>alcohol</th>\n",
       "      <th>fatigue_expected</th>\n",
       "      <th>X</th>\n",
       "      <th>muscles_sore_expected</th>\n",
       "      <th>muscles_tired_expected</th>\n",
       "    </tr>\n",
       "  </thead>\n",
       "  <tbody>\n",
       "    <tr>\n",
       "      <th>0</th>\n",
       "      <td>24/06/2024 23:40:05</td>\n",
       "      <td>Johanna</td>\n",
       "      <td>Disagree</td>\n",
       "      <td>Strongly agree</td>\n",
       "      <td>Disagree</td>\n",
       "      <td>Strongly agree</td>\n",
       "      <td>Strongly agree</td>\n",
       "      <td>Strongly agree</td>\n",
       "      <td>Somewhat agree</td>\n",
       "      <td>Somewhat agree</td>\n",
       "      <td>...</td>\n",
       "      <td>NaN</td>\n",
       "      <td>NaN</td>\n",
       "      <td>measurement + work from home ~1h\\n20min cycle ...</td>\n",
       "      <td>- first measurement I did without button, prot...</td>\n",
       "      <td>this was a bit of a test day</td>\n",
       "      <td>NaN</td>\n",
       "      <td>NaN</td>\n",
       "      <td>NaN</td>\n",
       "      <td>NaN</td>\n",
       "      <td>NaN</td>\n",
       "    </tr>\n",
       "    <tr>\n",
       "      <th>1</th>\n",
       "      <td>25/06/2024 13:52:02</td>\n",
       "      <td>Amanda</td>\n",
       "      <td>Somewhat agree</td>\n",
       "      <td>Neither agree or disagree</td>\n",
       "      <td>Somewhat disagree</td>\n",
       "      <td>Somewhat disagree</td>\n",
       "      <td>Somewhat agree</td>\n",
       "      <td>Somewhat agree</td>\n",
       "      <td>Neither agree or disagree</td>\n",
       "      <td>Somewhat disagree</td>\n",
       "      <td>...</td>\n",
       "      <td>No, sore muscles and inflamed hand.</td>\n",
       "      <td>No</td>\n",
       "      <td>Travelled to Brisbane 2 hours, install show 6 ...</td>\n",
       "      <td>Did first measurement twice as I wasn't on the...</td>\n",
       "      <td>Only 29 days to go!!!!</td>\n",
       "      <td>NaN</td>\n",
       "      <td>NaN</td>\n",
       "      <td>NaN</td>\n",
       "      <td>NaN</td>\n",
       "      <td>NaN</td>\n",
       "    </tr>\n",
       "    <tr>\n",
       "      <th>2</th>\n",
       "      <td>25/06/2024 22:33:22</td>\n",
       "      <td>Johanna</td>\n",
       "      <td>Disagree</td>\n",
       "      <td>Agree</td>\n",
       "      <td>Disagree</td>\n",
       "      <td>Neither agree or disagree</td>\n",
       "      <td>Somewhat agree</td>\n",
       "      <td>Somewhat agree</td>\n",
       "      <td>Neither agree or disagree</td>\n",
       "      <td>Agree</td>\n",
       "      <td>...</td>\n",
       "      <td>no</td>\n",
       "      <td>NaN</td>\n",
       "      <td>- 20min yoga stretching\\n- 20min cycling to wo...</td>\n",
       "      <td>pedometer showed 10500 steps, phone showed 140...</td>\n",
       "      <td>NaN</td>\n",
       "      <td>no alcohol</td>\n",
       "      <td>NaN</td>\n",
       "      <td>NaN</td>\n",
       "      <td>NaN</td>\n",
       "      <td>NaN</td>\n",
       "    </tr>\n",
       "    <tr>\n",
       "      <th>3</th>\n",
       "      <td>26/06/2024 13:51:24</td>\n",
       "      <td>Amanda</td>\n",
       "      <td>Agree</td>\n",
       "      <td>Somewhat disagree</td>\n",
       "      <td>Agree</td>\n",
       "      <td>Agree</td>\n",
       "      <td>Somewhat disagree</td>\n",
       "      <td>Somewhat disagree</td>\n",
       "      <td>Somewhat agree</td>\n",
       "      <td>Disagree</td>\n",
       "      <td>...</td>\n",
       "      <td>Yes, dizzy, fatigued sore muscles</td>\n",
       "      <td>Not really different from yesterday</td>\n",
       "      <td>Install exhibition</td>\n",
       "      <td>Could not get open signals to work in PM</td>\n",
       "      <td>NaN</td>\n",
       "      <td>no alcohol</td>\n",
       "      <td>NaN</td>\n",
       "      <td>NaN</td>\n",
       "      <td>NaN</td>\n",
       "      <td>NaN</td>\n",
       "    </tr>\n",
       "    <tr>\n",
       "      <th>4</th>\n",
       "      <td>27/06/2024 01:17:04</td>\n",
       "      <td>Johanna</td>\n",
       "      <td>Disagree</td>\n",
       "      <td>Somewhat disagree</td>\n",
       "      <td>Disagree</td>\n",
       "      <td>Disagree</td>\n",
       "      <td>Somewhat agree</td>\n",
       "      <td>Somewhat agree</td>\n",
       "      <td>Somewhat agree</td>\n",
       "      <td>Agree</td>\n",
       "      <td>...</td>\n",
       "      <td>NaN</td>\n",
       "      <td>NaN</td>\n",
       "      <td>cycled to work 20min\\nworked 2.5 hours, lunch ...</td>\n",
       "      <td>Wasn't able to conduct a measurement in the ev...</td>\n",
       "      <td>NaN</td>\n",
       "      <td>no alcohol</td>\n",
       "      <td>NaN</td>\n",
       "      <td>NaN</td>\n",
       "      <td>NaN</td>\n",
       "      <td>NaN</td>\n",
       "    </tr>\n",
       "  </tbody>\n",
       "</table>\n",
       "<p>5 rows × 41 columns</p>\n",
       "</div>"
      ],
      "text/plain": [
       "             timestamp   person           cis_1                      cis_2  \\\n",
       "0  24/06/2024 23:40:05  Johanna        Disagree             Strongly agree   \n",
       "1  25/06/2024 13:52:02   Amanda  Somewhat agree  Neither agree or disagree   \n",
       "2  25/06/2024 22:33:22  Johanna        Disagree                      Agree   \n",
       "3  26/06/2024 13:51:24   Amanda           Agree          Somewhat disagree   \n",
       "4  27/06/2024 01:17:04  Johanna        Disagree          Somewhat disagree   \n",
       "\n",
       "               cis_3                      cis_4              cis_5  \\\n",
       "0           Disagree             Strongly agree     Strongly agree   \n",
       "1  Somewhat disagree          Somewhat disagree     Somewhat agree   \n",
       "2           Disagree  Neither agree or disagree     Somewhat agree   \n",
       "3              Agree                      Agree  Somewhat disagree   \n",
       "4           Disagree                   Disagree     Somewhat agree   \n",
       "\n",
       "               cis_6                      cis_7              cis_8  ...  \\\n",
       "0     Strongly agree             Somewhat agree     Somewhat agree  ...   \n",
       "1     Somewhat agree  Neither agree or disagree  Somewhat disagree  ...   \n",
       "2     Somewhat agree  Neither agree or disagree              Agree  ...   \n",
       "3  Somewhat disagree             Somewhat agree           Disagree  ...   \n",
       "4     Somewhat agree             Somewhat agree              Agree  ...   \n",
       "\n",
       "                              f_illness                            f_changes  \\\n",
       "0                                   NaN                                  NaN   \n",
       "1  No, sore muscles and inflamed hand.                                    No   \n",
       "2                                    no                                  NaN   \n",
       "3     Yes, dizzy, fatigued sore muscles  Not really different from yesterday   \n",
       "4                                   NaN                                  NaN   \n",
       "\n",
       "                                   f_day_description  \\\n",
       "0  measurement + work from home ~1h\\n20min cycle ...   \n",
       "1  Travelled to Brisbane 2 hours, install show 6 ...   \n",
       "2  - 20min yoga stretching\\n- 20min cycling to wo...   \n",
       "3                                 Install exhibition   \n",
       "4  cycled to work 20min\\nworked 2.5 hours, lunch ...   \n",
       "\n",
       "                              f_measurement_comments  \\\n",
       "0  - first measurement I did without button, prot...   \n",
       "1  Did first measurement twice as I wasn't on the...   \n",
       "2  pedometer showed 10500 steps, phone showed 140...   \n",
       "3           Could not get open signals to work in PM   \n",
       "4  Wasn't able to conduct a measurement in the ev...   \n",
       "\n",
       "                        f_other     alcohol fatigue_expected   X  \\\n",
       "0  this was a bit of a test day         NaN              NaN NaN   \n",
       "1        Only 29 days to go!!!!         NaN              NaN NaN   \n",
       "2                           NaN  no alcohol              NaN NaN   \n",
       "3                           NaN  no alcohol              NaN NaN   \n",
       "4                           NaN  no alcohol              NaN NaN   \n",
       "\n",
       "  muscles_sore_expected muscles_tired_expected  \n",
       "0                   NaN                    NaN  \n",
       "1                   NaN                    NaN  \n",
       "2                   NaN                    NaN  \n",
       "3                   NaN                    NaN  \n",
       "4                   NaN                    NaN  \n",
       "\n",
       "[5 rows x 41 columns]"
      ]
     },
     "execution_count": 11,
     "metadata": {},
     "output_type": "execute_result"
    }
   ],
   "source": [
    "df.columns = names\n",
    "df.head()"
   ]
  },
  {
   "cell_type": "code",
   "execution_count": 12,
   "metadata": {},
   "outputs": [],
   "source": [
    "# drop unnecessary column\n",
    "#df = df.drop('X',axis=1)"
   ]
  },
  {
   "cell_type": "code",
   "execution_count": 13,
   "metadata": {},
   "outputs": [
    {
     "name": "stderr",
     "output_type": "stream",
     "text": [
      "/var/folders/m2/yy15wc4d3zqdtsvvvggmkn780000gp/T/ipykernel_1486/1386840009.py:1: UserWarning: Parsing dates in %d/%m/%Y %H:%M:%S format when dayfirst=False (the default) was specified. Pass `dayfirst=True` or specify a format to silence this warning.\n",
      "  df['timestamp'] = pd.to_datetime(df['timestamp'])\n"
     ]
    }
   ],
   "source": [
    "df['timestamp'] = pd.to_datetime(df['timestamp'])\n",
    "df['date'] = df['timestamp'].dt.date"
   ]
  },
  {
   "cell_type": "code",
   "execution_count": 14,
   "metadata": {},
   "outputs": [],
   "source": [
    "# adjust for measurement errors\n",
    "# Amanda, 17th of July: This survey is for the 16.07. Forgot to press SUBMIT \n",
    "df.loc[(df['date']==datetime.date(2024,7,17))* (df['person']=='Amanda'),'date'] = datetime.date(2024,7,16)\n",
    "\n",
    "# Amanda, 18th of July: THIS IS FOR 17th. NOT 18th\n",
    "df.loc[(df['timestamp']==datetime.datetime(2024,7,18,12,20,48))* (df['person']=='Amanda'),'date'] = datetime.date(2024,7,17)\n",
    "\n",
    "# Amanda 21st of July\n",
    "df.loc[(df['timestamp']==datetime.datetime(2024,7,21,11,1,52))* (df['person']=='Amanda'),'date']= datetime.date(2024,7,21)\n",
    "\n",
    "# correct for Johanna often taken the survey after midnight\n",
    "df['date'] = np.where((df['person']=='Johanna')*(df['timestamp'].dt.hour<20),df['date']-datetime.timedelta(days=1),df['date'])\n"
   ]
  },
  {
   "cell_type": "code",
   "execution_count": 15,
   "metadata": {},
   "outputs": [],
   "source": [
    "# convert cis  items + hooper items + extra question to numeric scale\n",
    "\n",
    "agree_likert_scale = {'strongly disagree': 1,\n",
    "                'disagree': 2,\n",
    "                'somewhat disagree': 3,\n",
    "                'neither agree or disagree': 4,\n",
    "                'somewhat agree': 5,\n",
    "                'agree': 6,\n",
    "                'strongly agree': 7}\n",
    "\n",
    "quality_likert_scale = {'very poor': 1,\n",
    "                'poor': 2,\n",
    "                'below average': 3,\n",
    "                'average': 4,\n",
    "                'above average': 5,\n",
    "                'good': 6,\n",
    "                'excellent': 7}\n",
    "\n",
    "intensity_likert_scale = {'very low': 1,\n",
    "                'low': 2,\n",
    "                'below average': 3,\n",
    "                'average': 4,\n",
    "                'above average': 5,\n",
    "                'high': 6,\n",
    "                'very high': 7}\n",
    "\n",
    "# fetch columns to change\n",
    "items_agree = [col for col in df.columns if col.startswith('cis')] + ['hooper_muscles_sore','extra_muscles_tired','muscles_sore_expected','muscles_tired_expected']\n",
    "items_quality = ['hooper_sleep_quality']\n",
    "items_intensity = ['hooper_fatigue_level','hooper_stress_level','fatigue_expected']\n",
    "# convert to numeric\n",
    "df[items_agree] = df[items_agree].applymap(lambda x: x.lower() if isinstance(x, str) else x).replace(agree_likert_scale).apply(pd.to_numeric, errors='coerce')\n",
    "df[items_quality] = df[items_quality].applymap(lambda x: x.lower() if isinstance(x, str) else x).replace(quality_likert_scale).apply(pd.to_numeric, errors='coerce')\n",
    "df[items_intensity] = df[items_intensity].applymap(lambda x: x.lower() if isinstance(x, str) else x).replace(intensity_likert_scale).apply(pd.to_numeric, errors='coerce')"
   ]
  },
  {
   "cell_type": "code",
   "execution_count": 16,
   "metadata": {},
   "outputs": [],
   "source": [
    "# subscales of CIS\n",
    "# Subjective feeling of fatigue items 1, 4, 6, 9, 12, 14, 16, 20\n",
    "df['cis_subjective_fatigue'] = df[[f'cis_{i}' for i in [1,4,6,9,12,14,16,20]]].mean(axis=1)\n",
    "\n",
    "# Concentration items 3, 8, 11, 13, 19\n",
    "df['cis_concentration'] = df[[f'cis_{i}' for i in [3,8,11,13,19]]].mean(axis=1)\n",
    "\n",
    "# Motivation items 2, 5, 15, 18\n",
    "df['cis_motivation'] = df[[f'cis_{i}' for i in [2,5,15,18]]].mean(axis=1)\n",
    "\n",
    "# Physical activity items 7, 10, 17\n",
    "df['cis_physical_activity'] = df[[f'cis_{i}' for i in [7,10,17]]].mean(axis=1)"
   ]
  },
  {
   "cell_type": "code",
   "execution_count": 17,
   "metadata": {},
   "outputs": [],
   "source": [
    "# map alcohol consumption to numeric values\n",
    "alcohol_dict = {'no alcohol': 0,\n",
    "            'one light alcoholic drink (e.g. beer, wine)': 1,\n",
    "            'two light alcoholic drinks or one strong alcoholic drink (e.g. cocktail, shot)': 2,\n",
    "             'more than three alcoholic drinks':3\n",
    "            }\n",
    "df['alcohol'] = df['alcohol'].map(alcohol_dict).fillna(0)"
   ]
  },
  {
   "cell_type": "code",
   "execution_count": 18,
   "metadata": {},
   "outputs": [
    {
     "name": "stderr",
     "output_type": "stream",
     "text": [
      "/var/folders/m2/yy15wc4d3zqdtsvvvggmkn780000gp/T/ipykernel_1486/3856294496.py:2: UserWarning: Could not infer format, so each element will be parsed individually, falling back to `dateutil`. To ensure parsing is consistent and as-expected, please specify a format.\n",
      "  df['sleep_time'] = pd.to_datetime(df['sleep_hours']).dt.hour*60 +pd.to_datetime(df['sleep_hours']).dt.minute\n",
      "/var/folders/m2/yy15wc4d3zqdtsvvvggmkn780000gp/T/ipykernel_1486/3856294496.py:2: UserWarning: Could not infer format, so each element will be parsed individually, falling back to `dateutil`. To ensure parsing is consistent and as-expected, please specify a format.\n",
      "  df['sleep_time'] = pd.to_datetime(df['sleep_hours']).dt.hour*60 +pd.to_datetime(df['sleep_hours']).dt.minute\n"
     ]
    }
   ],
   "source": [
    "# convert sleep time to minutes\n",
    "df['sleep_time'] = pd.to_datetime(df['sleep_hours']).dt.hour*60 +pd.to_datetime(df['sleep_hours']).dt.minute"
   ]
  },
  {
   "cell_type": "code",
   "execution_count": 19,
   "metadata": {},
   "outputs": [],
   "source": [
    "def split_physical_activity(cell):\n",
    "    if isinstance(cell, str):\n",
    "        list_activities = cell.split(',')\n",
    "        for i in range(len(list_activities)):\n",
    "            list_activities[i] = list_activities[i].strip()\n",
    "        return list_activities\n",
    "\n",
    "# convert physical activites from string list to actual list\n",
    "df['physical_activity_list'] = df['physical_activity'].apply(split_physical_activity)"
   ]
  },
  {
   "cell_type": "code",
   "execution_count": 20,
   "metadata": {},
   "outputs": [],
   "source": [
    "activities_list = []\n",
    "for i in range(len(df['physical_activity_list'])):\n",
    "    if df.loc[i, 'physical_activity_list'] is not None:\n",
    "        activities_list += df.loc[i, 'physical_activity_list']\n",
    "\n",
    "activities_list = pd.Series(activities_list)\n"
   ]
  },
  {
   "cell_type": "code",
   "execution_count": 21,
   "metadata": {},
   "outputs": [],
   "source": [
    "activities_list[activities_list=='Spinning Class'] = 'High Intensive Interval Training'\n",
    "activities_list[activities_list=='Boxing Class'] = 'High Intensive Interval Training'\n",
    "activities_list[activities_list=='8 hours of manual labour (smashing rocks)'] = 'Manual Labour'\n",
    "activities_list[activities_list=='N/A manual labour'] = 'Manual Labour'\n",
    "activities_list[activities_list=='Biketrip ~40km']='Cycling for 30min or longer'\n",
    "activities_list[activities_list=='Hiking ~7h'] = 'Hiking'"
   ]
  },
  {
   "cell_type": "code",
   "execution_count": 22,
   "metadata": {},
   "outputs": [],
   "source": [
    "# count ocurrence of activities\n",
    "activities_counts = activities_list.value_counts()\n",
    "# keep only those occurring more than once\n",
    "activities_list = activities_counts[activities_counts>1].index"
   ]
  },
  {
   "cell_type": "code",
   "execution_count": 23,
   "metadata": {},
   "outputs": [
    {
     "data": {
      "text/plain": [
       "Walking for 30min or longer           23\n",
       "Cycling for 30min or longer           13\n",
       "Ball Sports                            7\n",
       "Weight Lifting                         7\n",
       "High Intensive Interval Training       6\n",
       "Running                                6\n",
       "                                       3\n",
       "Hiking                                 2\n",
       "Manual Labour                          2\n",
       "Yoga                                   2\n",
       "Nil                                    1\n",
       "Physio session 1 hour                  1\n",
       "Garden work + walking in the woods     1\n",
       "Install manual labour                  1\n",
       "Dancing with my niece 20 minutes       1\n",
       "Minimal was at airports all day        1\n",
       "Bodywork Class                         1\n",
       "Upper Body Workout                     1\n",
       "Studio                                 1\n",
       "not much activity                      1\n",
       "N/a                                    1\n",
       "Full Body Workout with Weights         1\n",
       "Swimming for 30min or longer           1\n",
       "Name: count, dtype: int64"
      ]
     },
     "execution_count": 23,
     "metadata": {},
     "output_type": "execute_result"
    }
   ],
   "source": [
    "activities_counts"
   ]
  },
  {
   "cell_type": "code",
   "execution_count": 24,
   "metadata": {},
   "outputs": [
    {
     "data": {
      "text/plain": [
       "Index(['Walking for 30min or longer', 'Cycling for 30min or longer',\n",
       "       'Ball Sports', 'Weight Lifting', 'High Intensive Interval Training',\n",
       "       'Running', '', 'Hiking', 'Manual Labour', 'Yoga'],\n",
       "      dtype='object')"
      ]
     },
     "execution_count": 24,
     "metadata": {},
     "output_type": "execute_result"
    }
   ],
   "source": [
    "activities_list.unique()"
   ]
  },
  {
   "cell_type": "code",
   "execution_count": 25,
   "metadata": {},
   "outputs": [],
   "source": [
    "def activity_in_list(row, activity):\n",
    "    if row is not None:\n",
    "        if activity in row:\n",
    "            return 1\n",
    "        else:\n",
    "            0\n",
    "    else:\n",
    "        0\n",
    "# create one column for each activity listed more than once and put 1 if it happened 0 otherwise\n",
    "for activity in activities_list:\n",
    "    df[activity] = df['physical_activity_list'].apply(lambda x: activity_in_list(x, activity)).fillna(0)\n"
   ]
  },
  {
   "cell_type": "code",
   "execution_count": 26,
   "metadata": {},
   "outputs": [],
   "source": [
    "df = df.rename(columns= {'Walking for 30min or longer': 'walking',\n",
    "'Cycling for 30min or longer': 'cycling',\n",
    "'Ball Sports': 'ball_sports',\n",
    "'Weight Lifting': 'weight_lifting',\n",
    "'Running':'running',\n",
    "'Yoga': 'yoga',\n",
    "'High Intensive Interval Training':'HITT',\n",
    "'Manual Labour': 'manual_labour',\n",
    "'Hiking':'hiking'})\n",
    "df = df.drop('',axis=1)"
   ]
  },
  {
   "cell_type": "code",
   "execution_count": 27,
   "metadata": {},
   "outputs": [],
   "source": [
    "# create lagged fatigue\n",
    "df['cis_subjective_fatigue_lead1']  = df.groupby('person')['cis_subjective_fatigue'].shift(-1)\n",
    "df['hooper_fatigue_level_lead1']  = df.groupby('person')['hooper_fatigue_level'].shift(-1)"
   ]
  },
  {
   "cell_type": "code",
   "execution_count": 48,
   "metadata": {},
   "outputs": [
    {
     "ename": "KeyError",
     "evalue": "\"['spinning'] not in index\"",
     "output_type": "error",
     "traceback": [
      "\u001b[0;31m---------------------------------------------------------------------------\u001b[0m",
      "\u001b[0;31mKeyError\u001b[0m                                  Traceback (most recent call last)",
      "Cell \u001b[0;32mIn[48], line 2\u001b[0m\n\u001b[1;32m      1\u001b[0m \u001b[38;5;66;03m# get max number of activities on a given day\u001b[39;00m\n\u001b[0;32m----> 2\u001b[0m \u001b[43mdf\u001b[49m\u001b[43m[\u001b[49m\u001b[43m[\u001b[49m\u001b[38;5;124;43m'\u001b[39;49m\u001b[38;5;124;43mwalking\u001b[39;49m\u001b[38;5;124;43m'\u001b[39;49m\u001b[43m,\u001b[49m\u001b[38;5;124;43m'\u001b[39;49m\u001b[38;5;124;43mcycling\u001b[39;49m\u001b[38;5;124;43m'\u001b[39;49m\u001b[43m,\u001b[49m\u001b[38;5;124;43m'\u001b[39;49m\u001b[38;5;124;43mball_sports\u001b[39;49m\u001b[38;5;124;43m'\u001b[39;49m\u001b[43m,\u001b[49m\u001b[38;5;124;43m'\u001b[39;49m\u001b[38;5;124;43mweight_lifting\u001b[39;49m\u001b[38;5;124;43m'\u001b[39;49m\u001b[43m,\u001b[49m\u001b[38;5;124;43m'\u001b[39;49m\u001b[38;5;124;43mrunning\u001b[39;49m\u001b[38;5;124;43m'\u001b[39;49m\u001b[43m,\u001b[49m\u001b[38;5;124;43m'\u001b[39;49m\u001b[38;5;124;43myoga\u001b[39;49m\u001b[38;5;124;43m'\u001b[39;49m\u001b[43m,\u001b[49m\u001b[38;5;124;43m'\u001b[39;49m\u001b[38;5;124;43mspinning\u001b[39;49m\u001b[38;5;124;43m'\u001b[39;49m\u001b[43m]\u001b[49m\u001b[43m]\u001b[49m\u001b[38;5;241m.\u001b[39msum(axis\u001b[38;5;241m=\u001b[39m\u001b[38;5;241m1\u001b[39m)\u001b[38;5;241m.\u001b[39mmax()\n",
      "File \u001b[0;32m~/opt/anaconda3/envs/muscles/lib/python3.8/site-packages/pandas/core/frame.py:3767\u001b[0m, in \u001b[0;36mDataFrame.__getitem__\u001b[0;34m(self, key)\u001b[0m\n\u001b[1;32m   3765\u001b[0m     \u001b[38;5;28;01mif\u001b[39;00m is_iterator(key):\n\u001b[1;32m   3766\u001b[0m         key \u001b[38;5;241m=\u001b[39m \u001b[38;5;28mlist\u001b[39m(key)\n\u001b[0;32m-> 3767\u001b[0m     indexer \u001b[38;5;241m=\u001b[39m \u001b[38;5;28;43mself\u001b[39;49m\u001b[38;5;241;43m.\u001b[39;49m\u001b[43mcolumns\u001b[49m\u001b[38;5;241;43m.\u001b[39;49m\u001b[43m_get_indexer_strict\u001b[49m\u001b[43m(\u001b[49m\u001b[43mkey\u001b[49m\u001b[43m,\u001b[49m\u001b[43m \u001b[49m\u001b[38;5;124;43m\"\u001b[39;49m\u001b[38;5;124;43mcolumns\u001b[39;49m\u001b[38;5;124;43m\"\u001b[39;49m\u001b[43m)\u001b[49m[\u001b[38;5;241m1\u001b[39m]\n\u001b[1;32m   3769\u001b[0m \u001b[38;5;66;03m# take() does not accept boolean indexers\u001b[39;00m\n\u001b[1;32m   3770\u001b[0m \u001b[38;5;28;01mif\u001b[39;00m \u001b[38;5;28mgetattr\u001b[39m(indexer, \u001b[38;5;124m\"\u001b[39m\u001b[38;5;124mdtype\u001b[39m\u001b[38;5;124m\"\u001b[39m, \u001b[38;5;28;01mNone\u001b[39;00m) \u001b[38;5;241m==\u001b[39m \u001b[38;5;28mbool\u001b[39m:\n",
      "File \u001b[0;32m~/opt/anaconda3/envs/muscles/lib/python3.8/site-packages/pandas/core/indexes/base.py:5877\u001b[0m, in \u001b[0;36mIndex._get_indexer_strict\u001b[0;34m(self, key, axis_name)\u001b[0m\n\u001b[1;32m   5874\u001b[0m \u001b[38;5;28;01melse\u001b[39;00m:\n\u001b[1;32m   5875\u001b[0m     keyarr, indexer, new_indexer \u001b[38;5;241m=\u001b[39m \u001b[38;5;28mself\u001b[39m\u001b[38;5;241m.\u001b[39m_reindex_non_unique(keyarr)\n\u001b[0;32m-> 5877\u001b[0m \u001b[38;5;28;43mself\u001b[39;49m\u001b[38;5;241;43m.\u001b[39;49m\u001b[43m_raise_if_missing\u001b[49m\u001b[43m(\u001b[49m\u001b[43mkeyarr\u001b[49m\u001b[43m,\u001b[49m\u001b[43m \u001b[49m\u001b[43mindexer\u001b[49m\u001b[43m,\u001b[49m\u001b[43m \u001b[49m\u001b[43maxis_name\u001b[49m\u001b[43m)\u001b[49m\n\u001b[1;32m   5879\u001b[0m keyarr \u001b[38;5;241m=\u001b[39m \u001b[38;5;28mself\u001b[39m\u001b[38;5;241m.\u001b[39mtake(indexer)\n\u001b[1;32m   5880\u001b[0m \u001b[38;5;28;01mif\u001b[39;00m \u001b[38;5;28misinstance\u001b[39m(key, Index):\n\u001b[1;32m   5881\u001b[0m     \u001b[38;5;66;03m# GH 42790 - Preserve name from an Index\u001b[39;00m\n",
      "File \u001b[0;32m~/opt/anaconda3/envs/muscles/lib/python3.8/site-packages/pandas/core/indexes/base.py:5941\u001b[0m, in \u001b[0;36mIndex._raise_if_missing\u001b[0;34m(self, key, indexer, axis_name)\u001b[0m\n\u001b[1;32m   5938\u001b[0m     \u001b[38;5;28;01mraise\u001b[39;00m \u001b[38;5;167;01mKeyError\u001b[39;00m(\u001b[38;5;124mf\u001b[39m\u001b[38;5;124m\"\u001b[39m\u001b[38;5;124mNone of [\u001b[39m\u001b[38;5;132;01m{\u001b[39;00mkey\u001b[38;5;132;01m}\u001b[39;00m\u001b[38;5;124m] are in the [\u001b[39m\u001b[38;5;132;01m{\u001b[39;00maxis_name\u001b[38;5;132;01m}\u001b[39;00m\u001b[38;5;124m]\u001b[39m\u001b[38;5;124m\"\u001b[39m)\n\u001b[1;32m   5940\u001b[0m not_found \u001b[38;5;241m=\u001b[39m \u001b[38;5;28mlist\u001b[39m(ensure_index(key)[missing_mask\u001b[38;5;241m.\u001b[39mnonzero()[\u001b[38;5;241m0\u001b[39m]]\u001b[38;5;241m.\u001b[39munique())\n\u001b[0;32m-> 5941\u001b[0m \u001b[38;5;28;01mraise\u001b[39;00m \u001b[38;5;167;01mKeyError\u001b[39;00m(\u001b[38;5;124mf\u001b[39m\u001b[38;5;124m\"\u001b[39m\u001b[38;5;132;01m{\u001b[39;00mnot_found\u001b[38;5;132;01m}\u001b[39;00m\u001b[38;5;124m not in index\u001b[39m\u001b[38;5;124m\"\u001b[39m)\n",
      "\u001b[0;31mKeyError\u001b[0m: \"['spinning'] not in index\""
     ]
    }
   ],
   "source": [
    "# get max number of activities on a given day\n",
    "#df[['walking','cycling','ball_sports','weight_lifting','running','yoga','spinning']].sum(axis=1).max()"
   ]
  },
  {
   "cell_type": "code",
   "execution_count": 28,
   "metadata": {},
   "outputs": [],
   "source": [
    "df.to_csv('/Users/htr365/Documents/Side_Projects/09_founding_lab/amanda_johanna/quantified_self.nosync/pipeline/survey_data/pre_processed_survey.csv')"
   ]
  },
  {
   "cell_type": "code",
   "execution_count": 25,
   "metadata": {},
   "outputs": [
    {
     "data": {
      "text/plain": [
       "Index(['timestamp', 'person', 'cis_1', 'cis_2', 'cis_3', 'cis_4', 'cis_5',\n",
       "       'cis_6', 'cis_7', 'cis_8', 'cis_9', 'cis_10', 'cis_11', 'cis_12',\n",
       "       'cis_13', 'cis_14', 'cis_15', 'cis_16', 'cis_17', 'cis_18', 'cis_19',\n",
       "       'cis_20', 'hooper_muscles_sore', 'extra_muscles_tired',\n",
       "       'hooper_sleep_quality', 'hooper_fatigue_level', 'hooper_stress_level',\n",
       "       'sleep_hours', 'coffee_count', 'physical_activity', 'step_count',\n",
       "       'f_illness', 'f_changes', 'f_day_description', 'f_measurement_comments',\n",
       "       'f_other', 'alcohol', 'fatigue_expected', 'muscles_sore_expected',\n",
       "       'muscles_tired_expected', 'date', 'cis_subjective_fatigue',\n",
       "       'cis_concentration', 'cis_motivation', 'cis_physical_activity',\n",
       "       'sleep_time', 'physical_activity_list', 'walking', 'cycling',\n",
       "       'ball_sports', 'weight_lifting', 'running', 'yoga', 'spinning',\n",
       "       'cis_subjective_fatigue_lead1', 'hooper_fatigue_level_lead1'],\n",
       "      dtype='object')"
      ]
     },
     "execution_count": 25,
     "metadata": {},
     "output_type": "execute_result"
    }
   ],
   "source": [
    "df.columns"
   ]
  },
  {
   "cell_type": "code",
   "execution_count": 78,
   "metadata": {},
   "outputs": [],
   "source": [
    "df[['person','date','cis_1', 'cis_2', 'cis_3', 'cis_4', 'cis_5',\n",
    "       'cis_6', 'cis_7', 'cis_8', 'cis_9', 'cis_10', 'cis_11', 'cis_12',\n",
    "       'cis_13', 'cis_14', 'cis_15', 'cis_16', 'cis_17', 'cis_18', 'cis_19',\n",
    "       'cis_20', 'hooper_muscles_sore', 'extra_muscles_tired',\n",
    "       'hooper_sleep_quality', 'hooper_fatigue_level', 'hooper_stress_level',\n",
    "       'sleep_hours', 'coffee_count', 'physical_activity', 'step_count','alcohol', 'fatigue_expected', 'muscles_sore_expected',\n",
    "       'muscles_tired_expected', 'cis_subjective_fatigue', 'cis_concentration',\n",
    "       'cis_motivation', 'cis_physical_activity', 'sleep_time','walking', 'cycling', 'ball_sports',\n",
    "       'weight_lifting', 'running', 'yoga', 'HITT','manual_labour','hiking', 'cis_subjective_fatigue_lead1', 'hooper_fatigue_level_lead1']].to_csv('/Users/htr365/Documents/Side_Projects/09_founding_lab/amanda_johanna/quantified_self.nosync/pipeline/survey_data/pre_processed_survey_features.csv')"
   ]
  },
  {
   "cell_type": "code",
   "execution_count": null,
   "metadata": {},
   "outputs": [],
   "source": []
  }
 ],
 "metadata": {
  "kernelspec": {
   "display_name": "muscles",
   "language": "python",
   "name": "python3"
  },
  "language_info": {
   "codemirror_mode": {
    "name": "ipython",
    "version": 3
   },
   "file_extension": ".py",
   "mimetype": "text/x-python",
   "name": "python",
   "nbconvert_exporter": "python",
   "pygments_lexer": "ipython3",
   "version": "3.8.18"
  }
 },
 "nbformat": 4,
 "nbformat_minor": 2
}
