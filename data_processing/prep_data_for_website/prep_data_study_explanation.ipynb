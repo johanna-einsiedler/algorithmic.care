{
 "cells": [
  {
   "cell_type": "markdown",
   "metadata": {},
   "source": [
    "# Prepare EMG & MMG example data for explanation on webiste\n",
    "See website \"The Study\""
   ]
  },
  {
   "cell_type": "code",
   "execution_count": 4,
   "metadata": {},
   "outputs": [],
   "source": [
    "\n",
    "import sys\n",
    "import os\n",
    "import pandas as pd\n",
    "import numpy as np\n",
    "import biosignalsnotebooks as bsnb\n",
    "import biosignalsnotebooks.signal_samples as bsnb_ss\n",
    "import re\n",
    "import pickle\n",
    "import scipy as sp\n",
    "from datetime import datetime, timedelta\n",
    "\n",
    "sys.path.append('../utils')\n",
    "\n",
    "# importing\n",
    "from feature_extraction_functions import *"
   ]
  },
  {
   "cell_type": "markdown",
   "metadata": {},
   "source": [
    "## Prepare example for illustrating pre-processing"
   ]
  },
  {
   "cell_type": "code",
   "execution_count": 5,
   "metadata": {},
   "outputs": [],
   "source": [
    "person='Johanna'\n",
    "if person =='Amanda':\n",
    "    file = '../../data/raw_data_new/AB/ABennetts_opensignals_98D311FDFF90_2024-07-24_21-40-26.h5'\n",
    "if person == 'Johanna':\n",
    "    file = '../../data/raw_data_new/JE/JE_2024-06-30_02-03-18.h5'\n"
   ]
  },
  {
   "cell_type": "code",
   "execution_count": 13,
   "metadata": {},
   "outputs": [],
   "source": [
    "data, header = bsnb_ss.load(file, get_header=True)\n",
    "sr = header[\"sampling rate\"] # Sampling rate\n",
    "resolution = header[\"resolution\"] \n",
    "signal_emg = data['CH1']\n",
    "signal_mmg = data['CH2']\n"
   ]
  },
  {
   "cell_type": "code",
   "execution_count": 14,
   "metadata": {},
   "outputs": [],
   "source": [
    "# get time\n",
    "time = bsnb.generate_time(signal_emg,sr)\n"
   ]
  },
  {
   "cell_type": "code",
   "execution_count": 15,
   "metadata": {},
   "outputs": [],
   "source": [
    "# apply burst detection algorithm\n",
    "burst_begin, burst_end = bsnb.detect_emg_activations(signal_emg,sr, smooth_level=20, threshold_level=10, \n",
    "                                                    time_units=True)[:2]\n",
    "                                            \n",
    "startTabata = burst_begin[burst_begin>30][0]  -30"
   ]
  },
  {
   "cell_type": "code",
   "execution_count": 16,
   "metadata": {},
   "outputs": [],
   "source": [
    "# downsample signal for faster loading on website\n",
    "signal_emg = signal_emg[::50]\n",
    "signal_mmg = signal_mmg[::50]\n",
    "time = time[::50]\n"
   ]
  },
  {
   "cell_type": "code",
   "execution_count": 17,
   "metadata": {},
   "outputs": [],
   "source": [
    "emg_raw = pd.DataFrame([time,signal_emg]).T.rename(columns={0:'Time',1:'Signal'})\n",
    "emg_raw['Signal type'] ='EMG'\n",
    "\n",
    "mmg_raw = pd.DataFrame([time,signal_mmg]).T.rename(columns={0:'Time',1:'Signal'})\n",
    "mmg_raw['Signal type'] = 'MMG'\n",
    "raw = pd.concat([emg_raw,mmg_raw])\n",
    "raw['Processing stage'] = 'Raw signal'"
   ]
  },
  {
   "cell_type": "code",
   "execution_count": 18,
   "metadata": {},
   "outputs": [],
   "source": [
    "# Baseline shift.\n",
    "signal_emg_base = np.array(signal_emg) - np.mean( signal_emg)\n",
    "#emg_base = pd.DataFrame([time,signal_emg_base]).T.rename(columns={0:'Time',1:'Signal'})\n",
    "#emg_base['Signal type'] = 'EMG'\n",
    "\n",
    "signal_mmg_base = np.array(signal_mmg) - np.mean( signal_mmg)\n",
    "#mmg_base = pd.DataFrame([time,signal_mmg_base]).T.rename(columns={0:'Time',1:'Signal'})\n",
    "#mmg_base['Signal type'] = 'MMG'\n",
    "\n",
    "#base = pd.concat([emg_base,mmg_base])\n",
    "#base['stage'] = 'base'\n",
    "\n",
    "# create bandpass filter for EMG of order 4\n",
    "signal_emg_bandpass = bsnb.bandpass(signal_emg_base,f1=20,f2=450,  order=4, fs=1000,use_filtfilt=True)\n",
    "emg_bandpass = pd.DataFrame([time,signal_emg_bandpass]).T.rename(columns={0:'Time',1:'Signal'})\n",
    "emg_bandpass['Signal type'] = 'EMG'\n",
    "signal_mmg_bandpass = bsnb.bandpass(signal_mmg_base,f1=2,f2=50,  order=4, fs=1000,use_filtfilt=True)\n",
    "mmg_bandpass = pd.DataFrame([time,signal_mmg_bandpass]).T.rename(columns={0:'Time',1:'Signal'})\n",
    "mmg_bandpass['Signal type'] = 'MMG'\n",
    "\n",
    "bandpass= pd.concat([emg_bandpass,mmg_bandpass])\n",
    "bandpass['Processing stage'] = 'Bandpass filter'\n",
    "\n"
   ]
  },
  {
   "cell_type": "code",
   "execution_count": 19,
   "metadata": {},
   "outputs": [],
   "source": [
    "# rectification\n",
    "signal_emg_rect = np.abs(signal_emg_bandpass)\n",
    "emg_rect = pd.DataFrame([time,signal_emg_rect]).T.rename(columns={0:'Time',1:'Signal'})\n",
    "emg_rect['Signal type'] = 'EMG'\n",
    "\n",
    "signal_mmg_rect = np.abs(signal_mmg_bandpass)\n",
    "mmg_rect = pd.DataFrame([time,signal_mmg_rect]).T.rename(columns={0:'Time',1:'Signal'})\n",
    "mmg_rect['Signal type'] ='MMG'\n",
    "\n",
    "rect = pd.concat([emg_rect, mmg_rect])\n",
    "rect['Processing stage'] = 'Rectified signal'"
   ]
  },
  {
   "cell_type": "code",
   "execution_count": 20,
   "metadata": {},
   "outputs": [],
   "source": [
    "# amplitude normalization\n",
    "signal_emg_norm = signal_emg_rect/np.max(signal_emg_rect)\n",
    "emg_norm = pd.DataFrame([time,signal_emg_norm]).T.rename(columns={0:'Time',1:'Signal'})\n",
    "emg_norm['Signal type'] = 'EMG'\n",
    "\n",
    "signal_mmg_norm = signal_mmg_rect/np.max(signal_mmg_rect)\n",
    "mmg_norm = pd.DataFrame([time,signal_mmg_norm]).T.rename(columns={0:'Time',1:'Signal'})\n",
    "mmg_norm['Signal type'] ='MMG'\n",
    "\n",
    "norm = pd.concat([emg_norm, mmg_norm],axis=0)\n",
    "norm['Processing stage'] = 'Normalized signal'"
   ]
  },
  {
   "cell_type": "code",
   "execution_count": 21,
   "metadata": {},
   "outputs": [],
   "source": [
    "\n",
    "\n",
    "\n",
    "raw.to_csv('../../website/docs/data/'+person.lower()+'_raw_emg_example.csv')\n",
    "bandpass.to_csv('../../website/docs/data/'+person.lower()+'_bandpass_emg_example.csv')\n",
    "rect.to_csv('../../website/docs/data/'+person.lower()+'_rect_emg_example.csv')\n",
    "norm.to_csv('../../website/docs/data/'+person.lower()+'_norm_emg_example.csv')"
   ]
  },
  {
   "cell_type": "markdown",
   "metadata": {},
   "source": [
    "# Prepare examples for illustration of feature extraction"
   ]
  },
  {
   "cell_type": "code",
   "execution_count": 10,
   "metadata": {},
   "outputs": [],
   "source": [
    "df = pd.read_pickle('../../../data/data_pre_processed/AB/2024-06-25_AM.pickle')"
   ]
  },
  {
   "cell_type": "code",
   "execution_count": 11,
   "metadata": {},
   "outputs": [],
   "source": [
    "sr=1000\n",
    "frame=500\n",
    "step=250\n",
    "df_features_emg = features_estimation(df['signal_emg'], '', sr, frame,step, plot=False)[0]\n",
    "df_features_emg = df_features_emg.transpose()\n",
    "\n",
    "\n",
    "df_features_mmg = features_estimation(df['signal_mmg'], '', sr, frame, step, plot=False)[0]\n",
    "df_features_mmg = df_features_mmg.transpose()\n",
    "#df_features = pd.concat([df_features_emg,df_features_mmg.drop(['START','END'],axis=1)],axis=1)"
   ]
  },
  {
   "cell_type": "code",
   "execution_count": 12,
   "metadata": {},
   "outputs": [],
   "source": [
    "df_features_emg = df_features_emg.rename(columns={'VAR_':'Variance', 'RMS_':'Root Mean Square', 'IEMG_': 'Integral', 'MAV_': 'Mean Absolute Value',\\\n",
    "                                'LOG_':'Log Detector', 'WL_':'Wavelength','ACC_':'Average Amplitude Change','DASDV_':'Difference Absolute Standard Deviation',\\\n",
    "                                    'WAMP_': 'Willison Amplitude', 'MYOP_':'Myopulse Percentage Rate','FR_':'Frequency Ratio', 'MNP_':'Mean Power','TP_':'Total Power',\\\n",
    "                                        'MNF_':'Mean Frequency','MDF_': 'Median Frequency','WENT_':'Wavelet Energy'})\n",
    "\n",
    "df_features_mmg = df_features_mmg.rename(columns={'VAR_':'Variance', 'RMS_':'Root Mean Square', 'IEMG_': 'Integral', 'MAV_': 'Mean Absolute Value',\\\n",
    "                                'LOG_':'Log Detector', 'WL_':'Wavelength','ACC_':'Average Amplitude Change','DASDV_':'Difference Absolute Standard Deviation',\\\n",
    "                                    'WAMP_': 'Willison Amplitude', 'MYOP_':'Myopulse Percentage Rate','FR_':'Frequency Ratio', 'MNP_':'Mean Power','TP_':'Total Power',\\\n",
    "                                        'MNF_':'Mean Frequency','MDF_': 'Median Frequency','WENT_':'Wavelet Energy'})"
   ]
  },
  {
   "cell_type": "code",
   "execution_count": 13,
   "metadata": {},
   "outputs": [],
   "source": [
    "df_features_emg_norm = df_features_emg.drop(['START','END'],axis=1) / df_features_emg.drop(['START','END'],axis=1).max(axis=0)\n",
    "df_features_emg = pd.concat([df_features_emg[['START','END']],df_features_emg_norm],axis=1)\n",
    "\n",
    "df_features_mmg_norm = df_features_mmg.drop(['START','END'],axis=1) / df_features_mmg.drop(['START','END'],axis=1).max(axis=0)\n",
    "df_features_mmg = pd.concat([df_features_mmg[['START','END']],df_features_mmg_norm],axis=1)"
   ]
  },
  {
   "cell_type": "code",
   "execution_count": 14,
   "metadata": {},
   "outputs": [],
   "source": [
    "df_features_emg_long = pd.melt(df_features_emg, id_vars=['START','END'],\n",
    "                    var_name='variable', value_name='value')\n",
    "df_features_emg_long['Signal Type'] ='EMG'\n",
    "df_features_mmg_long = pd.melt(df_features_mmg, id_vars=['START','END'],\n",
    "                    var_name='variable', value_name='value')\n",
    "df_features_mmg_long['Signal Type'] ='MMG'\n"
   ]
  },
  {
   "cell_type": "code",
   "execution_count": 15,
   "metadata": {},
   "outputs": [],
   "source": [
    "df_features_long = pd.concat([df_features_emg_long,df_features_mmg_long],axis=0)"
   ]
  },
  {
   "cell_type": "code",
   "execution_count": 20,
   "metadata": {},
   "outputs": [],
   "source": [
    "df_features_light = df_features_long[(df_features_long['variable'] != 'Variance') &( df_features_long['variable']!='Median Frequency')& ( df_features_long['variable']!='Difference Absolute Standard Deviation')]"
   ]
  },
  {
   "cell_type": "code",
   "execution_count": 22,
   "metadata": {},
   "outputs": [],
   "source": [
    "df_features_light.to_csv('../../website/docs/data/amanda_features_example.csv')"
   ]
  },
  {
   "cell_type": "code",
   "execution_count": null,
   "metadata": {},
   "outputs": [],
   "source": []
  }
 ],
 "metadata": {
  "kernelspec": {
   "display_name": "muscles",
   "language": "python",
   "name": "python3"
  },
  "language_info": {
   "codemirror_mode": {
    "name": "ipython",
    "version": 3
   },
   "file_extension": ".py",
   "mimetype": "text/x-python",
   "name": "python",
   "nbconvert_exporter": "python",
   "pygments_lexer": "ipython3",
   "version": "3.8.18"
  }
 },
 "nbformat": 4,
 "nbformat_minor": 2
}
