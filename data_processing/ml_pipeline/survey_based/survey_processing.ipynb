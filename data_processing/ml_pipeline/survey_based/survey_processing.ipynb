{
 "cells": [
  {
   "cell_type": "code",
   "execution_count": 30,
   "metadata": {},
   "outputs": [],
   "source": [
    "import sys\n",
    "import os\n",
    "import pandas as pd\n",
    "import numpy as np\n",
    "import biosignalsnotebooks as bsnb\n",
    "import biosignalsnotebooks.signal_samples as bsnb_ss\n",
    "import re\n",
    "import pickle\n",
    "import scipy as sp\n",
    "import datetime"
   ]
  },
  {
   "cell_type": "code",
   "execution_count": 31,
   "metadata": {},
   "outputs": [],
   "source": [
    "df = pd.read_csv('/Users/htr365/no_icloud/quantified_self_all/data/survey_data/raw_survey_data.csv')"
   ]
  },
  {
   "cell_type": "code",
   "execution_count": 32,
   "metadata": {},
   "outputs": [],
   "source": [
    "names = ['timestamp','person']  + [f'cis_{i}' for i in range(1, 21)] \\\n",
    "+ ['hooper_muscles_sore','extra_muscles_tired','hooper_sleep_quality','hooper_fatigue_level','hooper_stress_level']  \\\n",
    "+ ['sleep_hours','coffee_count','physical_activity','step_count'] \\\n",
    "+ ['f_illness','f_changes','f_day_description','f_measurement_comments','f_other']  \\\n",
    "+ ['alcohol','fatigue_expected','X','muscles_sore_expected','muscles_tired_expected'] "
   ]
  },
  {
   "cell_type": "code",
   "execution_count": 33,
   "metadata": {},
   "outputs": [
    {
     "data": {
      "text/html": [
       "<div>\n",
       "<style scoped>\n",
       "    .dataframe tbody tr th:only-of-type {\n",
       "        vertical-align: middle;\n",
       "    }\n",
       "\n",
       "    .dataframe tbody tr th {\n",
       "        vertical-align: top;\n",
       "    }\n",
       "\n",
       "    .dataframe thead th {\n",
       "        text-align: right;\n",
       "    }\n",
       "</style>\n",
       "<table border=\"1\" class=\"dataframe\">\n",
       "  <thead>\n",
       "    <tr style=\"text-align: right;\">\n",
       "      <th></th>\n",
       "      <th>timestamp</th>\n",
       "      <th>person</th>\n",
       "      <th>cis_1</th>\n",
       "      <th>cis_2</th>\n",
       "      <th>cis_3</th>\n",
       "      <th>cis_4</th>\n",
       "      <th>cis_5</th>\n",
       "      <th>cis_6</th>\n",
       "      <th>cis_7</th>\n",
       "      <th>cis_8</th>\n",
       "      <th>...</th>\n",
       "      <th>f_illness</th>\n",
       "      <th>f_changes</th>\n",
       "      <th>f_day_description</th>\n",
       "      <th>f_measurement_comments</th>\n",
       "      <th>f_other</th>\n",
       "      <th>alcohol</th>\n",
       "      <th>fatigue_expected</th>\n",
       "      <th>X</th>\n",
       "      <th>muscles_sore_expected</th>\n",
       "      <th>muscles_tired_expected</th>\n",
       "    </tr>\n",
       "  </thead>\n",
       "  <tbody>\n",
       "    <tr>\n",
       "      <th>0</th>\n",
       "      <td>24/06/2024 23:40:05</td>\n",
       "      <td>Johanna</td>\n",
       "      <td>Disagree</td>\n",
       "      <td>Strongly agree</td>\n",
       "      <td>Disagree</td>\n",
       "      <td>Strongly agree</td>\n",
       "      <td>Strongly agree</td>\n",
       "      <td>Strongly agree</td>\n",
       "      <td>Somewhat agree</td>\n",
       "      <td>Somewhat agree</td>\n",
       "      <td>...</td>\n",
       "      <td>NaN</td>\n",
       "      <td>NaN</td>\n",
       "      <td>measurement + work from home ~1h\\n20min cycle ...</td>\n",
       "      <td>- first measurement I did without button, prot...</td>\n",
       "      <td>this was a bit of a test day</td>\n",
       "      <td>NaN</td>\n",
       "      <td>NaN</td>\n",
       "      <td>NaN</td>\n",
       "      <td>NaN</td>\n",
       "      <td>NaN</td>\n",
       "    </tr>\n",
       "    <tr>\n",
       "      <th>1</th>\n",
       "      <td>25/06/2024 13:52:02</td>\n",
       "      <td>Amanda</td>\n",
       "      <td>Somewhat agree</td>\n",
       "      <td>Neither agree or disagree</td>\n",
       "      <td>Somewhat disagree</td>\n",
       "      <td>Somewhat disagree</td>\n",
       "      <td>Somewhat agree</td>\n",
       "      <td>Somewhat agree</td>\n",
       "      <td>Neither agree or disagree</td>\n",
       "      <td>Somewhat disagree</td>\n",
       "      <td>...</td>\n",
       "      <td>No, sore muscles and inflamed hand.</td>\n",
       "      <td>No</td>\n",
       "      <td>Travelled to Brisbane 2 hours, install show 6 ...</td>\n",
       "      <td>Did first measurement twice as I wasn't on the...</td>\n",
       "      <td>Only 29 days to go!!!!</td>\n",
       "      <td>NaN</td>\n",
       "      <td>NaN</td>\n",
       "      <td>NaN</td>\n",
       "      <td>NaN</td>\n",
       "      <td>NaN</td>\n",
       "    </tr>\n",
       "    <tr>\n",
       "      <th>2</th>\n",
       "      <td>25/06/2024 22:33:22</td>\n",
       "      <td>Johanna</td>\n",
       "      <td>Disagree</td>\n",
       "      <td>Agree</td>\n",
       "      <td>Disagree</td>\n",
       "      <td>Neither agree or disagree</td>\n",
       "      <td>Somewhat agree</td>\n",
       "      <td>Somewhat agree</td>\n",
       "      <td>Neither agree or disagree</td>\n",
       "      <td>Agree</td>\n",
       "      <td>...</td>\n",
       "      <td>no</td>\n",
       "      <td>NaN</td>\n",
       "      <td>- 20min yoga stretching\\n- 20min cycling to wo...</td>\n",
       "      <td>pedometer showed 10500 steps, phone showed 140...</td>\n",
       "      <td>NaN</td>\n",
       "      <td>no alcohol</td>\n",
       "      <td>NaN</td>\n",
       "      <td>NaN</td>\n",
       "      <td>NaN</td>\n",
       "      <td>NaN</td>\n",
       "    </tr>\n",
       "    <tr>\n",
       "      <th>3</th>\n",
       "      <td>26/06/2024 13:51:24</td>\n",
       "      <td>Amanda</td>\n",
       "      <td>Agree</td>\n",
       "      <td>Somewhat disagree</td>\n",
       "      <td>Agree</td>\n",
       "      <td>Agree</td>\n",
       "      <td>Somewhat disagree</td>\n",
       "      <td>Somewhat disagree</td>\n",
       "      <td>Somewhat agree</td>\n",
       "      <td>Disagree</td>\n",
       "      <td>...</td>\n",
       "      <td>Yes, dizzy, fatigued sore muscles</td>\n",
       "      <td>Not really different from yesterday</td>\n",
       "      <td>Install exhibition</td>\n",
       "      <td>Could not get open signals to work in PM</td>\n",
       "      <td>NaN</td>\n",
       "      <td>no alcohol</td>\n",
       "      <td>NaN</td>\n",
       "      <td>NaN</td>\n",
       "      <td>NaN</td>\n",
       "      <td>NaN</td>\n",
       "    </tr>\n",
       "    <tr>\n",
       "      <th>4</th>\n",
       "      <td>27/06/2024 01:17:04</td>\n",
       "      <td>Johanna</td>\n",
       "      <td>Disagree</td>\n",
       "      <td>Somewhat disagree</td>\n",
       "      <td>Disagree</td>\n",
       "      <td>Disagree</td>\n",
       "      <td>Somewhat agree</td>\n",
       "      <td>Somewhat agree</td>\n",
       "      <td>Somewhat agree</td>\n",
       "      <td>Agree</td>\n",
       "      <td>...</td>\n",
       "      <td>NaN</td>\n",
       "      <td>NaN</td>\n",
       "      <td>cycled to work 20min\\nworked 2.5 hours, lunch ...</td>\n",
       "      <td>Wasn't able to conduct a measurement in the ev...</td>\n",
       "      <td>NaN</td>\n",
       "      <td>no alcohol</td>\n",
       "      <td>NaN</td>\n",
       "      <td>NaN</td>\n",
       "      <td>NaN</td>\n",
       "      <td>NaN</td>\n",
       "    </tr>\n",
       "  </tbody>\n",
       "</table>\n",
       "<p>5 rows × 41 columns</p>\n",
       "</div>"
      ],
      "text/plain": [
       "             timestamp   person           cis_1                      cis_2  \\\n",
       "0  24/06/2024 23:40:05  Johanna        Disagree             Strongly agree   \n",
       "1  25/06/2024 13:52:02   Amanda  Somewhat agree  Neither agree or disagree   \n",
       "2  25/06/2024 22:33:22  Johanna        Disagree                      Agree   \n",
       "3  26/06/2024 13:51:24   Amanda           Agree          Somewhat disagree   \n",
       "4  27/06/2024 01:17:04  Johanna        Disagree          Somewhat disagree   \n",
       "\n",
       "               cis_3                      cis_4              cis_5  \\\n",
       "0           Disagree             Strongly agree     Strongly agree   \n",
       "1  Somewhat disagree          Somewhat disagree     Somewhat agree   \n",
       "2           Disagree  Neither agree or disagree     Somewhat agree   \n",
       "3              Agree                      Agree  Somewhat disagree   \n",
       "4           Disagree                   Disagree     Somewhat agree   \n",
       "\n",
       "               cis_6                      cis_7              cis_8  ...  \\\n",
       "0     Strongly agree             Somewhat agree     Somewhat agree  ...   \n",
       "1     Somewhat agree  Neither agree or disagree  Somewhat disagree  ...   \n",
       "2     Somewhat agree  Neither agree or disagree              Agree  ...   \n",
       "3  Somewhat disagree             Somewhat agree           Disagree  ...   \n",
       "4     Somewhat agree             Somewhat agree              Agree  ...   \n",
       "\n",
       "                              f_illness                            f_changes  \\\n",
       "0                                   NaN                                  NaN   \n",
       "1  No, sore muscles and inflamed hand.                                    No   \n",
       "2                                    no                                  NaN   \n",
       "3     Yes, dizzy, fatigued sore muscles  Not really different from yesterday   \n",
       "4                                   NaN                                  NaN   \n",
       "\n",
       "                                   f_day_description  \\\n",
       "0  measurement + work from home ~1h\\n20min cycle ...   \n",
       "1  Travelled to Brisbane 2 hours, install show 6 ...   \n",
       "2  - 20min yoga stretching\\n- 20min cycling to wo...   \n",
       "3                                 Install exhibition   \n",
       "4  cycled to work 20min\\nworked 2.5 hours, lunch ...   \n",
       "\n",
       "                              f_measurement_comments  \\\n",
       "0  - first measurement I did without button, prot...   \n",
       "1  Did first measurement twice as I wasn't on the...   \n",
       "2  pedometer showed 10500 steps, phone showed 140...   \n",
       "3           Could not get open signals to work in PM   \n",
       "4  Wasn't able to conduct a measurement in the ev...   \n",
       "\n",
       "                        f_other     alcohol fatigue_expected   X  \\\n",
       "0  this was a bit of a test day         NaN              NaN NaN   \n",
       "1        Only 29 days to go!!!!         NaN              NaN NaN   \n",
       "2                           NaN  no alcohol              NaN NaN   \n",
       "3                           NaN  no alcohol              NaN NaN   \n",
       "4                           NaN  no alcohol              NaN NaN   \n",
       "\n",
       "  muscles_sore_expected muscles_tired_expected  \n",
       "0                   NaN                    NaN  \n",
       "1                   NaN                    NaN  \n",
       "2                   NaN                    NaN  \n",
       "3                   NaN                    NaN  \n",
       "4                   NaN                    NaN  \n",
       "\n",
       "[5 rows x 41 columns]"
      ]
     },
     "execution_count": 33,
     "metadata": {},
     "output_type": "execute_result"
    }
   ],
   "source": [
    "df.columns = names\n",
    "df.head()"
   ]
  },
  {
   "cell_type": "code",
   "execution_count": 34,
   "metadata": {},
   "outputs": [],
   "source": [
    "# drop unnecessary column\n",
    "df = df.drop('X',axis=1)"
   ]
  },
  {
   "cell_type": "code",
   "execution_count": 35,
   "metadata": {},
   "outputs": [
    {
     "name": "stderr",
     "output_type": "stream",
     "text": [
      "/var/folders/m2/yy15wc4d3zqdtsvvvggmkn780000gp/T/ipykernel_45405/1856565900.py:2: UserWarning: Parsing dates in %d/%m/%Y %H:%M:%S format when dayfirst=False (the default) was specified. Pass `dayfirst=True` or specify a format to silence this warning.\n",
      "  df['timestamp'] = pd.to_datetime(df['timestamp'])\n"
     ]
    }
   ],
   "source": [
    "# convert to datetime and create date variable\n",
    "df['timestamp'] = pd.to_datetime(df['timestamp'])\n",
    "df['date'] = df['timestamp'].dt.date"
   ]
  },
  {
   "cell_type": "code",
   "execution_count": 36,
   "metadata": {},
   "outputs": [],
   "source": [
    "# adjust for measurement errors\n",
    "# Amanda, 17th of July: This survey is for the 16.07. Forgot to press SUBMIT \n",
    "df.loc[(df['date']==datetime.date(2024,7,17))* (df['person']=='Amanda'),'date'] = datetime.date(2024,7,16)\n",
    "\n",
    "# Amanda, 18th of July: THIS IS FOR 17th. NOT 18th\n",
    "df.loc[(df['timestamp']==datetime.datetime(2024,7,18,12,20,48))* (df['person']=='Amanda'),'date'] = datetime.date(2024,7,17)\n",
    "\n",
    "# Amanda 21st of July\n",
    "df.loc[(df['timestamp']==datetime.datetime(2024,7,21,11,1,52))* (df['person']=='Amanda'),'date']= datetime.date(2024,7,20)\n",
    "\n",
    "# Amnda 24th of July\n",
    "df.loc[(df['timestamp']==datetime.datetime(2024,7,24,5,44,48))* (df['person']=='Amanda'),'date']= datetime.date(2024,7,23)\n",
    "\n",
    "# Amanda 31st of July\n",
    "df.loc[(df['timestamp']==datetime.datetime(2024,7,31,7,19,13))* (df['person']=='Amanda'),'date']= datetime.date(2024,7,30)\n",
    "\n",
    "# Amanda 3rd of August\n",
    "df.loc[(df['timestamp']==datetime.datetime(2024,8,3,7,7,44))* (df['person']=='Amanda'),'date']= datetime.date(2024,8,2)\n",
    "\n",
    "# Amanda 4th of August\n",
    "df.loc[(df['timestamp']==datetime.datetime(2024,8,4,20,14,27))* (df['person']=='Amanda'),'date']= datetime.date(2024,8,3)\n",
    "\n",
    "# Amanda 5th of August\n",
    "df.loc[(df['timestamp']==datetime.datetime(2024,8,5,22,43,50))* (df['person']=='Amanda'),'date']= datetime.date(2024,8,4)\n",
    "\n",
    "# Amanda 6th of August\n",
    "df.loc[(df['timestamp']==datetime.datetime(2024,8,8,7,35,43))* (df['person']=='Amanda'),'date']= datetime.date(2024,8,6)\n",
    "# Amanda 7th of August\n",
    "df.loc[(df['timestamp']==datetime.datetime(2024,8,8,7,39,58))* (df['person']=='Amanda'),'date']= datetime.date(2024,8,7)\n",
    "\n",
    "# Amanda 9th of August\n",
    "df.loc[(df['timestamp']==datetime.datetime(2024,8,9,17,56,16))* (df['person']=='Amanda'),'date']= datetime.date(2024,8,8)\n",
    "\n",
    "# Amanda 10th of August\n",
    "df.loc[(df['timestamp']==datetime.datetime(2024,8,10,22,5,14))* (df['person']=='Amanda'),'date']= datetime.date(2024,8,9)\n",
    "\n",
    "# Amanda 12th of August\n",
    "df.loc[(df['timestamp']==datetime.datetime(2024,8,12,21,1,37))* (df['person']=='Amanda'),'date']= datetime.date(2024,8,11)\n",
    "\n",
    "\n",
    "# Amanda 13th of August\n",
    "df.loc[(df['timestamp']==datetime.datetime(2024,8,13,7,53,24))* (df['person']=='Amanda'),'date']= datetime.date(2024,8,12)\n",
    "\n",
    "\n",
    "df.loc[(df['timestamp']==datetime.datetime(2024,8,14,22,30,5))* (df['person']=='Amanda'),'date']= datetime.date(2024,8,13)\n",
    "\n",
    "# correct for Johanna often taken the survey after midnight\n",
    "df['date'] = np.where((df['person']=='Johanna')*(df['timestamp'].dt.hour<20),df['date']-datetime.timedelta(days=1),df['date'])\n"
   ]
  },
  {
   "cell_type": "code",
   "execution_count": 37,
   "metadata": {},
   "outputs": [],
   "source": [
    "# convert cis  items + hooper items + extra question to numeric scale\n",
    "\n",
    "agree_likert_scale = {'strongly disagree': 1,\n",
    "                'disagree': 2,\n",
    "                'somewhat disagree': 3,\n",
    "                'neither agree or disagree': 4,\n",
    "                'somewhat agree': 5,\n",
    "                'agree': 6,\n",
    "                'strongly agree': 7}\n",
    "\n",
    "agree_likert_scale_reverse = {'strongly disagree': 7,\n",
    "                'disagree': 6,\n",
    "                'somewhat disagree': 5,\n",
    "                'neither agree or disagree': 4,\n",
    "                'somewhat agree': 3,\n",
    "                'agree': 2,\n",
    "                'strongly agree': 1}\n",
    "\n",
    "quality_likert_scale = {'very poor': 1,\n",
    "                'poor': 2,\n",
    "                'below average': 3,\n",
    "                'average': 4,\n",
    "                'above average': 5,\n",
    "                'good': 6,\n",
    "                'excellent': 7}\n",
    "\n",
    "intensity_likert_scale = {'very low': 1,\n",
    "                'low': 2,\n",
    "                'below average': 3,\n",
    "                'average': 4,\n",
    "                'above average': 5,\n",
    "                'high': 6,\n",
    "                'very high': 7}\n",
    "\n",
    "# fetch columns to change\n",
    "items_agree = ['cis_1', 'cis_2','cis_4','cis_5', 'cis_7','cis_8','cis_9','cis_11','cis_14','cis_15','cis_16'] + ['hooper_muscles_sore','extra_muscles_tired','muscles_sore_expected','muscles_tired_expected']\n",
    "items_agree_reverse = ['cis_3', 'cis_6','cis_10','cis_12', 'cis_13','cis_17','cis_18','cis_19','cis_20']\n",
    "\n",
    "#'cis_5','cis_6','cis_7','cis_8','cis_11','cis_12','cis_15','cis_20']\n",
    "\n",
    "items_quality = ['hooper_sleep_quality']\n",
    "items_intensity = ['hooper_fatigue_level','hooper_stress_level','fatigue_expected']\n",
    "# convert to numeric\n",
    "df[items_agree] = df[items_agree].applymap(lambda x: x.lower() if isinstance(x, str) else x).replace(agree_likert_scale).apply(pd.to_numeric, errors='coerce')\n",
    "df[items_agree_reverse] = df[items_agree_reverse].applymap(lambda x: x.lower() if isinstance(x, str) else x).replace(agree_likert_scale_reverse).apply(pd.to_numeric, errors='coerce')\n",
    "df[items_quality] = df[items_quality].applymap(lambda x: x.lower() if isinstance(x, str) else x).replace(quality_likert_scale).apply(pd.to_numeric, errors='coerce')\n",
    "df[items_intensity] = df[items_intensity].applymap(lambda x: x.lower() if isinstance(x, str) else x).replace(intensity_likert_scale).apply(pd.to_numeric, errors='coerce')"
   ]
  },
  {
   "cell_type": "code",
   "execution_count": 38,
   "metadata": {},
   "outputs": [],
   "source": [
    "# subscales of CIS\n",
    "# Subjective feeling of fatigue items 1, 4, 6, 9, 12, 14, 16, 20\n",
    "df['cis_subjective_fatigue'] = df[[f'cis_{i}' for i in [1,4,6,9,12,14,16,20]]].mean(axis=1)\n",
    "\n",
    "# Concentration items 3, 8, 11, 13, 19\n",
    "df['cis_concentration'] = df[[f'cis_{i}' for i in [3,8,11,13,19]]].mean(axis=1)\n",
    "\n",
    "# Motivation items 2, 5, 15, 18\n",
    "df['cis_motivation'] = df[[f'cis_{i}' for i in [2,5,15,18]]].mean(axis=1)\n",
    "\n",
    "# Physical activity items 7, 10, 17\n",
    "df['cis_physical_activity'] = df[[f'cis_{i}' for i in [7,10,17]]].mean(axis=1)"
   ]
  },
  {
   "cell_type": "code",
   "execution_count": 39,
   "metadata": {},
   "outputs": [],
   "source": [
    "# map alcohol consumption to numeric values\n",
    "alcohol_dict = {'no alcohol': 0,\n",
    "            'one light alcoholic drink (e.g. beer, wine)': 1,\n",
    "            'two light alcoholic drinks or one strong alcoholic drink (e.g. cocktail, shot)': 2,\n",
    "             'more than three alcoholic drinks':3\n",
    "            }\n",
    "df['alcohol'] = df['alcohol'].map(alcohol_dict).fillna(0)"
   ]
  },
  {
   "cell_type": "code",
   "execution_count": 40,
   "metadata": {},
   "outputs": [
    {
     "name": "stderr",
     "output_type": "stream",
     "text": [
      "/var/folders/m2/yy15wc4d3zqdtsvvvggmkn780000gp/T/ipykernel_45405/3856294496.py:2: UserWarning: Could not infer format, so each element will be parsed individually, falling back to `dateutil`. To ensure parsing is consistent and as-expected, please specify a format.\n",
      "  df['sleep_time'] = pd.to_datetime(df['sleep_hours']).dt.hour*60 +pd.to_datetime(df['sleep_hours']).dt.minute\n",
      "/var/folders/m2/yy15wc4d3zqdtsvvvggmkn780000gp/T/ipykernel_45405/3856294496.py:2: UserWarning: Could not infer format, so each element will be parsed individually, falling back to `dateutil`. To ensure parsing is consistent and as-expected, please specify a format.\n",
      "  df['sleep_time'] = pd.to_datetime(df['sleep_hours']).dt.hour*60 +pd.to_datetime(df['sleep_hours']).dt.minute\n"
     ]
    }
   ],
   "source": [
    "# convert sleep time to minutes\n",
    "df['sleep_time'] = pd.to_datetime(df['sleep_hours']).dt.hour*60 +pd.to_datetime(df['sleep_hours']).dt.minute"
   ]
  },
  {
   "cell_type": "code",
   "execution_count": 41,
   "metadata": {},
   "outputs": [],
   "source": [
    "def split_physical_activity(cell):\n",
    "    if isinstance(cell, str):\n",
    "        list_activities = cell.split(',')\n",
    "        for i in range(len(list_activities)):\n",
    "            list_activities[i] = list_activities[i].strip()\n",
    "        return list_activities\n",
    "\n",
    "# convert physical activites from string list to actual list\n",
    "df['physical_activity_list'] = df['physical_activity'].apply(split_physical_activity)"
   ]
  },
  {
   "cell_type": "code",
   "execution_count": 42,
   "metadata": {},
   "outputs": [],
   "source": [
    "activities_list = []\n",
    "for i in range(len(df['physical_activity_list'])):\n",
    "    if df.loc[i, 'physical_activity_list'] is not None:\n",
    "        activities_list += df.loc[i, 'physical_activity_list']\n",
    "\n",
    "activities_list = pd.Series(activities_list)\n"
   ]
  },
  {
   "cell_type": "code",
   "execution_count": 43,
   "metadata": {},
   "outputs": [],
   "source": [
    "activities_list[activities_list=='Spinning Class'] = 'High Intensive Interval Training'\n",
    "activities_list[activities_list=='Boxing Class'] = 'High Intensive Interval Training'\n",
    "activities_list[activities_list=='8 hours of manual labour (smashing rocks)'] = 'Manual Labour'\n",
    "activities_list[activities_list=='N/A manual labour'] = 'Manual Labour'\n",
    "activities_list[activities_list=='Biketrip ~40km']='Cycling for 30min or longer'\n",
    "activities_list[activities_list=='Hiking ~7h'] = 'Hiking'"
   ]
  },
  {
   "cell_type": "code",
   "execution_count": 44,
   "metadata": {},
   "outputs": [],
   "source": [
    "# count ocurrence of activities\n",
    "activities_counts = activities_list.value_counts()\n",
    "# keep only those occurring more than once\n",
    "activities_list = activities_counts[activities_counts>1].index"
   ]
  },
  {
   "cell_type": "code",
   "execution_count": 45,
   "metadata": {},
   "outputs": [
    {
     "data": {
      "text/plain": [
       "Walking for 30min or longer                                     40\n",
       "Cycling for 30min or longer                                     13\n",
       "Weight Lifting                                                   7\n",
       "Ball Sports                                                      7\n",
       "Running                                                          7\n",
       "High Intensive Interval Training                                 6\n",
       "Swimming for 30min or longer                                     3\n",
       "                                                                 3\n",
       "Yoga                                                             2\n",
       "Manual Labour                                                    2\n",
       "Hiking                                                           2\n",
       "Performance art course - walked around non stop in Salzburg.     1\n",
       "Upper Body Workout                                               1\n",
       "Full Body Workout with Weights                                   1\n",
       "N/a                                                              1\n",
       "not much activity                                                1\n",
       "Studio                                                           1\n",
       "Garden work + walking in the woods                               1\n",
       "Bodywork Class                                                   1\n",
       "Minimal was at airports all day                                  1\n",
       "Dancing with my niece 20 minutes                                 1\n",
       "Physio session 1 hour                                            1\n",
       "Nil                                                              1\n",
       "Install manual labour                                            1\n",
       "Performance art                                                  1\n",
       "Name: count, dtype: int64"
      ]
     },
     "execution_count": 45,
     "metadata": {},
     "output_type": "execute_result"
    }
   ],
   "source": [
    "activities_counts"
   ]
  },
  {
   "cell_type": "code",
   "execution_count": 46,
   "metadata": {},
   "outputs": [
    {
     "data": {
      "text/plain": [
       "Index(['Walking for 30min or longer', 'Cycling for 30min or longer',\n",
       "       'Weight Lifting', 'Ball Sports', 'Running',\n",
       "       'High Intensive Interval Training', 'Swimming for 30min or longer', '',\n",
       "       'Yoga', 'Manual Labour', 'Hiking'],\n",
       "      dtype='object')"
      ]
     },
     "execution_count": 46,
     "metadata": {},
     "output_type": "execute_result"
    }
   ],
   "source": [
    "activities_list.unique()"
   ]
  },
  {
   "cell_type": "code",
   "execution_count": 47,
   "metadata": {},
   "outputs": [],
   "source": [
    "def activity_in_list(row, activity):\n",
    "    if row is not None:\n",
    "        if activity in row:\n",
    "            return 1\n",
    "        else:\n",
    "            0\n",
    "    else:\n",
    "        0\n",
    "# create one column for each activity listed more than once and put 1 if it happened 0 otherwise\n",
    "for activity in activities_list:\n",
    "    df[activity] = df['physical_activity_list'].apply(lambda x: activity_in_list(x, activity)).fillna(0)\n"
   ]
  },
  {
   "cell_type": "code",
   "execution_count": 48,
   "metadata": {},
   "outputs": [],
   "source": [
    "df = df.rename(columns= {'Walking for 30min or longer': 'walking',\n",
    "'Cycling for 30min or longer': 'cycling',\n",
    "'Ball Sports': 'ball_sports',\n",
    "'Weight Lifting': 'weight_lifting',\n",
    "'Running':'running',\n",
    "'Yoga': 'yoga',\n",
    "'High Intensive Interval Training':'HITT',\n",
    "'Manual Labour': 'manual_labour',\n",
    "'Hiking':'hiking'})\n",
    "df = df.drop('',axis=1)"
   ]
  },
  {
   "cell_type": "code",
   "execution_count": 49,
   "metadata": {},
   "outputs": [],
   "source": [
    "# create lagged fatigue\n",
    "df['cis_subjective_fatigue_lead1']  = df.groupby('person')['cis_subjective_fatigue'].shift(-1)\n",
    "df['extra_muscles_tired_lead1']  = df.groupby('person')['extra_muscles_tired'].shift(-1)\n",
    "df['hooper_muscles_sore_lead1']  = df.groupby('person')['hooper_muscles_sore'].shift(-1)"
   ]
  },
  {
   "cell_type": "code",
   "execution_count": 50,
   "metadata": {},
   "outputs": [],
   "source": [
    "# get max number of activities on a given day\n",
    "#df[['walking','cycling','ball_sports','weight_lifting','running','yoga','spinning']].sum(axis=1).max()"
   ]
  },
  {
   "cell_type": "code",
   "execution_count": 51,
   "metadata": {},
   "outputs": [],
   "source": [
    "df.to_csv('/Users/htr365/no_icloud/quantified_self_all/data/survey_data/pre_processed_survey.csv')"
   ]
  },
  {
   "cell_type": "code",
   "execution_count": 52,
   "metadata": {},
   "outputs": [
    {
     "data": {
      "text/plain": [
       "1     2024-06-25\n",
       "3     2024-06-26\n",
       "16    2024-07-08\n",
       "18    2024-07-09\n",
       "20    2024-07-10\n",
       "22    2024-07-11\n",
       "24    2024-07-12\n",
       "26    2024-07-13\n",
       "28    2024-07-14\n",
       "30    2024-07-15\n",
       "33    2024-07-16\n",
       "35    2024-07-17\n",
       "36    2024-07-18\n",
       "38    2024-07-19\n",
       "41    2024-07-20\n",
       "42    2024-07-21\n",
       "44    2024-07-22\n",
       "47    2024-07-23\n",
       "48    2024-07-24\n",
       "51    2024-07-26\n",
       "53    2024-07-27\n",
       "55    2024-07-28\n",
       "57    2024-07-29\n",
       "58    2024-07-30\n",
       "59    2024-07-31\n",
       "60    2024-08-02\n",
       "61    2024-08-03\n",
       "62    2024-08-04\n",
       "63    2024-08-05\n",
       "64    2024-08-06\n",
       "65    2024-08-07\n",
       "66    2024-08-08\n",
       "67    2024-08-09\n",
       "68    2024-08-10\n",
       "69    2024-08-11\n",
       "70    2024-08-12\n",
       "71    2024-08-13\n",
       "72    2024-08-14\n",
       "Name: date, dtype: object"
      ]
     },
     "execution_count": 52,
     "metadata": {},
     "output_type": "execute_result"
    }
   ],
   "source": [
    "df[df['person']=='Amanda']['date']"
   ]
  },
  {
   "cell_type": "code",
   "execution_count": 53,
   "metadata": {},
   "outputs": [],
   "source": [
    "df[['person','date','cis_1', 'cis_2', 'cis_3', 'cis_4', 'cis_5',\n",
    "       'cis_6', 'cis_7', 'cis_8', 'cis_9', 'cis_10', 'cis_11', 'cis_12',\n",
    "       'cis_13', 'cis_14', 'cis_15', 'cis_16', 'cis_17', 'cis_18', 'cis_19',\n",
    "       'cis_20', 'hooper_muscles_sore', 'extra_muscles_tired',\n",
    "       'hooper_sleep_quality', 'hooper_fatigue_level', 'hooper_stress_level',\n",
    "       'sleep_hours', 'coffee_count', 'physical_activity', 'step_count','alcohol', 'fatigue_expected', 'muscles_sore_expected',\n",
    "       'muscles_tired_expected', 'cis_subjective_fatigue', 'cis_concentration',\n",
    "       'cis_motivation', 'cis_physical_activity', 'sleep_time','walking', 'cycling', 'ball_sports',\n",
    "       'weight_lifting', 'running', 'yoga', 'HITT','manual_labour','hiking', 'cis_subjective_fatigue_lead1', 'hooper_muscles_sore_lead1','extra_muscles_tired_lead1']].to_csv('/Users/htr365/no_icloud/quantified_self_all/data/survey_data/pre_processed_survey_features.csv')"
   ]
  },
  {
   "cell_type": "code",
   "execution_count": 54,
   "metadata": {},
   "outputs": [
    {
     "data": {
      "text/plain": [
       "39924"
      ]
     },
     "execution_count": 54,
     "metadata": {},
     "output_type": "execute_result"
    }
   ],
   "source": [
    "3327*12"
   ]
  },
  {
   "cell_type": "code",
   "execution_count": null,
   "metadata": {},
   "outputs": [],
   "source": []
  }
 ],
 "metadata": {
  "kernelspec": {
   "display_name": "muscles",
   "language": "python",
   "name": "python3"
  },
  "language_info": {
   "codemirror_mode": {
    "name": "ipython",
    "version": 3
   },
   "file_extension": ".py",
   "mimetype": "text/x-python",
   "name": "python",
   "nbconvert_exporter": "python",
   "pygments_lexer": "ipython3",
   "version": "3.8.18"
  }
 },
 "nbformat": 4,
 "nbformat_minor": 2
}
