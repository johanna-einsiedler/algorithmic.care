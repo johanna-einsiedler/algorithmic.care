{
 "cells": [
  {
   "cell_type": "code",
   "execution_count": 20,
   "metadata": {},
   "outputs": [
    {
     "name": "stdout",
     "output_type": "stream",
     "text": [
      "Version skforecasy: 0.12.1\n",
      "Version scikit-learn: 1.3.0\n"
     ]
    }
   ],
   "source": [
    "# Libraries\n",
    "# ======================================================================================\n",
    "import sys\n",
    "import os\n",
    "import warnings\n",
    "import numpy as np\n",
    "import pandas as pd\n",
    "import matplotlib.pyplot as plt\n",
    "from tqdm.notebook import tqdm\n",
    "from statsmodels.graphics.tsaplots import plot_acf\n",
    "import sklearn\n",
    "from sklearn.preprocessing import StandardScaler\n",
    "from sklearn.ensemble import  HistGradientBoostingRegressor\n",
    "import skforecast\n",
    "from skforecast.ForecasterAutoregMultiSeries import ForecasterAutoregMultiSeries\n",
    "from skforecast.ForecasterAutoreg import ForecasterAutoreg\n",
    "from skforecast.model_selection import backtesting_forecaster\n",
    "from skforecast.model_selection import bayesian_search_forecaster\n",
    "from skforecast.model_selection_multiseries import backtesting_forecaster_multiseries\n",
    "from skforecast.model_selection_multiseries import bayesian_search_forecaster_multiseries\n",
    "from skforecast.plot import set_dark_theme\n",
    "from skforecast.preprocessing import series_long_to_dict\n",
    "from skforecast.preprocessing import exog_long_to_dict\n",
    "from sklearn.model_selection import train_test_split\n",
    "from sklearn.ensemble import RandomForestRegressor\n",
    "from sklearn.pipeline import Pipeline\n",
    "import shap\n",
    "from sklearn.ensemble import GradientBoostingRegressor\n",
    "import matplotlib.pyplot as plt \n",
    "from sklearn.linear_model import LinearRegression\n",
    "import importlib\n",
    "import seaborn as sns\n",
    "warnings.filterwarnings('once')\n",
    "\n",
    "print(f\"Version skforecasy: {skforecast.__version__}\")\n",
    "print(f\"Version scikit-learn: {sklearn.__version__}\")"
   ]
  },
  {
   "cell_type": "markdown",
   "metadata": {},
   "source": [
    "# Prepare Data"
   ]
  },
  {
   "cell_type": "code",
   "execution_count": 37,
   "metadata": {},
   "outputs": [],
   "source": [
    "# read in data\n",
    "survey_file = '/Users/htr365/no_icloud/quantified_self_all/data/survey_data/pre_processed_survey_features.csv'\n",
    "df = pd.read_csv(survey_file,index_col=0)"
   ]
  },
  {
   "cell_type": "code",
   "execution_count": 38,
   "metadata": {},
   "outputs": [],
   "source": [
    "# set person\n",
    "person = 'Johanna'"
   ]
  },
  {
   "cell_type": "code",
   "execution_count": 39,
   "metadata": {},
   "outputs": [],
   "source": [
    "# filter a person\n",
    "df = df[df['person']==person]\n",
    "df.index = df['date']"
   ]
  },
  {
   "cell_type": "code",
   "execution_count": 40,
   "metadata": {},
   "outputs": [],
   "source": [
    "# exclude two days at the beginning (due to long break inbetween) if its Amanda\n",
    "if (person == 'Amanda'):\n",
    "    df = df[df['date']>='2024-07-08']"
   ]
  },
  {
   "cell_type": "code",
   "execution_count": 41,
   "metadata": {},
   "outputs": [],
   "source": [
    "# set index and frequency\n",
    "df.index =  pd.to_datetime(df['date'])\n",
    "df = df.sort_index()\n",
    "# get complete list of dates\n",
    "all_dates = pd.date_range(start=df.index.min(), end=df.index.max(), freq='D')\n",
    "# Reindex the DataFrame to include all dates in the range\n",
    "df = df.reindex(all_dates)\n",
    "df = df.fillna(method='ffill')  # Forward fill missing values\n",
    "# set frequency to daily\n",
    "df.index.freq = 'D'"
   ]
  },
  {
   "cell_type": "code",
   "execution_count": 42,
   "metadata": {},
   "outputs": [],
   "source": [
    "# define variables of interest and get human prediction\n",
    "human_prediction = df[['fatigue_expected','muscles_sore_expected','muscles_tired_expected']]\n",
    "pred_variables = ['cis_subjective_fatigue', 'hooper_muscles_sore','extra_muscles_tired']\n",
    "variables_of_interest = ['cis_subjective_fatigue','cis_concentration','cis_motivation','cis_physical_activity',\n",
    "                         'hooper_fatigue_level','hooper_stress_level', 'hooper_muscles_sore','hooper_sleep_quality',\n",
    "                         'extra_muscles_tired','step_count','sleep_time','alcohol']\n",
    "vars = [ 'cis_1', 'cis_2', 'cis_3', 'cis_4', 'cis_5', 'cis_6',\n",
    "       'cis_7', 'cis_8', 'cis_9', 'cis_10', 'cis_11', 'cis_12', 'cis_13',\n",
    "       'cis_14', 'cis_15', 'cis_16', 'cis_17', 'cis_18', 'cis_19', 'cis_20',\n",
    "       'hooper_muscles_sore', 'extra_muscles_tired', 'hooper_sleep_quality',\n",
    "       'hooper_fatigue_level', 'hooper_stress_level', \n",
    "       'coffee_count', 'step_count', 'alcohol',\n",
    "       'fatigue_expected', 'muscles_sore_expected', 'muscles_tired_expected',\n",
    "       'cis_subjective_fatigue', 'cis_concentration', 'cis_motivation',\n",
    "       'cis_physical_activity', 'sleep_time','walking', 'cycling', 'ball_sports',\n",
    "       'weight_lifting', 'running', 'yoga', 'HITT','manual_labour']"
   ]
  },
  {
   "cell_type": "code",
   "execution_count": 43,
   "metadata": {},
   "outputs": [
    {
     "data": {
      "text/plain": [
       "(array([-10,  -9,  -8,  -7,  -6,  -5,  -4,  -3,  -2,  -1,   0,   1,   2,\n",
       "          3,   4,   5,   6,   7,   8,   9,  10]),\n",
       " array([ 0.03650218, -0.19714197, -0.18793741, -0.27205952, -0.1322844 ,\n",
       "         0.02613625, -0.07647766, -0.0500705 ,  0.17220533,  0.28000752,\n",
       "         1.        ,  0.28000752,  0.17220533, -0.0500705 , -0.07647766,\n",
       "         0.02613625, -0.1322844 , -0.27205952, -0.18793741, -0.19714197,\n",
       "         0.03650218]),\n",
       " <matplotlib.collections.LineCollection at 0x7fbf60b85040>,\n",
       " <matplotlib.lines.Line2D at 0x7fbf60af3b80>)"
      ]
     },
     "execution_count": 43,
     "metadata": {},
     "output_type": "execute_result"
    },
    {
     "data": {
      "image/png": "[encoded data removed]",
      "text/plain": [
       "<Figure size 640x480 with 1 Axes>"
      ]
     },
     "metadata": {},
     "output_type": "display_data"
    }
   ],
   "source": [
    "plt.acorr(df['cis_subjective_fatigue']-df['cis_subjective_fatigue'].mean(), maxlags = 10) \n"
   ]
  },
  {
   "cell_type": "code",
   "execution_count": 44,
   "metadata": {},
   "outputs": [
    {
     "data": {
      "text/plain": [
       "(array([-10,  -9,  -8,  -7,  -6,  -5,  -4,  -3,  -2,  -1,   0,   1,   2,\n",
       "          3,   4,   5,   6,   7,   8,   9,  10]),\n",
       " array([-0.07633986,  0.0680582 , -0.11113635, -0.24005157, -0.13325557,\n",
       "         0.08634661,  0.22064583, -0.19662349,  0.03178832, -0.10335809,\n",
       "         1.        , -0.10335809,  0.03178832, -0.19662349,  0.22064583,\n",
       "         0.08634661, -0.13325557, -0.24005157, -0.11113635,  0.0680582 ,\n",
       "        -0.07633986]),\n",
       " <matplotlib.collections.LineCollection at 0x7fbf52724c70>,\n",
       " <matplotlib.lines.Line2D at 0x7fbf52724ca0>)"
      ]
     },
     "execution_count": 44,
     "metadata": {},
     "output_type": "execute_result"
    },
    {
     "data": {
      "image/png": "[encoded data removed]",
      "text/plain": [
       "<Figure size 640x480 with 1 Axes>"
      ]
     },
     "metadata": {},
     "output_type": "display_data"
    }
   ],
   "source": [
    "plt.acorr(df['extra_muscles_tired']-df['extra_muscles_tired'].mean(), maxlags = 10) \n"
   ]
  },
  {
   "cell_type": "code",
   "execution_count": 45,
   "metadata": {},
   "outputs": [
    {
     "data": {
      "text/plain": [
       "(array([-10,  -9,  -8,  -7,  -6,  -5,  -4,  -3,  -2,  -1,   0,   1,   2,\n",
       "          3,   4,   5,   6,   7,   8,   9,  10]),\n",
       " array([-0.25876424, -0.01248904,  0.17166959, -0.08972393, -0.17090272,\n",
       "        -0.02738826,  0.00953111, -0.05554338, -0.01402279,  0.23992112,\n",
       "         1.        ,  0.23992112, -0.01402279, -0.05554338,  0.00953111,\n",
       "        -0.02738826, -0.17090272, -0.08972393,  0.17166959, -0.01248904,\n",
       "        -0.25876424]),\n",
       " <matplotlib.collections.LineCollection at 0x7fbf60bb8fa0>,\n",
       " <matplotlib.lines.Line2D at 0x7fbf60bb8fd0>)"
      ]
     },
     "execution_count": 45,
     "metadata": {},
     "output_type": "execute_result"
    },
    {
     "data": {
      "image/png": "[encoded data removed]",
      "text/plain": [
       "<Figure size 640x480 with 1 Axes>"
      ]
     },
     "metadata": {},
     "output_type": "display_data"
    }
   ],
   "source": [
    "plt.acorr(df['hooper_muscles_sore']-df['hooper_muscles_sore'].mean(), maxlags = 10) "
   ]
  },
  {
   "cell_type": "code",
   "execution_count": 8,
   "metadata": {},
   "outputs": [
    {
     "data": {
      "text/plain": [
       "<Figure size 640x480 with 0 Axes>"
      ]
     },
     "metadata": {},
     "output_type": "display_data"
    },
    {
     "data": {
      "image/png": "[encoded data removed]",
      "text/plain": [
       "<Figure size 700x700 with 3 Axes>"
      ]
     },
     "metadata": {},
     "output_type": "display_data"
    }
   ],
   "source": [
    "# Plot time series\n",
    "# ======================================================================================\n",
    "sns.set_style(\"white\")\n",
    "sns.despine()\n",
    "fig, axs = plt.subplots(len(pred_variables), 1, figsize=(7, 7), sharex=False)\n",
    "df[pred_variables].plot(\n",
    "    legend   = True,\n",
    "    subplots = True, \n",
    "    title    = 'Outcome Variables over time',\n",
    "    ax       = axs, \n",
    ")\n",
    "fig.tight_layout()\n",
    "plt.show()"
   ]
  },
  {
   "cell_type": "code",
   "execution_count": 46,
   "metadata": {},
   "outputs": [],
   "source": [
    "# define train and test data\n",
    "data= df\n",
    "if person=='Johanna':\n",
    "    end_train = round(len(data.index)*0.78)\n",
    "if person=='Amanda':\n",
    "    end_train = round(len(data.index)*0.8)\n",
    "end_train = data.index[end_train]"
   ]
  },
  {
   "cell_type": "code",
   "execution_count": 47,
   "metadata": {},
   "outputs": [
    {
     "name": "stdout",
     "output_type": "stream",
     "text": [
      "Train dates      : 2024-06-24 00:00:00 --- 2024-07-21 00:00:00  (n=28)\n",
      "Test dates       : 2024-07-21 00:00:00 --- 2024-07-28 00:00:00  (n=8)\n"
     ]
    }
   ],
   "source": [
    "data_train = data.loc[:end_train,pred_variables].copy()\n",
    "#data_val   = data.loc[end_train:end_val, :].copy()\n",
    "data_test  = data.loc[end_train:,pred_variables].copy()\n",
    "print(f\"Train dates      : {data_train.index.min()} --- {data_train.index.max()}  (n={len(data_train)})\")\n",
    "#print(f\"Validation dates : {data_val.index.min()} --- {data_val.index.max()}  (n={len(data_val)})\")\n",
    "print(f\"Test dates       : {data_test.index.min()} --- {data_test.index.max()}  (n={len(data_test)})\")"
   ]
  },
  {
   "cell_type": "code",
   "execution_count": null,
   "metadata": {},
   "outputs": [],
   "source": [
    "end_train"
   ]
  },
  {
   "cell_type": "code",
   "execution_count": 48,
   "metadata": {},
   "outputs": [],
   "source": [
    "data_all = df[variables_of_interest]"
   ]
  },
  {
   "cell_type": "code",
   "execution_count": 49,
   "metadata": {},
   "outputs": [],
   "source": [
    "# Function to give 0 weights to imputed data\n",
    "# see: https://cienciadedatos.net/documentos/py46-forecasting-time-series-missing-values\n",
    "def custom_weights(index):\n",
    "    \"\"\"\n",
    "    Return 0 if index is in any gap.\n",
    "    \"\"\"\n",
    "    if (person == 'Amanda'):\n",
    "        gaps = [['2024-07-25','2024-08-01']]\n",
    "    else: gaps =[[]]\n",
    "    weights = np.where(index.isin(gaps), 0, 1)\n",
    "\n",
    "    return weights"
   ]
  },
  {
   "cell_type": "markdown",
   "metadata": {},
   "source": [
    "# Evaluate Human Prediction"
   ]
  },
  {
   "cell_type": "code",
   "execution_count": 50,
   "metadata": {},
   "outputs": [
    {
     "name": "stderr",
     "output_type": "stream",
     "text": [
      "\n",
      "A value is trying to be set on a copy of a slice from a DataFrame.\n",
      "Try using .loc[row_indexer,col_indexer] = value instead\n",
      "\n",
      "See the caveats in the documentation: https://pandas.pydata.org/pandas-docs/stable/user_guide/indexing.html#returning-a-view-versus-a-copy\n",
      "\n",
      "A value is trying to be set on a copy of a slice from a DataFrame.\n",
      "Try using .loc[row_indexer,col_indexer] = value instead\n",
      "\n",
      "See the caveats in the documentation: https://pandas.pydata.org/pandas-docs/stable/user_guide/indexing.html#returning-a-view-versus-a-copy\n",
      "\n",
      "A value is trying to be set on a copy of a slice from a DataFrame.\n",
      "Try using .loc[row_indexer,col_indexer] = value instead\n",
      "\n",
      "See the caveats in the documentation: https://pandas.pydata.org/pandas-docs/stable/user_guide/indexing.html#returning-a-view-versus-a-copy\n"
     ]
    }
   ],
   "source": [
    "# create lead variable\n",
    "human_prediction['muscles_sore_prediction']= human_prediction['muscles_sore_expected'].shift(1)\n",
    "human_prediction['muscles_tired_prediction']= human_prediction['muscles_tired_expected'].shift(1)\n",
    "human_prediction['fatigue_prediction']= human_prediction['fatigue_expected'].shift(1)"
   ]
  },
  {
   "cell_type": "code",
   "execution_count": 51,
   "metadata": {},
   "outputs": [],
   "source": [
    "# merge prediction and true values\n",
    "human_prediction = human_prediction.merge(df[pred_variables],how='left',left_index=True, right_index=True)\n"
   ]
  },
  {
   "cell_type": "code",
   "execution_count": 52,
   "metadata": {},
   "outputs": [],
   "source": [
    "\n",
    "# calculate difference\n",
    "human_prediction['fatigue_diff'] = human_prediction[pred_variables[0]]-human_prediction['fatigue_prediction']\n",
    "human_prediction['sore_diff'] = human_prediction[pred_variables[1]]-human_prediction['muscles_sore_prediction']\n",
    "human_prediction['tired_diff'] = human_prediction[pred_variables[2]]-human_prediction['muscles_tired_prediction']"
   ]
  },
  {
   "cell_type": "code",
   "execution_count": 418,
   "metadata": {},
   "outputs": [],
   "source": [
    "human_prediction['date'] =human_prediction.index"
   ]
  },
  {
   "cell_type": "code",
   "execution_count": 419,
   "metadata": {},
   "outputs": [
    {
     "name": "stdout",
     "output_type": "stream",
     "text": [
      "MAE Fatigue:  0.9285714285714286\n",
      "MAE Sore:  1.0357142857142858\n",
      "MAE Tired:  2.2142857142857144\n"
     ]
    }
   ],
   "source": [
    "# get overall MAE\n",
    "print(\"MAE Fatigue: \", np.mean(np.abs(human_prediction['fatigue_diff'])))\n",
    "print(\"MAE Sore: \", np.mean(np.abs(human_prediction['sore_diff'])))\n",
    "print(\"MAE Tired: \", np.mean(np.abs(human_prediction['tired_diff'])))"
   ]
  },
  {
   "cell_type": "code",
   "execution_count": 420,
   "metadata": {},
   "outputs": [
    {
     "name": "stdout",
     "output_type": "stream",
     "text": [
      "MAE Fatigue:  1.21875\n",
      "MAE Sore:  1.625\n",
      "MAE Tired:  3.0\n"
     ]
    }
   ],
   "source": [
    "# get test set MAE\n",
    "print(\"MAE Fatigue: \", np.mean(np.abs(human_prediction[end_train:]['fatigue_diff'])))\n",
    "print(\"MAE Sore: \", np.mean(np.abs(human_prediction[end_train:]['sore_diff'])))\n",
    "print(\"MAE Tired: \", np.mean(np.abs(human_prediction[end_train:]['tired_diff'])))"
   ]
  },
  {
   "cell_type": "markdown",
   "metadata": {},
   "source": [
    "# Always predict mean"
   ]
  },
  {
   "cell_type": "code",
   "execution_count": 421,
   "metadata": {},
   "outputs": [
    {
     "name": "stdout",
     "output_type": "stream",
     "text": [
      "Fatigue MAE when predicting mean: 0.9034438775510203\n",
      "Tired MAE when predicting mean: 1.5035714285714286\n",
      "Sore MAE when predicting mean: 2.2857142857142856\n"
     ]
    }
   ],
   "source": [
    "print(\"Fatigue MAE when predicting mean:\", np.mean(np.abs(data['cis_subjective_fatigue'][end_train:] - data['cis_subjective_fatigue'].mean())))\n",
    "print(\"Tired MAE when predicting mean:\", np.mean(np.abs(data['extra_muscles_tired'][end_train:] - data['extra_muscles_tired'].mean())))\n",
    "print(\"Sore MAE when predicting mean:\", np.mean(np.abs(data['hooper_muscles_sore'][end_train:] - data['hooper_muscles_sore'].mean())))"
   ]
  },
  {
   "cell_type": "markdown",
   "metadata": {},
   "source": [
    "# Linear Regression"
   ]
  },
  {
   "cell_type": "code",
   "execution_count": 53,
   "metadata": {},
   "outputs": [],
   "source": [
    "model = LinearRegression()"
   ]
  },
  {
   "cell_type": "code",
   "execution_count": 55,
   "metadata": {},
   "outputs": [],
   "source": [
    "prediction_lr = pd.DataFrame()\n",
    "for outcome in pred_variables:     \n",
    "    X, y = data.loc[:end_train,vars].shift(1).dropna(), data.loc[data.loc[:end_train,vars].shift(1).dropna().index][outcome]\n",
    "    model.fit(X,y)\n",
    "    y_pred = model.predict(data.loc[end_train:,vars].shift(1).dropna())\n",
    "\n",
    "    prediction_lr = pd.concat([prediction_lr,pd.DataFrame(y_pred).rename(columns={0:outcome})],axis=1)\n"
   ]
  },
  {
   "cell_type": "code",
   "execution_count": 56,
   "metadata": {},
   "outputs": [
    {
     "data": {
      "text/html": [
       "<div>\n",
       "<style scoped>\n",
       "    .dataframe tbody tr th:only-of-type {\n",
       "        vertical-align: middle;\n",
       "    }\n",
       "\n",
       "    .dataframe tbody tr th {\n",
       "        vertical-align: top;\n",
       "    }\n",
       "\n",
       "    .dataframe thead th {\n",
       "        text-align: right;\n",
       "    }\n",
       "</style>\n",
       "<table border=\"1\" class=\"dataframe\">\n",
       "  <thead>\n",
       "    <tr style=\"text-align: right;\">\n",
       "      <th></th>\n",
       "      <th>cis_subjective_fatigue</th>\n",
       "      <th>hooper_muscles_sore</th>\n",
       "      <th>extra_muscles_tired</th>\n",
       "    </tr>\n",
       "  </thead>\n",
       "  <tbody>\n",
       "    <tr>\n",
       "      <th>0</th>\n",
       "      <td>4.049275</td>\n",
       "      <td>-1.115818</td>\n",
       "      <td>2.539334</td>\n",
       "    </tr>\n",
       "    <tr>\n",
       "      <th>1</th>\n",
       "      <td>2.697305</td>\n",
       "      <td>1.457157</td>\n",
       "      <td>4.790463</td>\n",
       "    </tr>\n",
       "    <tr>\n",
       "      <th>2</th>\n",
       "      <td>3.879532</td>\n",
       "      <td>3.977675</td>\n",
       "      <td>5.561454</td>\n",
       "    </tr>\n",
       "    <tr>\n",
       "      <th>3</th>\n",
       "      <td>3.185121</td>\n",
       "      <td>4.727066</td>\n",
       "      <td>7.441569</td>\n",
       "    </tr>\n",
       "    <tr>\n",
       "      <th>4</th>\n",
       "      <td>1.934478</td>\n",
       "      <td>1.052964</td>\n",
       "      <td>-0.046727</td>\n",
       "    </tr>\n",
       "    <tr>\n",
       "      <th>5</th>\n",
       "      <td>3.546300</td>\n",
       "      <td>1.966674</td>\n",
       "      <td>5.856812</td>\n",
       "    </tr>\n",
       "    <tr>\n",
       "      <th>6</th>\n",
       "      <td>4.326227</td>\n",
       "      <td>1.230848</td>\n",
       "      <td>4.727833</td>\n",
       "    </tr>\n",
       "  </tbody>\n",
       "</table>\n",
       "</div>"
      ],
      "text/plain": [
       "   cis_subjective_fatigue  hooper_muscles_sore  extra_muscles_tired\n",
       "0                4.049275            -1.115818             2.539334\n",
       "1                2.697305             1.457157             4.790463\n",
       "2                3.879532             3.977675             5.561454\n",
       "3                3.185121             4.727066             7.441569\n",
       "4                1.934478             1.052964            -0.046727\n",
       "5                3.546300             1.966674             5.856812\n",
       "6                4.326227             1.230848             4.727833"
      ]
     },
     "execution_count": 56,
     "metadata": {},
     "output_type": "execute_result"
    }
   ],
   "source": [
    "prediction_lr"
   ]
  },
  {
   "cell_type": "markdown",
   "metadata": {},
   "source": [
    "# Random Forest \n"
   ]
  },
  {
   "cell_type": "markdown",
   "metadata": {},
   "source": [
    "## RF - Standard / No Time Series"
   ]
  },
  {
   "cell_type": "code",
   "execution_count": 57,
   "metadata": {},
   "outputs": [
    {
     "data": {
      "image/png": "[encoded data removed]",
      "text/plain": [
       "<Figure size 800x950 with 2 Axes>"
      ]
     },
     "metadata": {},
     "output_type": "display_data"
    },
    {
     "data": {
      "image/png": "[encoded data removed]",
      "text/plain": [
       "<Figure size 800x950 with 2 Axes>"
      ]
     },
     "metadata": {},
     "output_type": "display_data"
    },
    {
     "data": {
      "image/png": "[encoded data removed]",
      "text/plain": [
       "<Figure size 800x950 with 2 Axes>"
      ]
     },
     "metadata": {},
     "output_type": "display_data"
    }
   ],
   "source": [
    "prediction_rf = pd.DataFrame()\n",
    "for outcome in pred_variables:     \n",
    "    X, y = data.loc[:end_train,vars].shift(1).dropna(), data.loc[data.loc[:end_train,vars].shift(1).dropna().index][outcome]\n",
    "\n",
    "\n",
    "    pipeline = Pipeline([\n",
    "        ('scaler', StandardScaler()),\n",
    "        ('regressor', RandomForestRegressor(n_estimators=100, random_state=40))\n",
    "    ])\n",
    "\n",
    "    # Fit the model\n",
    "    pipeline.fit(X, y)\n",
    "\n",
    "    # Predict on the test set\n",
    "    y_pred = pipeline.predict(data.loc[end_train:,vars].shift(1).dropna())\n",
    "\n",
    "    prediction_rf = pd.concat([prediction_rf,pd.DataFrame(y_pred).rename(columns={0:outcome})],axis=1)\n",
    "    # Create a SHAP explainer\n",
    "    explainer = shap.TreeExplainer(pipeline['regressor'])\n",
    "\n",
    "    # Compute SHAP values for the test set\n",
    "    shap_values = explainer.shap_values(data.loc[end_train:,vars].shift(1).dropna())\n",
    "    shap.summary_plot(shap_values, data.loc[end_train:,vars].shift(1).dropna())\n",
    "prediction_rf['model'] ='Random Forest'\n",
    "prediction_rf.index =data.loc[end_train:,vars].shift(1).dropna().index\n"
   ]
  },
  {
   "cell_type": "markdown",
   "metadata": {},
   "source": [
    "## RF - Time Series Forecaster\n",
    "Adapted from https://cienciadedatos.net/documentos/py27-time-series-forecasting-python-scikitlearn"
   ]
  },
  {
   "cell_type": "code",
   "execution_count": 423,
   "metadata": {},
   "outputs": [
    {
     "name": "stdout",
     "output_type": "stream",
     "text": [
      "cis_subjective_fatigue\n"
     ]
    },
    {
     "name": "stderr",
     "output_type": "stream",
     "text": [
      "The `ipykernel.comm.Comm` class has been deprecated. Please use the `comm` module instead.For creating comms, use the function `from comm import create_comm`.\n"
     ]
    },
    {
     "data": {
      "application/vnd.jupyter.widget-view+json": {
       "model_id": "5f1a1a9d9d5c4c7cb1460c84da740f9f",
       "version_major": 2,
       "version_minor": 0
      },
      "text/plain": [
       "  0%|          | 0/7 [00:00<?, ?it/s]"
      ]
     },
     "metadata": {},
     "output_type": "display_data"
    },
    {
     "name": "stdout",
     "output_type": "stream",
     "text": [
      "hooper_muscles_sore\n"
     ]
    },
    {
     "name": "stderr",
     "output_type": "stream",
     "text": [
      "The `ipykernel.comm.Comm` class has been deprecated. Please use the `comm` module instead.For creating comms, use the function `from comm import create_comm`.\n"
     ]
    },
    {
     "data": {
      "application/vnd.jupyter.widget-view+json": {
       "model_id": "70817638eeba4c2e99b1ea14b8feab7f",
       "version_major": 2,
       "version_minor": 0
      },
      "text/plain": [
       "  0%|          | 0/7 [00:00<?, ?it/s]"
      ]
     },
     "metadata": {},
     "output_type": "display_data"
    },
    {
     "name": "stdout",
     "output_type": "stream",
     "text": [
      "extra_muscles_tired\n"
     ]
    },
    {
     "name": "stderr",
     "output_type": "stream",
     "text": [
      "The `ipykernel.comm.Comm` class has been deprecated. Please use the `comm` module instead.For creating comms, use the function `from comm import create_comm`.\n"
     ]
    },
    {
     "data": {
      "application/vnd.jupyter.widget-view+json": {
       "model_id": "cf4fc09a890e42f8beb203b493378c4f",
       "version_major": 2,
       "version_minor": 0
      },
      "text/plain": [
       "  0%|          | 0/7 [00:00<?, ?it/s]"
      ]
     },
     "metadata": {},
     "output_type": "display_data"
    }
   ],
   "source": [
    "from sklearn.ensemble import RandomForestRegressor\n",
    "\n",
    "items = []\n",
    "rf_mae_values = []\n",
    "rf_predictions = {}\n",
    "# Backtest forecaster\n",
    "# ==============================================================================\n",
    "forecaster_random_forest = ForecasterAutoreg(\n",
    "                  regressor = RandomForestRegressor(random_state=123),\n",
    "                  lags      = 5,\n",
    "                  weight_func=custom_weights\n",
    "             )\n",
    "for i, item in enumerate(data_train.columns):\n",
    "     print(item)\n",
    "     rf_metric, rf_predictions_backtest = backtesting_forecaster(\n",
    "                                        forecaster = forecaster_random_forest,\n",
    "                                        y          = data[item],\n",
    "                                        initial_train_size =len(data_train),\n",
    "                                        fixed_train_size   = False,\n",
    "                                        steps      = 1,\n",
    "                                        metric     = 'mean_absolute_error',\n",
    "                                        refit      = True,\n",
    "                                        verbose    = False\n",
    "                                   )\n",
    "     items.append(item)\n",
    "     rf_mae_values.append(rf_metric)\n",
    "     rf_predictions[item] = rf_predictions_backtest\n",
    "\n",
    "# Results\n",
    "rf_uni_series_mae = pd.Series(\n",
    "                     data  = rf_mae_values,\n",
    "                     index = items,\n",
    "                     name  = 'uni_series_mae'\n",
    "                 );"
   ]
  },
  {
   "cell_type": "markdown",
   "metadata": {},
   "source": [
    "## RF - Multiseries Forecaster"
   ]
  },
  {
   "cell_type": "code",
   "execution_count": 424,
   "metadata": {},
   "outputs": [
    {
     "name": "stderr",
     "output_type": "stream",
     "text": [
      "The `ipykernel.comm.Comm` class has been deprecated. Please use the `comm` module instead.For creating comms, use the function `from comm import create_comm`.\n"
     ]
    },
    {
     "data": {
      "application/vnd.jupyter.widget-view+json": {
       "model_id": "4a2420f3b866435da7c84a02785c2646",
       "version_major": 2,
       "version_minor": 0
      },
      "text/plain": [
       "  0%|          | 0/7 [00:00<?, ?it/s]"
      ]
     },
     "metadata": {},
     "output_type": "display_data"
    },
    {
     "data": {
      "text/html": [
       "<div>\n",
       "<style scoped>\n",
       "    .dataframe tbody tr th:only-of-type {\n",
       "        vertical-align: middle;\n",
       "    }\n",
       "\n",
       "    .dataframe tbody tr th {\n",
       "        vertical-align: top;\n",
       "    }\n",
       "\n",
       "    .dataframe thead th {\n",
       "        text-align: right;\n",
       "    }\n",
       "</style>\n",
       "<table border=\"1\" class=\"dataframe\">\n",
       "  <thead>\n",
       "    <tr style=\"text-align: right;\">\n",
       "      <th></th>\n",
       "      <th>levels</th>\n",
       "      <th>mean_absolute_error</th>\n",
       "    </tr>\n",
       "  </thead>\n",
       "  <tbody>\n",
       "    <tr>\n",
       "      <th>0</th>\n",
       "      <td>cis_subjective_fatigue</td>\n",
       "      <td>0.999865</td>\n",
       "    </tr>\n",
       "    <tr>\n",
       "      <th>1</th>\n",
       "      <td>hooper_muscles_sore</td>\n",
       "      <td>2.284060</td>\n",
       "    </tr>\n",
       "    <tr>\n",
       "      <th>2</th>\n",
       "      <td>extra_muscles_tired</td>\n",
       "      <td>1.768192</td>\n",
       "    </tr>\n",
       "  </tbody>\n",
       "</table>\n",
       "</div>"
      ],
      "text/plain": [
       "                   levels  mean_absolute_error\n",
       "0  cis_subjective_fatigue             0.999865\n",
       "1     hooper_muscles_sore             2.284060\n",
       "2     extra_muscles_tired             1.768192"
      ]
     },
     "metadata": {},
     "output_type": "display_data"
    },
    {
     "name": "stdout",
     "output_type": "stream",
     "text": [
      "\n"
     ]
    },
    {
     "data": {
      "text/html": [
       "<div>\n",
       "<style scoped>\n",
       "    .dataframe tbody tr th:only-of-type {\n",
       "        vertical-align: middle;\n",
       "    }\n",
       "\n",
       "    .dataframe tbody tr th {\n",
       "        vertical-align: top;\n",
       "    }\n",
       "\n",
       "    .dataframe thead th {\n",
       "        text-align: right;\n",
       "    }\n",
       "</style>\n",
       "<table border=\"1\" class=\"dataframe\">\n",
       "  <thead>\n",
       "    <tr style=\"text-align: right;\">\n",
       "      <th></th>\n",
       "      <th>cis_subjective_fatigue</th>\n",
       "      <th>hooper_muscles_sore</th>\n",
       "      <th>extra_muscles_tired</th>\n",
       "    </tr>\n",
       "  </thead>\n",
       "  <tbody>\n",
       "    <tr>\n",
       "      <th>2024-07-22</th>\n",
       "      <td>3.382758</td>\n",
       "      <td>2.320991</td>\n",
       "      <td>3.645201</td>\n",
       "    </tr>\n",
       "    <tr>\n",
       "      <th>2024-07-23</th>\n",
       "      <td>2.094698</td>\n",
       "      <td>2.109018</td>\n",
       "      <td>2.413419</td>\n",
       "    </tr>\n",
       "    <tr>\n",
       "      <th>2024-07-24</th>\n",
       "      <td>3.717261</td>\n",
       "      <td>2.813192</td>\n",
       "      <td>3.555680</td>\n",
       "    </tr>\n",
       "  </tbody>\n",
       "</table>\n",
       "</div>"
      ],
      "text/plain": [
       "            cis_subjective_fatigue  hooper_muscles_sore  extra_muscles_tired\n",
       "2024-07-22                3.382758             2.320991             3.645201\n",
       "2024-07-23                2.094698             2.109018             2.413419\n",
       "2024-07-24                3.717261             2.813192             3.555680"
      ]
     },
     "metadata": {},
     "output_type": "display_data"
    }
   ],
   "source": [
    "# Train and backtest a model for all items: ForecasterAutoregMultiSeries\n",
    "# ======================================================================================\n",
    "#items = list(data_all.columns)\n",
    "items = pred_variables\n",
    "# Define forecaster\n",
    "forecaster_ms = ForecasterAutoregMultiSeries(\n",
    "                    regressor          = RandomForestRegressor(random_state=123),\n",
    "                    lags               = 5,\n",
    "                    encoding           = 'ordinal',\n",
    "                    transformer_series = StandardScaler(),\n",
    "                )\n",
    "# Backtesting forecaster for all items\n",
    "rf_multi_series_mae, rf_predictions_ms = backtesting_forecaster_multiseries(\n",
    "                                       forecaster         = forecaster_ms,\n",
    "                                       series             = data_all,\n",
    "                                       levels             = items,\n",
    "                                       steps              = 1,\n",
    "                                       metric             = 'mean_absolute_error',\n",
    "                                       initial_train_size = len(data_all.loc[:end_train]),\n",
    "                                       refit              = True,\n",
    "                                       fixed_train_size   = False,\n",
    "                                       verbose            = False,\n",
    "                                       show_progress      = True \n",
    "                                    )\n",
    "# Results\n",
    "display(rf_multi_series_mae.head(3))\n",
    "print('')\n",
    "display(rf_predictions_ms.head(3))\n"
   ]
  },
  {
   "cell_type": "code",
   "execution_count": 425,
   "metadata": {},
   "outputs": [
    {
     "data": {
      "text/html": [
       "<div>\n",
       "<style scoped>\n",
       "    .dataframe tbody tr th:only-of-type {\n",
       "        vertical-align: middle;\n",
       "    }\n",
       "\n",
       "    .dataframe tbody tr th {\n",
       "        vertical-align: top;\n",
       "    }\n",
       "\n",
       "    .dataframe thead th {\n",
       "        text-align: right;\n",
       "    }\n",
       "</style>\n",
       "<table border=\"1\" class=\"dataframe\">\n",
       "  <thead>\n",
       "    <tr style=\"text-align: right;\">\n",
       "      <th></th>\n",
       "      <th>levels</th>\n",
       "      <th>mean_absolute_error</th>\n",
       "    </tr>\n",
       "  </thead>\n",
       "  <tbody>\n",
       "    <tr>\n",
       "      <th>0</th>\n",
       "      <td>cis_subjective_fatigue</td>\n",
       "      <td>0.999865</td>\n",
       "    </tr>\n",
       "    <tr>\n",
       "      <th>1</th>\n",
       "      <td>hooper_muscles_sore</td>\n",
       "      <td>2.284060</td>\n",
       "    </tr>\n",
       "    <tr>\n",
       "      <th>2</th>\n",
       "      <td>extra_muscles_tired</td>\n",
       "      <td>1.768192</td>\n",
       "    </tr>\n",
       "  </tbody>\n",
       "</table>\n",
       "</div>"
      ],
      "text/plain": [
       "                   levels  mean_absolute_error\n",
       "0  cis_subjective_fatigue             0.999865\n",
       "1     hooper_muscles_sore             2.284060\n",
       "2     extra_muscles_tired             1.768192"
      ]
     },
     "execution_count": 425,
     "metadata": {},
     "output_type": "execute_result"
    }
   ],
   "source": [
    "rf_multi_series_mae"
   ]
  },
  {
   "cell_type": "markdown",
   "metadata": {},
   "source": [
    "# Gradient Boosting\n",
    "## GB - Standard / No Time Series"
   ]
  },
  {
   "cell_type": "code",
   "execution_count": 426,
   "metadata": {},
   "outputs": [],
   "source": [
    "prediction_gb = pd.DataFrame()\n",
    "for outcome in pred_variables:     \n",
    "    X, y = data.loc[:end_train,vars].shift(1).dropna(), data.loc[data.loc[:end_train,vars].shift(1).dropna().index][outcome]\n",
    "\n",
    "\n",
    "\n",
    "    model = GradientBoostingRegressor(n_estimators=100, learning_rate=0.1, max_depth=3, random_state=42)\n",
    "\n",
    "    # Train the model\n",
    "    model.fit(X, y)\n",
    "\n",
    "    # Make predictions\n",
    "    # Predict on the test set\n",
    "    y_pred = model.predict(data.loc[end_train:,vars].shift(1).dropna())\n",
    "\n",
    "    prediction_gb = pd.concat([prediction_gb,pd.DataFrame(y_pred).rename(columns={0:outcome})],axis=1)\n",
    "prediction_gb['model'] ='Gradient Boosting'\n",
    "prediction_gb.index =data.loc[end_train:,vars].shift(1).dropna().index\n"
   ]
  },
  {
   "cell_type": "markdown",
   "metadata": {},
   "source": [
    "## GB - Time Series Forecaster\n",
    "Adapted from https://cienciadedatos.net/documentos/py27-time-series-forecasting-python-scikitlearn"
   ]
  },
  {
   "cell_type": "code",
   "execution_count": 427,
   "metadata": {},
   "outputs": [
    {
     "name": "stderr",
     "output_type": "stream",
     "text": [
      "The `ipykernel.comm.Comm` class has been deprecated. Please use the `comm` module instead.For creating comms, use the function `from comm import create_comm`.\n"
     ]
    },
    {
     "data": {
      "application/vnd.jupyter.widget-view+json": {
       "model_id": "5df703d3a8c84849b99c8596b892a80c",
       "version_major": 2,
       "version_minor": 0
      },
      "text/plain": [
       "  0%|          | 0/3 [00:00<?, ?it/s]"
      ]
     },
     "metadata": {},
     "output_type": "display_data"
    },
    {
     "name": "stderr",
     "output_type": "stream",
     "text": [
      "The `ipykernel.comm.Comm` class has been deprecated. Please use the `comm` module instead.For creating comms, use the function `from comm import create_comm`.\n"
     ]
    },
    {
     "data": {
      "application/vnd.jupyter.widget-view+json": {
       "model_id": "5b5ff93167bc43f4bfd0bc42c5226f80",
       "version_major": 2,
       "version_minor": 0
      },
      "text/plain": [
       "  0%|          | 0/7 [00:00<?, ?it/s]"
      ]
     },
     "metadata": {},
     "output_type": "display_data"
    },
    {
     "name": "stderr",
     "output_type": "stream",
     "text": [
      "The `ipykernel.comm.Comm` class has been deprecated. Please use the `comm` module instead.For creating comms, use the function `from comm import create_comm`.\n"
     ]
    },
    {
     "data": {
      "application/vnd.jupyter.widget-view+json": {
       "model_id": "7c38233aa01d4b45abd64ed3e668ea75",
       "version_major": 2,
       "version_minor": 0
      },
      "text/plain": [
       "  0%|          | 0/7 [00:00<?, ?it/s]"
      ]
     },
     "metadata": {},
     "output_type": "display_data"
    },
    {
     "name": "stderr",
     "output_type": "stream",
     "text": [
      "The `ipykernel.comm.Comm` class has been deprecated. Please use the `comm` module instead.For creating comms, use the function `from comm import create_comm`.\n"
     ]
    },
    {
     "data": {
      "application/vnd.jupyter.widget-view+json": {
       "model_id": "74ffd3891e374a2687a34d00cd69bd4b",
       "version_major": 2,
       "version_minor": 0
      },
      "text/plain": [
       "  0%|          | 0/7 [00:00<?, ?it/s]"
      ]
     },
     "metadata": {},
     "output_type": "display_data"
    }
   ],
   "source": [
    "items = []\n",
    "gb_mae_values = []\n",
    "gb_predictions = {}\n",
    "# Define forecaster\n",
    "forecaster_gradient_boost = ForecasterAutoreg(\n",
    "                    regressor     = HistGradientBoostingRegressor(random_state=8523),\n",
    "                    lags          = 5,\n",
    "                    transformer_y = StandardScaler()\n",
    "                 )\n",
    "for i, item in enumerate(tqdm(data_train.columns)):\n",
    "\n",
    "     gb_metric, gb_predictions_backtest = backtesting_forecaster(\n",
    "                                        forecaster = forecaster_gradient_boost,\n",
    "                                        y          = data[item],\n",
    "                                        initial_train_size = len(data.loc[:end_train]),\n",
    "                                        fixed_train_size   = False,\n",
    "                                        steps      = 1,\n",
    "                                        metric     = 'mean_absolute_error',\n",
    "                                        refit      = True,\n",
    "                                        verbose    = False\n",
    "                                   )\n",
    "\n",
    "     items.append(item)\n",
    "     gb_mae_values.append(gb_metric)\n",
    "     gb_predictions[item] = gb_predictions_backtest\n",
    "\n",
    "# Results\n",
    "gb_uni_series_mae = pd.Series(\n",
    "                     data  = gb_mae_values,\n",
    "                     index = items,\n",
    "                     name  = 'gb_uni_series_mae')"
   ]
  },
  {
   "cell_type": "markdown",
   "metadata": {},
   "source": [
    "## GB- Multiseries Forecaset"
   ]
  },
  {
   "cell_type": "code",
   "execution_count": 428,
   "metadata": {},
   "outputs": [
    {
     "name": "stderr",
     "output_type": "stream",
     "text": [
      "The `ipykernel.comm.Comm` class has been deprecated. Please use the `comm` module instead.For creating comms, use the function `from comm import create_comm`.\n"
     ]
    },
    {
     "data": {
      "application/vnd.jupyter.widget-view+json": {
       "model_id": "3195fc7af876412eb033b1ddf56147cb",
       "version_major": 2,
       "version_minor": 0
      },
      "text/plain": [
       "  0%|          | 0/7 [00:00<?, ?it/s]"
      ]
     },
     "metadata": {},
     "output_type": "display_data"
    },
    {
     "data": {
      "text/html": [
       "<div>\n",
       "<style scoped>\n",
       "    .dataframe tbody tr th:only-of-type {\n",
       "        vertical-align: middle;\n",
       "    }\n",
       "\n",
       "    .dataframe tbody tr th {\n",
       "        vertical-align: top;\n",
       "    }\n",
       "\n",
       "    .dataframe thead th {\n",
       "        text-align: right;\n",
       "    }\n",
       "</style>\n",
       "<table border=\"1\" class=\"dataframe\">\n",
       "  <thead>\n",
       "    <tr style=\"text-align: right;\">\n",
       "      <th></th>\n",
       "      <th>levels</th>\n",
       "      <th>mean_absolute_error</th>\n",
       "    </tr>\n",
       "  </thead>\n",
       "  <tbody>\n",
       "    <tr>\n",
       "      <th>0</th>\n",
       "      <td>cis_subjective_fatigue</td>\n",
       "      <td>1.072684</td>\n",
       "    </tr>\n",
       "    <tr>\n",
       "      <th>1</th>\n",
       "      <td>hooper_muscles_sore</td>\n",
       "      <td>2.700240</td>\n",
       "    </tr>\n",
       "    <tr>\n",
       "      <th>2</th>\n",
       "      <td>extra_muscles_tired</td>\n",
       "      <td>1.992757</td>\n",
       "    </tr>\n",
       "  </tbody>\n",
       "</table>\n",
       "</div>"
      ],
      "text/plain": [
       "                   levels  mean_absolute_error\n",
       "0  cis_subjective_fatigue             1.072684\n",
       "1     hooper_muscles_sore             2.700240\n",
       "2     extra_muscles_tired             1.992757"
      ]
     },
     "metadata": {},
     "output_type": "display_data"
    },
    {
     "name": "stdout",
     "output_type": "stream",
     "text": [
      "\n"
     ]
    },
    {
     "data": {
      "text/html": [
       "<div>\n",
       "<style scoped>\n",
       "    .dataframe tbody tr th:only-of-type {\n",
       "        vertical-align: middle;\n",
       "    }\n",
       "\n",
       "    .dataframe tbody tr th {\n",
       "        vertical-align: top;\n",
       "    }\n",
       "\n",
       "    .dataframe thead th {\n",
       "        text-align: right;\n",
       "    }\n",
       "</style>\n",
       "<table border=\"1\" class=\"dataframe\">\n",
       "  <thead>\n",
       "    <tr style=\"text-align: right;\">\n",
       "      <th></th>\n",
       "      <th>cis_subjective_fatigue</th>\n",
       "      <th>hooper_muscles_sore</th>\n",
       "      <th>extra_muscles_tired</th>\n",
       "    </tr>\n",
       "  </thead>\n",
       "  <tbody>\n",
       "    <tr>\n",
       "      <th>2024-07-22</th>\n",
       "      <td>2.916183</td>\n",
       "      <td>3.450080</td>\n",
       "      <td>4.804222</td>\n",
       "    </tr>\n",
       "    <tr>\n",
       "      <th>2024-07-23</th>\n",
       "      <td>2.394111</td>\n",
       "      <td>2.734665</td>\n",
       "      <td>1.907373</td>\n",
       "    </tr>\n",
       "    <tr>\n",
       "      <th>2024-07-24</th>\n",
       "      <td>3.986925</td>\n",
       "      <td>1.651559</td>\n",
       "      <td>4.475180</td>\n",
       "    </tr>\n",
       "  </tbody>\n",
       "</table>\n",
       "</div>"
      ],
      "text/plain": [
       "            cis_subjective_fatigue  hooper_muscles_sore  extra_muscles_tired\n",
       "2024-07-22                2.916183             3.450080             4.804222\n",
       "2024-07-23                2.394111             2.734665             1.907373\n",
       "2024-07-24                3.986925             1.651559             4.475180"
      ]
     },
     "metadata": {},
     "output_type": "display_data"
    }
   ],
   "source": [
    "# Train and backtest a model for all items: ForecasterAutoregMultiSeries\n",
    "# ======================================================================================\n",
    "items = list(data_all.columns)\n",
    "items=pred_variables\n",
    "# Define forecaster\n",
    "forecaster_ms = ForecasterAutoregMultiSeries(\n",
    "                    regressor          = HistGradientBoostingRegressor(random_state=8523),\n",
    "                    lags               = 5,\n",
    "                    encoding           = 'ordinal',\n",
    "                    transformer_series = StandardScaler(),\n",
    "                )\n",
    "# Backtesting forecaster for all items\n",
    "gb_multi_series_mae, gb_predictions_ms = backtesting_forecaster_multiseries(\n",
    "                                       forecaster         = forecaster_ms,\n",
    "                                       series             = data_all,\n",
    "                                       levels             = items,\n",
    "                                       steps              = 1,\n",
    "                                       metric             = 'mean_absolute_error',\n",
    "                                       initial_train_size = len(data_all.loc[:end_train]),\n",
    "                                       refit              = True,\n",
    "                                       fixed_train_size   = False,\n",
    "                                       verbose            = False,\n",
    "                                       show_progress      = True \n",
    "                                    )\n",
    "# Results\n",
    "display(gb_multi_series_mae.head(3))\n",
    "print('')\n",
    "display(gb_predictions_ms.head(3))\n"
   ]
  },
  {
   "cell_type": "markdown",
   "metadata": {},
   "source": [
    "# Lasso Regression"
   ]
  },
  {
   "cell_type": "code",
   "execution_count": 58,
   "metadata": {},
   "outputs": [],
   "source": [
    "from sklearn.model_selection import cross_val_score\n",
    "from sklearn.model_selection import RepeatedKFold\n",
    "from sklearn.linear_model import Lasso\n",
    "from sklearn.model_selection import GridSearchCV\n"
   ]
  },
  {
   "cell_type": "code",
   "execution_count": 59,
   "metadata": {},
   "outputs": [
    {
     "name": "stderr",
     "output_type": "stream",
     "text": [
      "/Users/htr365/opt/anaconda3/envs/muscles/lib/python3.8/site-packages/sklearn/base.py:1151: UserWarning: With alpha=0, this algorithm does not converge well. You are advised to use the LinearRegression estimator\n",
      "  return fit_method(estimator, *args, **kwargs)\n",
      "/Users/htr365/opt/anaconda3/envs/muscles/lib/python3.8/site-packages/sklearn/base.py:1151: UserWarning: With alpha=0, this algorithm does not converge well. You are advised to use the LinearRegression estimator\n",
      "  return fit_method(estimator, *args, **kwargs)\n",
      "/Users/htr365/opt/anaconda3/envs/muscles/lib/python3.8/site-packages/sklearn/base.py:1151: UserWarning: With alpha=0, this algorithm does not converge well. You are advised to use the LinearRegression estimator\n",
      "  return fit_method(estimator, *args, **kwargs)\n",
      "/Users/htr365/opt/anaconda3/envs/muscles/lib/python3.8/site-packages/sklearn/base.py:1151: UserWarning: With alpha=0, this algorithm does not converge well. You are advised to use the LinearRegression estimator\n",
      "  return fit_method(estimator, *args, **kwargs)\n",
      "/Users/htr365/opt/anaconda3/envs/muscles/lib/python3.8/site-packages/sklearn/base.py:1151: UserWarning: With alpha=0, this algorithm does not converge well. You are advised to use the LinearRegression estimator\n",
      "  return fit_method(estimator, *args, **kwargs)\n",
      "/Users/htr365/opt/anaconda3/envs/muscles/lib/python3.8/site-packages/sklearn/base.py:1151: UserWarning: With alpha=0, this algorithm does not converge well. You are advised to use the LinearRegression estimator\n",
      "  return fit_method(estimator, *args, **kwargs)\n",
      "/Users/htr365/opt/anaconda3/envs/muscles/lib/python3.8/site-packages/sklearn/base.py:1151: UserWarning: With alpha=0, this algorithm does not converge well. You are advised to use the LinearRegression estimator\n",
      "  return fit_method(estimator, *args, **kwargs)\n",
      "/Users/htr365/opt/anaconda3/envs/muscles/lib/python3.8/site-packages/sklearn/base.py:1151: UserWarning: With alpha=0, this algorithm does not converge well. You are advised to use the LinearRegression estimator\n",
      "  return fit_method(estimator, *args, **kwargs)\n",
      "/Users/htr365/opt/anaconda3/envs/muscles/lib/python3.8/site-packages/sklearn/linear_model/_coordinate_descent.py:628: UserWarning: Coordinate descent with no regularization may lead to unexpected results and is discouraged.\n",
      "  model = cd_fast.enet_coordinate_descent(\n",
      "/Users/htr365/opt/anaconda3/envs/muscles/lib/python3.8/site-packages/sklearn/linear_model/_coordinate_descent.py:628: UserWarning: Coordinate descent with no regularization may lead to unexpected results and is discouraged.\n",
      "  model = cd_fast.enet_coordinate_descent(\n",
      "/Users/htr365/opt/anaconda3/envs/muscles/lib/python3.8/site-packages/sklearn/linear_model/_coordinate_descent.py:628: UserWarning: Coordinate descent with no regularization may lead to unexpected results and is discouraged.\n",
      "  model = cd_fast.enet_coordinate_descent(\n",
      "/Users/htr365/opt/anaconda3/envs/muscles/lib/python3.8/site-packages/sklearn/linear_model/_coordinate_descent.py:628: UserWarning: Coordinate descent with no regularization may lead to unexpected results and is discouraged.\n",
      "  model = cd_fast.enet_coordinate_descent(\n",
      "/Users/htr365/opt/anaconda3/envs/muscles/lib/python3.8/site-packages/sklearn/linear_model/_coordinate_descent.py:628: UserWarning: Coordinate descent with no regularization may lead to unexpected results and is discouraged.\n",
      "  model = cd_fast.enet_coordinate_descent(\n",
      "/Users/htr365/opt/anaconda3/envs/muscles/lib/python3.8/site-packages/sklearn/linear_model/_coordinate_descent.py:628: UserWarning: Coordinate descent with no regularization may lead to unexpected results and is discouraged.\n",
      "  model = cd_fast.enet_coordinate_descent(\n",
      "/Users/htr365/opt/anaconda3/envs/muscles/lib/python3.8/site-packages/sklearn/linear_model/_coordinate_descent.py:628: UserWarning: Coordinate descent with no regularization may lead to unexpected results and is discouraged.\n",
      "  model = cd_fast.enet_coordinate_descent(\n",
      "/Users/htr365/opt/anaconda3/envs/muscles/lib/python3.8/site-packages/sklearn/linear_model/_coordinate_descent.py:628: UserWarning: Coordinate descent with no regularization may lead to unexpected results and is discouraged.\n",
      "  model = cd_fast.enet_coordinate_descent(\n",
      "/Users/htr365/opt/anaconda3/envs/muscles/lib/python3.8/site-packages/sklearn/base.py:1151: UserWarning: With alpha=0, this algorithm does not converge well. You are advised to use the LinearRegression estimator\n",
      "  return fit_method(estimator, *args, **kwargs)\n",
      "/Users/htr365/opt/anaconda3/envs/muscles/lib/python3.8/site-packages/sklearn/base.py:1151: UserWarning: With alpha=0, this algorithm does not converge well. You are advised to use the LinearRegression estimator\n",
      "  return fit_method(estimator, *args, **kwargs)\n",
      "/Users/htr365/opt/anaconda3/envs/muscles/lib/python3.8/site-packages/sklearn/base.py:1151: UserWarning: With alpha=0, this algorithm does not converge well. You are advised to use the LinearRegression estimator\n",
      "  return fit_method(estimator, *args, **kwargs)\n",
      "/Users/htr365/opt/anaconda3/envs/muscles/lib/python3.8/site-packages/sklearn/base.py:1151: UserWarning: With alpha=0, this algorithm does not converge well. You are advised to use the LinearRegression estimator\n",
      "  return fit_method(estimator, *args, **kwargs)\n",
      "/Users/htr365/opt/anaconda3/envs/muscles/lib/python3.8/site-packages/sklearn/linear_model/_coordinate_descent.py:628: UserWarning: Coordinate descent with no regularization may lead to unexpected results and is discouraged.\n",
      "  model = cd_fast.enet_coordinate_descent(\n",
      "/Users/htr365/opt/anaconda3/envs/muscles/lib/python3.8/site-packages/sklearn/linear_model/_coordinate_descent.py:628: UserWarning: Coordinate descent with no regularization may lead to unexpected results and is discouraged.\n",
      "  model = cd_fast.enet_coordinate_descent(\n",
      "/Users/htr365/opt/anaconda3/envs/muscles/lib/python3.8/site-packages/sklearn/linear_model/_coordinate_descent.py:628: UserWarning: Coordinate descent with no regularization may lead to unexpected results and is discouraged.\n",
      "  model = cd_fast.enet_coordinate_descent(\n",
      "/Users/htr365/opt/anaconda3/envs/muscles/lib/python3.8/site-packages/sklearn/linear_model/_coordinate_descent.py:628: UserWarning: Coordinate descent with no regularization may lead to unexpected results and is discouraged.\n",
      "  model = cd_fast.enet_coordinate_descent(\n",
      "/Users/htr365/opt/anaconda3/envs/muscles/lib/python3.8/site-packages/sklearn/base.py:1151: UserWarning: With alpha=0, this algorithm does not converge well. You are advised to use the LinearRegression estimator\n",
      "  return fit_method(estimator, *args, **kwargs)\n",
      "/Users/htr365/opt/anaconda3/envs/muscles/lib/python3.8/site-packages/sklearn/base.py:1151: UserWarning: With alpha=0, this algorithm does not converge well. You are advised to use the LinearRegression estimator\n",
      "  return fit_method(estimator, *args, **kwargs)\n",
      "/Users/htr365/opt/anaconda3/envs/muscles/lib/python3.8/site-packages/sklearn/base.py:1151: UserWarning: With alpha=0, this algorithm does not converge well. You are advised to use the LinearRegression estimator\n",
      "  return fit_method(estimator, *args, **kwargs)\n",
      "/Users/htr365/opt/anaconda3/envs/muscles/lib/python3.8/site-packages/sklearn/linear_model/_coordinate_descent.py:628: UserWarning: Coordinate descent with no regularization may lead to unexpected results and is discouraged.\n",
      "  model = cd_fast.enet_coordinate_descent(\n",
      "/Users/htr365/opt/anaconda3/envs/muscles/lib/python3.8/site-packages/sklearn/linear_model/_coordinate_descent.py:628: UserWarning: Coordinate descent with no regularization may lead to unexpected results and is discouraged.\n",
      "  model = cd_fast.enet_coordinate_descent(\n",
      "/Users/htr365/opt/anaconda3/envs/muscles/lib/python3.8/site-packages/sklearn/base.py:1151: UserWarning: With alpha=0, this algorithm does not converge well. You are advised to use the LinearRegression estimator\n",
      "  return fit_method(estimator, *args, **kwargs)\n",
      "/Users/htr365/opt/anaconda3/envs/muscles/lib/python3.8/site-packages/sklearn/linear_model/_coordinate_descent.py:628: UserWarning: Coordinate descent with no regularization may lead to unexpected results and is discouraged.\n",
      "  model = cd_fast.enet_coordinate_descent(\n",
      "/Users/htr365/opt/anaconda3/envs/muscles/lib/python3.8/site-packages/sklearn/base.py:1151: UserWarning: With alpha=0, this algorithm does not converge well. You are advised to use the LinearRegression estimator\n",
      "  return fit_method(estimator, *args, **kwargs)\n",
      "/Users/htr365/opt/anaconda3/envs/muscles/lib/python3.8/site-packages/sklearn/linear_model/_coordinate_descent.py:628: UserWarning: Coordinate descent with no regularization may lead to unexpected results and is discouraged.\n",
      "  model = cd_fast.enet_coordinate_descent(\n",
      "/Users/htr365/opt/anaconda3/envs/muscles/lib/python3.8/site-packages/sklearn/base.py:1151: UserWarning: With alpha=0, this algorithm does not converge well. You are advised to use the LinearRegression estimator\n",
      "  return fit_method(estimator, *args, **kwargs)\n",
      "/Users/htr365/opt/anaconda3/envs/muscles/lib/python3.8/site-packages/sklearn/linear_model/_coordinate_descent.py:628: UserWarning: Coordinate descent with no regularization may lead to unexpected results and is discouraged.\n",
      "  model = cd_fast.enet_coordinate_descent(\n",
      "/Users/htr365/opt/anaconda3/envs/muscles/lib/python3.8/site-packages/sklearn/base.py:1151: UserWarning: With alpha=0, this algorithm does not converge well. You are advised to use the LinearRegression estimator\n",
      "  return fit_method(estimator, *args, **kwargs)\n",
      "/Users/htr365/opt/anaconda3/envs/muscles/lib/python3.8/site-packages/sklearn/base.py:1151: UserWarning: With alpha=0, this algorithm does not converge well. You are advised to use the LinearRegression estimator\n",
      "  return fit_method(estimator, *args, **kwargs)\n",
      "/Users/htr365/opt/anaconda3/envs/muscles/lib/python3.8/site-packages/sklearn/base.py:1151: UserWarning: With alpha=0, this algorithm does not converge well. You are advised to use the LinearRegression estimator\n",
      "  return fit_method(estimator, *args, **kwargs)\n",
      "/Users/htr365/opt/anaconda3/envs/muscles/lib/python3.8/site-packages/sklearn/linear_model/_coordinate_descent.py:628: UserWarning: Coordinate descent with no regularization may lead to unexpected results and is discouraged.\n",
      "  model = cd_fast.enet_coordinate_descent(\n",
      "/Users/htr365/opt/anaconda3/envs/muscles/lib/python3.8/site-packages/sklearn/linear_model/_coordinate_descent.py:628: UserWarning: Coordinate descent with no regularization may lead to unexpected results and is discouraged.\n",
      "  model = cd_fast.enet_coordinate_descent(\n",
      "/Users/htr365/opt/anaconda3/envs/muscles/lib/python3.8/site-packages/sklearn/linear_model/_coordinate_descent.py:628: UserWarning: Coordinate descent with no regularization may lead to unexpected results and is discouraged.\n",
      "  model = cd_fast.enet_coordinate_descent(\n",
      "/Users/htr365/opt/anaconda3/envs/muscles/lib/python3.8/site-packages/sklearn/base.py:1151: UserWarning: With alpha=0, this algorithm does not converge well. You are advised to use the LinearRegression estimator\n",
      "  return fit_method(estimator, *args, **kwargs)\n",
      "/Users/htr365/opt/anaconda3/envs/muscles/lib/python3.8/site-packages/sklearn/linear_model/_coordinate_descent.py:628: UserWarning: Coordinate descent with no regularization may lead to unexpected results and is discouraged.\n",
      "  model = cd_fast.enet_coordinate_descent(\n",
      "/Users/htr365/opt/anaconda3/envs/muscles/lib/python3.8/site-packages/sklearn/base.py:1151: UserWarning: With alpha=0, this algorithm does not converge well. You are advised to use the LinearRegression estimator\n",
      "  return fit_method(estimator, *args, **kwargs)\n",
      "/Users/htr365/opt/anaconda3/envs/muscles/lib/python3.8/site-packages/sklearn/base.py:1151: UserWarning: With alpha=0, this algorithm does not converge well. You are advised to use the LinearRegression estimator\n",
      "  return fit_method(estimator, *args, **kwargs)\n",
      "/Users/htr365/opt/anaconda3/envs/muscles/lib/python3.8/site-packages/sklearn/linear_model/_coordinate_descent.py:628: UserWarning: Coordinate descent with no regularization may lead to unexpected results and is discouraged.\n",
      "  model = cd_fast.enet_coordinate_descent(\n",
      "/Users/htr365/opt/anaconda3/envs/muscles/lib/python3.8/site-packages/sklearn/linear_model/_coordinate_descent.py:628: UserWarning: Coordinate descent with no regularization may lead to unexpected results and is discouraged.\n",
      "  model = cd_fast.enet_coordinate_descent(\n",
      "/Users/htr365/opt/anaconda3/envs/muscles/lib/python3.8/site-packages/sklearn/linear_model/_coordinate_descent.py:628: UserWarning: Coordinate descent with no regularization may lead to unexpected results and is discouraged.\n",
      "  model = cd_fast.enet_coordinate_descent(\n",
      "/Users/htr365/opt/anaconda3/envs/muscles/lib/python3.8/site-packages/sklearn/base.py:1151: UserWarning: With alpha=0, this algorithm does not converge well. You are advised to use the LinearRegression estimator\n",
      "  return fit_method(estimator, *args, **kwargs)\n",
      "/Users/htr365/opt/anaconda3/envs/muscles/lib/python3.8/site-packages/sklearn/base.py:1151: UserWarning: With alpha=0, this algorithm does not converge well. You are advised to use the LinearRegression estimator\n",
      "  return fit_method(estimator, *args, **kwargs)\n",
      "/Users/htr365/opt/anaconda3/envs/muscles/lib/python3.8/site-packages/sklearn/base.py:1151: UserWarning: With alpha=0, this algorithm does not converge well. You are advised to use the LinearRegression estimator\n",
      "  return fit_method(estimator, *args, **kwargs)\n",
      "/Users/htr365/opt/anaconda3/envs/muscles/lib/python3.8/site-packages/sklearn/linear_model/_coordinate_descent.py:628: UserWarning: Coordinate descent with no regularization may lead to unexpected results and is discouraged.\n",
      "  model = cd_fast.enet_coordinate_descent(\n",
      "/Users/htr365/opt/anaconda3/envs/muscles/lib/python3.8/site-packages/sklearn/linear_model/_coordinate_descent.py:628: UserWarning: Coordinate descent with no regularization may lead to unexpected results and is discouraged.\n",
      "  model = cd_fast.enet_coordinate_descent(\n",
      "/Users/htr365/opt/anaconda3/envs/muscles/lib/python3.8/site-packages/sklearn/base.py:1151: UserWarning: With alpha=0, this algorithm does not converge well. You are advised to use the LinearRegression estimator\n",
      "  return fit_method(estimator, *args, **kwargs)\n",
      "/Users/htr365/opt/anaconda3/envs/muscles/lib/python3.8/site-packages/sklearn/linear_model/_coordinate_descent.py:628: UserWarning: Coordinate descent with no regularization may lead to unexpected results and is discouraged.\n",
      "  model = cd_fast.enet_coordinate_descent(\n",
      "/Users/htr365/opt/anaconda3/envs/muscles/lib/python3.8/site-packages/sklearn/linear_model/_coordinate_descent.py:628: UserWarning: Coordinate descent with no regularization may lead to unexpected results and is discouraged.\n",
      "  model = cd_fast.enet_coordinate_descent(\n",
      "/Users/htr365/opt/anaconda3/envs/muscles/lib/python3.8/site-packages/sklearn/base.py:1151: UserWarning: With alpha=0, this algorithm does not converge well. You are advised to use the LinearRegression estimator\n",
      "  return fit_method(estimator, *args, **kwargs)\n",
      "/Users/htr365/opt/anaconda3/envs/muscles/lib/python3.8/site-packages/sklearn/base.py:1151: UserWarning: With alpha=0, this algorithm does not converge well. You are advised to use the LinearRegression estimator\n",
      "  return fit_method(estimator, *args, **kwargs)\n",
      "/Users/htr365/opt/anaconda3/envs/muscles/lib/python3.8/site-packages/sklearn/linear_model/_coordinate_descent.py:628: UserWarning: Coordinate descent with no regularization may lead to unexpected results and is discouraged.\n",
      "  model = cd_fast.enet_coordinate_descent(\n",
      "/Users/htr365/opt/anaconda3/envs/muscles/lib/python3.8/site-packages/sklearn/linear_model/_coordinate_descent.py:628: UserWarning: Coordinate descent with no regularization may lead to unexpected results and is discouraged.\n",
      "  model = cd_fast.enet_coordinate_descent(\n",
      "/Users/htr365/opt/anaconda3/envs/muscles/lib/python3.8/site-packages/sklearn/linear_model/_coordinate_descent.py:628: ConvergenceWarning: Objective did not converge. You might want to increase the number of iterations, check the scale of the features or consider increasing regularisation. Duality gap: 3.733e-01, tolerance: 2.713e-03\n",
      "  model = cd_fast.enet_coordinate_descent(\n",
      "/Users/htr365/opt/anaconda3/envs/muscles/lib/python3.8/site-packages/sklearn/linear_model/_coordinate_descent.py:628: ConvergenceWarning: Objective did not converge. You might want to increase the number of iterations, check the scale of the features or consider increasing regularisation. Duality gap: 5.380e-02, tolerance: 1.922e-03\n",
      "  model = cd_fast.enet_coordinate_descent(\n",
      "/Users/htr365/opt/anaconda3/envs/muscles/lib/python3.8/site-packages/sklearn/linear_model/_coordinate_descent.py:628: ConvergenceWarning: Objective did not converge. You might want to increase the number of iterations, check the scale of the features or consider increasing regularisation. Duality gap: 1.013e-01, tolerance: 2.728e-03\n",
      "  model = cd_fast.enet_coordinate_descent(\n",
      "/Users/htr365/opt/anaconda3/envs/muscles/lib/python3.8/site-packages/sklearn/linear_model/_coordinate_descent.py:628: ConvergenceWarning: Objective did not converge. You might want to increase the number of iterations, check the scale of the features or consider increasing regularisation. Duality gap: 2.358e-01, tolerance: 2.757e-03\n",
      "  model = cd_fast.enet_coordinate_descent(\n",
      "/Users/htr365/opt/anaconda3/envs/muscles/lib/python3.8/site-packages/sklearn/linear_model/_coordinate_descent.py:628: ConvergenceWarning: Objective did not converge. You might want to increase the number of iterations, check the scale of the features or consider increasing regularisation. Duality gap: 2.739e-01, tolerance: 2.920e-03\n",
      "  model = cd_fast.enet_coordinate_descent(\n",
      "/Users/htr365/opt/anaconda3/envs/muscles/lib/python3.8/site-packages/sklearn/linear_model/_coordinate_descent.py:628: ConvergenceWarning: Objective did not converge. You might want to increase the number of iterations, check the scale of the features or consider increasing regularisation. Duality gap: 4.530e-01, tolerance: 2.757e-03\n",
      "  model = cd_fast.enet_coordinate_descent(\n",
      "/Users/htr365/opt/anaconda3/envs/muscles/lib/python3.8/site-packages/sklearn/linear_model/_coordinate_descent.py:628: ConvergenceWarning: Objective did not converge. You might want to increase the number of iterations, check the scale of the features or consider increasing regularisation. Duality gap: 3.515e-01, tolerance: 2.531e-03\n",
      "  model = cd_fast.enet_coordinate_descent(\n",
      "/Users/htr365/opt/anaconda3/envs/muscles/lib/python3.8/site-packages/sklearn/linear_model/_coordinate_descent.py:628: ConvergenceWarning: Objective did not converge. You might want to increase the number of iterations, check the scale of the features or consider increasing regularisation. Duality gap: 4.595e-02, tolerance: 2.795e-03\n",
      "  model = cd_fast.enet_coordinate_descent(\n",
      "/Users/htr365/opt/anaconda3/envs/muscles/lib/python3.8/site-packages/sklearn/linear_model/_coordinate_descent.py:628: ConvergenceWarning: Objective did not converge. You might want to increase the number of iterations, check the scale of the features or consider increasing regularisation. Duality gap: 3.354e-01, tolerance: 2.137e-03\n",
      "  model = cd_fast.enet_coordinate_descent(\n",
      "/Users/htr365/opt/anaconda3/envs/muscles/lib/python3.8/site-packages/sklearn/linear_model/_coordinate_descent.py:628: ConvergenceWarning: Objective did not converge. You might want to increase the number of iterations, check the scale of the features or consider increasing regularisation. Duality gap: 4.013e-01, tolerance: 2.517e-03\n",
      "  model = cd_fast.enet_coordinate_descent(\n",
      "/Users/htr365/opt/anaconda3/envs/muscles/lib/python3.8/site-packages/sklearn/linear_model/_coordinate_descent.py:628: ConvergenceWarning: Objective did not converge. You might want to increase the number of iterations, check the scale of the features or consider increasing regularisation. Duality gap: 4.334e-01, tolerance: 2.935e-03\n",
      "  model = cd_fast.enet_coordinate_descent(\n",
      "/Users/htr365/opt/anaconda3/envs/muscles/lib/python3.8/site-packages/sklearn/linear_model/_coordinate_descent.py:628: ConvergenceWarning: Objective did not converge. You might want to increase the number of iterations, check the scale of the features or consider increasing regularisation. Duality gap: 3.776e-01, tolerance: 2.859e-03\n",
      "  model = cd_fast.enet_coordinate_descent(\n",
      "/Users/htr365/opt/anaconda3/envs/muscles/lib/python3.8/site-packages/sklearn/linear_model/_coordinate_descent.py:628: ConvergenceWarning: Objective did not converge. You might want to increase the number of iterations, check the scale of the features or consider increasing regularisation. Duality gap: 4.115e-01, tolerance: 2.519e-03\n",
      "  model = cd_fast.enet_coordinate_descent(\n",
      "/Users/htr365/opt/anaconda3/envs/muscles/lib/python3.8/site-packages/sklearn/linear_model/_coordinate_descent.py:628: ConvergenceWarning: Objective did not converge. You might want to increase the number of iterations, check the scale of the features or consider increasing regularisation. Duality gap: 4.530e-01, tolerance: 2.757e-03\n",
      "  model = cd_fast.enet_coordinate_descent(\n",
      "/Users/htr365/opt/anaconda3/envs/muscles/lib/python3.8/site-packages/sklearn/linear_model/_coordinate_descent.py:628: ConvergenceWarning: Objective did not converge. You might want to increase the number of iterations, check the scale of the features or consider increasing regularisation. Duality gap: 2.223e-01, tolerance: 2.250e-03\n",
      "  model = cd_fast.enet_coordinate_descent(\n",
      "/Users/htr365/opt/anaconda3/envs/muscles/lib/python3.8/site-packages/sklearn/linear_model/_coordinate_descent.py:628: ConvergenceWarning: Objective did not converge. You might want to increase the number of iterations, check the scale of the features or consider increasing regularisation. Duality gap: 1.795e-01, tolerance: 2.803e-03\n",
      "  model = cd_fast.enet_coordinate_descent(\n",
      "/Users/htr365/opt/anaconda3/envs/muscles/lib/python3.8/site-packages/sklearn/linear_model/_coordinate_descent.py:628: ConvergenceWarning: Objective did not converge. You might want to increase the number of iterations, check the scale of the features or consider increasing regularisation. Duality gap: 9.885e-03, tolerance: 2.728e-03\n",
      "  model = cd_fast.enet_coordinate_descent(\n",
      "/Users/htr365/opt/anaconda3/envs/muscles/lib/python3.8/site-packages/sklearn/linear_model/_coordinate_descent.py:628: ConvergenceWarning: Objective did not converge. You might want to increase the number of iterations, check the scale of the features or consider increasing regularisation. Duality gap: 6.565e-01, tolerance: 2.757e-03\n",
      "  model = cd_fast.enet_coordinate_descent(\n",
      "/Users/htr365/opt/anaconda3/envs/muscles/lib/python3.8/site-packages/sklearn/linear_model/_coordinate_descent.py:628: ConvergenceWarning: Objective did not converge. You might want to increase the number of iterations, check the scale of the features or consider increasing regularisation. Duality gap: 9.652e-03, tolerance: 2.935e-03\n",
      "  model = cd_fast.enet_coordinate_descent(\n",
      "/Users/htr365/opt/anaconda3/envs/muscles/lib/python3.8/site-packages/sklearn/linear_model/_coordinate_descent.py:628: ConvergenceWarning: Objective did not converge. You might want to increase the number of iterations, check the scale of the features or consider increasing regularisation. Duality gap: 7.836e-01, tolerance: 2.813e-03\n",
      "  model = cd_fast.enet_coordinate_descent(\n",
      "/Users/htr365/opt/anaconda3/envs/muscles/lib/python3.8/site-packages/sklearn/linear_model/_coordinate_descent.py:628: ConvergenceWarning: Objective did not converge. You might want to increase the number of iterations, check the scale of the features or consider increasing regularisation. Duality gap: 6.565e-01, tolerance: 2.757e-03\n",
      "  model = cd_fast.enet_coordinate_descent(\n",
      "/Users/htr365/opt/anaconda3/envs/muscles/lib/python3.8/site-packages/sklearn/linear_model/_coordinate_descent.py:628: ConvergenceWarning: Objective did not converge. You might want to increase the number of iterations, check the scale of the features or consider increasing regularisation. Duality gap: 4.214e-01, tolerance: 2.250e-03\n",
      "  model = cd_fast.enet_coordinate_descent(\n",
      "/Users/htr365/opt/anaconda3/envs/muscles/lib/python3.8/site-packages/sklearn/linear_model/_coordinate_descent.py:628: ConvergenceWarning: Objective did not converge. You might want to increase the number of iterations, check the scale of the features or consider increasing regularisation. Duality gap: 1.822e-01, tolerance: 2.757e-03\n",
      "  model = cd_fast.enet_coordinate_descent(\n",
      "/Users/htr365/opt/anaconda3/envs/muscles/lib/python3.8/site-packages/sklearn/linear_model/_coordinate_descent.py:628: ConvergenceWarning: Objective did not converge. You might want to increase the number of iterations, check the scale of the features or consider increasing regularisation. Duality gap: 3.381e-02, tolerance: 2.250e-03\n",
      "  model = cd_fast.enet_coordinate_descent(\n",
      "/Users/htr365/opt/anaconda3/envs/muscles/lib/python3.8/site-packages/sklearn/linear_model/_coordinate_descent.py:628: ConvergenceWarning: Objective did not converge. You might want to increase the number of iterations, check the scale of the features or consider increasing regularisation. Duality gap: 6.343e-01, tolerance: 2.813e-03\n",
      "  model = cd_fast.enet_coordinate_descent(\n",
      "/Users/htr365/opt/anaconda3/envs/muscles/lib/python3.8/site-packages/sklearn/linear_model/_coordinate_descent.py:628: ConvergenceWarning: Objective did not converge. You might want to increase the number of iterations, check the scale of the features or consider increasing regularisation. Duality gap: 2.215e-02, tolerance: 1.922e-03\n",
      "  model = cd_fast.enet_coordinate_descent(\n",
      "/Users/htr365/opt/anaconda3/envs/muscles/lib/python3.8/site-packages/sklearn/linear_model/_coordinate_descent.py:628: ConvergenceWarning: Objective did not converge. You might want to increase the number of iterations, check the scale of the features or consider increasing regularisation. Duality gap: 1.822e-01, tolerance: 2.757e-03\n",
      "  model = cd_fast.enet_coordinate_descent(\n",
      "/Users/htr365/opt/anaconda3/envs/muscles/lib/python3.8/site-packages/sklearn/linear_model/_coordinate_descent.py:628: ConvergenceWarning: Objective did not converge. You might want to increase the number of iterations, check the scale of the features or consider increasing regularisation. Duality gap: 5.991e-02, tolerance: 2.813e-03\n",
      "  model = cd_fast.enet_coordinate_descent(\n",
      "/Users/htr365/opt/anaconda3/envs/muscles/lib/python3.8/site-packages/sklearn/linear_model/_coordinate_descent.py:628: ConvergenceWarning: Objective did not converge. You might want to increase the number of iterations, check the scale of the features or consider increasing regularisation. Duality gap: 2.969e-02, tolerance: 2.813e-03\n",
      "  model = cd_fast.enet_coordinate_descent(\n"
     ]
    },
    {
     "name": "stdout",
     "output_type": "stream",
     "text": [
      "cis_subjective_fatigue\n",
      "           0                       1\n",
      "0  -0.000000                   cis_1\n",
      "1  -0.000000                   cis_2\n",
      "2  -0.175061                   cis_3\n",
      "3  -0.000000                   cis_4\n",
      "4  -0.000000                   cis_5\n",
      "5  -0.000000                   cis_6\n",
      "6   0.094938                   cis_7\n",
      "7  -0.000000                   cis_8\n",
      "8  -0.000000                   cis_9\n",
      "9  -0.000000                  cis_10\n",
      "10 -0.000000                  cis_11\n",
      "11 -0.000000                  cis_12\n",
      "12 -0.000000                  cis_13\n",
      "13 -0.243958                  cis_14\n",
      "14 -0.035441                  cis_15\n",
      "15 -0.000000                  cis_16\n",
      "16  0.000000                  cis_17\n",
      "17 -0.008296                  cis_18\n",
      "18  0.000000                  cis_19\n",
      "19  0.000000                  cis_20\n",
      "20 -0.044599     hooper_muscles_sore\n",
      "21 -0.000000     extra_muscles_tired\n",
      "22 -0.173699    hooper_sleep_quality\n",
      "23  0.000000    hooper_fatigue_level\n",
      "24 -0.056892     hooper_stress_level\n",
      "25 -0.000000            coffee_count\n",
      "26  0.000058              step_count\n",
      "27  0.000000                 alcohol\n",
      "28  0.571807        fatigue_expected\n",
      "29  0.000000   muscles_sore_expected\n",
      "30  0.032579  muscles_tired_expected\n",
      "31 -0.000000  cis_subjective_fatigue\n",
      "32 -0.000000       cis_concentration\n",
      "33 -0.000000          cis_motivation\n",
      "34  0.000000   cis_physical_activity\n",
      "35 -0.011191              sleep_time\n",
      "36 -0.000000                 walking\n",
      "37  0.000000                 cycling\n",
      "38 -0.000000             ball_sports\n",
      "39  0.000000          weight_lifting\n",
      "40  0.000000                 running\n",
      "41 -0.000000                    yoga\n",
      "42 -0.000000                    HITT\n",
      "43  0.000000           manual_labour\n"
     ]
    },
    {
     "name": "stderr",
     "output_type": "stream",
     "text": [
      "/Users/htr365/opt/anaconda3/envs/muscles/lib/python3.8/site-packages/sklearn/base.py:1151: UserWarning: With alpha=0, this algorithm does not converge well. You are advised to use the LinearRegression estimator\n",
      "  return fit_method(estimator, *args, **kwargs)\n",
      "/Users/htr365/opt/anaconda3/envs/muscles/lib/python3.8/site-packages/sklearn/base.py:1151: UserWarning: With alpha=0, this algorithm does not converge well. You are advised to use the LinearRegression estimator\n",
      "  return fit_method(estimator, *args, **kwargs)\n",
      "/Users/htr365/opt/anaconda3/envs/muscles/lib/python3.8/site-packages/sklearn/linear_model/_coordinate_descent.py:628: UserWarning: Coordinate descent with no regularization may lead to unexpected results and is discouraged.\n",
      "  model = cd_fast.enet_coordinate_descent(\n",
      "/Users/htr365/opt/anaconda3/envs/muscles/lib/python3.8/site-packages/sklearn/base.py:1151: UserWarning: With alpha=0, this algorithm does not converge well. You are advised to use the LinearRegression estimator\n",
      "  return fit_method(estimator, *args, **kwargs)\n",
      "/Users/htr365/opt/anaconda3/envs/muscles/lib/python3.8/site-packages/sklearn/linear_model/_coordinate_descent.py:628: UserWarning: Coordinate descent with no regularization may lead to unexpected results and is discouraged.\n",
      "  model = cd_fast.enet_coordinate_descent(\n",
      "/Users/htr365/opt/anaconda3/envs/muscles/lib/python3.8/site-packages/sklearn/linear_model/_coordinate_descent.py:628: UserWarning: Coordinate descent with no regularization may lead to unexpected results and is discouraged.\n",
      "  model = cd_fast.enet_coordinate_descent(\n",
      "/Users/htr365/opt/anaconda3/envs/muscles/lib/python3.8/site-packages/sklearn/base.py:1151: UserWarning: With alpha=0, this algorithm does not converge well. You are advised to use the LinearRegression estimator\n",
      "  return fit_method(estimator, *args, **kwargs)\n",
      "/Users/htr365/opt/anaconda3/envs/muscles/lib/python3.8/site-packages/sklearn/base.py:1151: UserWarning: With alpha=0, this algorithm does not converge well. You are advised to use the LinearRegression estimator\n",
      "  return fit_method(estimator, *args, **kwargs)\n",
      "/Users/htr365/opt/anaconda3/envs/muscles/lib/python3.8/site-packages/sklearn/base.py:1151: UserWarning: With alpha=0, this algorithm does not converge well. You are advised to use the LinearRegression estimator\n",
      "  return fit_method(estimator, *args, **kwargs)\n",
      "/Users/htr365/opt/anaconda3/envs/muscles/lib/python3.8/site-packages/sklearn/base.py:1151: UserWarning: With alpha=0, this algorithm does not converge well. You are advised to use the LinearRegression estimator\n",
      "  return fit_method(estimator, *args, **kwargs)\n",
      "/Users/htr365/opt/anaconda3/envs/muscles/lib/python3.8/site-packages/sklearn/base.py:1151: UserWarning: With alpha=0, this algorithm does not converge well. You are advised to use the LinearRegression estimator\n",
      "  return fit_method(estimator, *args, **kwargs)\n",
      "/Users/htr365/opt/anaconda3/envs/muscles/lib/python3.8/site-packages/sklearn/linear_model/_coordinate_descent.py:628: UserWarning: Coordinate descent with no regularization may lead to unexpected results and is discouraged.\n",
      "  model = cd_fast.enet_coordinate_descent(\n",
      "/Users/htr365/opt/anaconda3/envs/muscles/lib/python3.8/site-packages/sklearn/linear_model/_coordinate_descent.py:628: UserWarning: Coordinate descent with no regularization may lead to unexpected results and is discouraged.\n",
      "  model = cd_fast.enet_coordinate_descent(\n",
      "/Users/htr365/opt/anaconda3/envs/muscles/lib/python3.8/site-packages/sklearn/linear_model/_coordinate_descent.py:628: UserWarning: Coordinate descent with no regularization may lead to unexpected results and is discouraged.\n",
      "  model = cd_fast.enet_coordinate_descent(\n",
      "/Users/htr365/opt/anaconda3/envs/muscles/lib/python3.8/site-packages/sklearn/base.py:1151: UserWarning: With alpha=0, this algorithm does not converge well. You are advised to use the LinearRegression estimator\n",
      "  return fit_method(estimator, *args, **kwargs)\n",
      "/Users/htr365/opt/anaconda3/envs/muscles/lib/python3.8/site-packages/sklearn/linear_model/_coordinate_descent.py:628: UserWarning: Coordinate descent with no regularization may lead to unexpected results and is discouraged.\n",
      "  model = cd_fast.enet_coordinate_descent(\n",
      "/Users/htr365/opt/anaconda3/envs/muscles/lib/python3.8/site-packages/sklearn/base.py:1151: UserWarning: With alpha=0, this algorithm does not converge well. You are advised to use the LinearRegression estimator\n",
      "  return fit_method(estimator, *args, **kwargs)\n",
      "/Users/htr365/opt/anaconda3/envs/muscles/lib/python3.8/site-packages/sklearn/linear_model/_coordinate_descent.py:628: UserWarning: Coordinate descent with no regularization may lead to unexpected results and is discouraged.\n",
      "  model = cd_fast.enet_coordinate_descent(\n",
      "/Users/htr365/opt/anaconda3/envs/muscles/lib/python3.8/site-packages/sklearn/linear_model/_coordinate_descent.py:628: UserWarning: Coordinate descent with no regularization may lead to unexpected results and is discouraged.\n",
      "  model = cd_fast.enet_coordinate_descent(\n",
      "/Users/htr365/opt/anaconda3/envs/muscles/lib/python3.8/site-packages/sklearn/linear_model/_coordinate_descent.py:628: UserWarning: Coordinate descent with no regularization may lead to unexpected results and is discouraged.\n",
      "  model = cd_fast.enet_coordinate_descent(\n",
      "/Users/htr365/opt/anaconda3/envs/muscles/lib/python3.8/site-packages/sklearn/base.py:1151: UserWarning: With alpha=0, this algorithm does not converge well. You are advised to use the LinearRegression estimator\n",
      "  return fit_method(estimator, *args, **kwargs)\n",
      "/Users/htr365/opt/anaconda3/envs/muscles/lib/python3.8/site-packages/sklearn/base.py:1151: UserWarning: With alpha=0, this algorithm does not converge well. You are advised to use the LinearRegression estimator\n",
      "  return fit_method(estimator, *args, **kwargs)\n",
      "/Users/htr365/opt/anaconda3/envs/muscles/lib/python3.8/site-packages/sklearn/base.py:1151: UserWarning: With alpha=0, this algorithm does not converge well. You are advised to use the LinearRegression estimator\n",
      "  return fit_method(estimator, *args, **kwargs)\n",
      "/Users/htr365/opt/anaconda3/envs/muscles/lib/python3.8/site-packages/sklearn/base.py:1151: UserWarning: With alpha=0, this algorithm does not converge well. You are advised to use the LinearRegression estimator\n",
      "  return fit_method(estimator, *args, **kwargs)\n",
      "/Users/htr365/opt/anaconda3/envs/muscles/lib/python3.8/site-packages/sklearn/base.py:1151: UserWarning: With alpha=0, this algorithm does not converge well. You are advised to use the LinearRegression estimator\n",
      "  return fit_method(estimator, *args, **kwargs)\n",
      "/Users/htr365/opt/anaconda3/envs/muscles/lib/python3.8/site-packages/sklearn/linear_model/_coordinate_descent.py:628: UserWarning: Coordinate descent with no regularization may lead to unexpected results and is discouraged.\n",
      "  model = cd_fast.enet_coordinate_descent(\n",
      "/Users/htr365/opt/anaconda3/envs/muscles/lib/python3.8/site-packages/sklearn/linear_model/_coordinate_descent.py:628: UserWarning: Coordinate descent with no regularization may lead to unexpected results and is discouraged.\n",
      "  model = cd_fast.enet_coordinate_descent(\n",
      "/Users/htr365/opt/anaconda3/envs/muscles/lib/python3.8/site-packages/sklearn/base.py:1151: UserWarning: With alpha=0, this algorithm does not converge well. You are advised to use the LinearRegression estimator\n",
      "  return fit_method(estimator, *args, **kwargs)\n",
      "/Users/htr365/opt/anaconda3/envs/muscles/lib/python3.8/site-packages/sklearn/linear_model/_coordinate_descent.py:628: UserWarning: Coordinate descent with no regularization may lead to unexpected results and is discouraged.\n",
      "  model = cd_fast.enet_coordinate_descent(\n",
      "/Users/htr365/opt/anaconda3/envs/muscles/lib/python3.8/site-packages/sklearn/linear_model/_coordinate_descent.py:628: UserWarning: Coordinate descent with no regularization may lead to unexpected results and is discouraged.\n",
      "  model = cd_fast.enet_coordinate_descent(\n",
      "/Users/htr365/opt/anaconda3/envs/muscles/lib/python3.8/site-packages/sklearn/linear_model/_coordinate_descent.py:628: UserWarning: Coordinate descent with no regularization may lead to unexpected results and is discouraged.\n",
      "  model = cd_fast.enet_coordinate_descent(\n",
      "/Users/htr365/opt/anaconda3/envs/muscles/lib/python3.8/site-packages/sklearn/linear_model/_coordinate_descent.py:628: UserWarning: Coordinate descent with no regularization may lead to unexpected results and is discouraged.\n",
      "  model = cd_fast.enet_coordinate_descent(\n",
      "/Users/htr365/opt/anaconda3/envs/muscles/lib/python3.8/site-packages/sklearn/base.py:1151: UserWarning: With alpha=0, this algorithm does not converge well. You are advised to use the LinearRegression estimator\n",
      "  return fit_method(estimator, *args, **kwargs)\n",
      "/Users/htr365/opt/anaconda3/envs/muscles/lib/python3.8/site-packages/sklearn/linear_model/_coordinate_descent.py:628: UserWarning: Coordinate descent with no regularization may lead to unexpected results and is discouraged.\n",
      "  model = cd_fast.enet_coordinate_descent(\n",
      "/Users/htr365/opt/anaconda3/envs/muscles/lib/python3.8/site-packages/sklearn/base.py:1151: UserWarning: With alpha=0, this algorithm does not converge well. You are advised to use the LinearRegression estimator\n",
      "  return fit_method(estimator, *args, **kwargs)\n",
      "/Users/htr365/opt/anaconda3/envs/muscles/lib/python3.8/site-packages/sklearn/base.py:1151: UserWarning: With alpha=0, this algorithm does not converge well. You are advised to use the LinearRegression estimator\n",
      "  return fit_method(estimator, *args, **kwargs)\n",
      "/Users/htr365/opt/anaconda3/envs/muscles/lib/python3.8/site-packages/sklearn/linear_model/_coordinate_descent.py:628: UserWarning: Coordinate descent with no regularization may lead to unexpected results and is discouraged.\n",
      "  model = cd_fast.enet_coordinate_descent(\n",
      "/Users/htr365/opt/anaconda3/envs/muscles/lib/python3.8/site-packages/sklearn/base.py:1151: UserWarning: With alpha=0, this algorithm does not converge well. You are advised to use the LinearRegression estimator\n",
      "  return fit_method(estimator, *args, **kwargs)\n",
      "/Users/htr365/opt/anaconda3/envs/muscles/lib/python3.8/site-packages/sklearn/base.py:1151: UserWarning: With alpha=0, this algorithm does not converge well. You are advised to use the LinearRegression estimator\n",
      "  return fit_method(estimator, *args, **kwargs)\n",
      "/Users/htr365/opt/anaconda3/envs/muscles/lib/python3.8/site-packages/sklearn/linear_model/_coordinate_descent.py:628: UserWarning: Coordinate descent with no regularization may lead to unexpected results and is discouraged.\n",
      "  model = cd_fast.enet_coordinate_descent(\n",
      "/Users/htr365/opt/anaconda3/envs/muscles/lib/python3.8/site-packages/sklearn/linear_model/_coordinate_descent.py:628: UserWarning: Coordinate descent with no regularization may lead to unexpected results and is discouraged.\n",
      "  model = cd_fast.enet_coordinate_descent(\n",
      "/Users/htr365/opt/anaconda3/envs/muscles/lib/python3.8/site-packages/sklearn/linear_model/_coordinate_descent.py:628: UserWarning: Coordinate descent with no regularization may lead to unexpected results and is discouraged.\n",
      "  model = cd_fast.enet_coordinate_descent(\n",
      "/Users/htr365/opt/anaconda3/envs/muscles/lib/python3.8/site-packages/sklearn/base.py:1151: UserWarning: With alpha=0, this algorithm does not converge well. You are advised to use the LinearRegression estimator\n",
      "  return fit_method(estimator, *args, **kwargs)\n",
      "/Users/htr365/opt/anaconda3/envs/muscles/lib/python3.8/site-packages/sklearn/base.py:1151: UserWarning: With alpha=0, this algorithm does not converge well. You are advised to use the LinearRegression estimator\n",
      "  return fit_method(estimator, *args, **kwargs)\n",
      "/Users/htr365/opt/anaconda3/envs/muscles/lib/python3.8/site-packages/sklearn/linear_model/_coordinate_descent.py:628: UserWarning: Coordinate descent with no regularization may lead to unexpected results and is discouraged.\n",
      "  model = cd_fast.enet_coordinate_descent(\n",
      "/Users/htr365/opt/anaconda3/envs/muscles/lib/python3.8/site-packages/sklearn/base.py:1151: UserWarning: With alpha=0, this algorithm does not converge well. You are advised to use the LinearRegression estimator\n",
      "  return fit_method(estimator, *args, **kwargs)\n",
      "/Users/htr365/opt/anaconda3/envs/muscles/lib/python3.8/site-packages/sklearn/linear_model/_coordinate_descent.py:628: UserWarning: Coordinate descent with no regularization may lead to unexpected results and is discouraged.\n",
      "  model = cd_fast.enet_coordinate_descent(\n",
      "/Users/htr365/opt/anaconda3/envs/muscles/lib/python3.8/site-packages/sklearn/base.py:1151: UserWarning: With alpha=0, this algorithm does not converge well. You are advised to use the LinearRegression estimator\n",
      "  return fit_method(estimator, *args, **kwargs)\n",
      "/Users/htr365/opt/anaconda3/envs/muscles/lib/python3.8/site-packages/sklearn/base.py:1151: UserWarning: With alpha=0, this algorithm does not converge well. You are advised to use the LinearRegression estimator\n",
      "  return fit_method(estimator, *args, **kwargs)\n",
      "/Users/htr365/opt/anaconda3/envs/muscles/lib/python3.8/site-packages/sklearn/linear_model/_coordinate_descent.py:628: UserWarning: Coordinate descent with no regularization may lead to unexpected results and is discouraged.\n",
      "  model = cd_fast.enet_coordinate_descent(\n",
      "/Users/htr365/opt/anaconda3/envs/muscles/lib/python3.8/site-packages/sklearn/linear_model/_coordinate_descent.py:628: UserWarning: Coordinate descent with no regularization may lead to unexpected results and is discouraged.\n",
      "  model = cd_fast.enet_coordinate_descent(\n",
      "/Users/htr365/opt/anaconda3/envs/muscles/lib/python3.8/site-packages/sklearn/linear_model/_coordinate_descent.py:628: UserWarning: Coordinate descent with no regularization may lead to unexpected results and is discouraged.\n",
      "  model = cd_fast.enet_coordinate_descent(\n",
      "/Users/htr365/opt/anaconda3/envs/muscles/lib/python3.8/site-packages/sklearn/base.py:1151: UserWarning: With alpha=0, this algorithm does not converge well. You are advised to use the LinearRegression estimator\n",
      "  return fit_method(estimator, *args, **kwargs)\n",
      "/Users/htr365/opt/anaconda3/envs/muscles/lib/python3.8/site-packages/sklearn/base.py:1151: UserWarning: With alpha=0, this algorithm does not converge well. You are advised to use the LinearRegression estimator\n",
      "  return fit_method(estimator, *args, **kwargs)\n",
      "/Users/htr365/opt/anaconda3/envs/muscles/lib/python3.8/site-packages/sklearn/linear_model/_coordinate_descent.py:628: UserWarning: Coordinate descent with no regularization may lead to unexpected results and is discouraged.\n",
      "  model = cd_fast.enet_coordinate_descent(\n",
      "/Users/htr365/opt/anaconda3/envs/muscles/lib/python3.8/site-packages/sklearn/base.py:1151: UserWarning: With alpha=0, this algorithm does not converge well. You are advised to use the LinearRegression estimator\n",
      "  return fit_method(estimator, *args, **kwargs)\n",
      "/Users/htr365/opt/anaconda3/envs/muscles/lib/python3.8/site-packages/sklearn/linear_model/_coordinate_descent.py:628: UserWarning: Coordinate descent with no regularization may lead to unexpected results and is discouraged.\n",
      "  model = cd_fast.enet_coordinate_descent(\n",
      "/Users/htr365/opt/anaconda3/envs/muscles/lib/python3.8/site-packages/sklearn/base.py:1151: UserWarning: With alpha=0, this algorithm does not converge well. You are advised to use the LinearRegression estimator\n",
      "  return fit_method(estimator, *args, **kwargs)\n",
      "/Users/htr365/opt/anaconda3/envs/muscles/lib/python3.8/site-packages/sklearn/linear_model/_coordinate_descent.py:628: UserWarning: Coordinate descent with no regularization may lead to unexpected results and is discouraged.\n",
      "  model = cd_fast.enet_coordinate_descent(\n",
      "/Users/htr365/opt/anaconda3/envs/muscles/lib/python3.8/site-packages/sklearn/linear_model/_coordinate_descent.py:628: UserWarning: Coordinate descent with no regularization may lead to unexpected results and is discouraged.\n",
      "  model = cd_fast.enet_coordinate_descent(\n",
      "/Users/htr365/opt/anaconda3/envs/muscles/lib/python3.8/site-packages/sklearn/linear_model/_coordinate_descent.py:628: ConvergenceWarning: Objective did not converge. You might want to increase the number of iterations, check the scale of the features or consider increasing regularisation. Duality gap: 5.006e-01, tolerance: 6.463e-03\n",
      "  model = cd_fast.enet_coordinate_descent(\n",
      "/Users/htr365/opt/anaconda3/envs/muscles/lib/python3.8/site-packages/sklearn/linear_model/_coordinate_descent.py:628: ConvergenceWarning: Objective did not converge. You might want to increase the number of iterations, check the scale of the features or consider increasing regularisation. Duality gap: 7.553e-01, tolerance: 6.828e-03\n",
      "  model = cd_fast.enet_coordinate_descent(\n",
      "/Users/htr365/opt/anaconda3/envs/muscles/lib/python3.8/site-packages/sklearn/linear_model/_coordinate_descent.py:628: ConvergenceWarning: Objective did not converge. You might want to increase the number of iterations, check the scale of the features or consider increasing regularisation. Duality gap: 6.901e-01, tolerance: 7.074e-03\n",
      "  model = cd_fast.enet_coordinate_descent(\n",
      "/Users/htr365/opt/anaconda3/envs/muscles/lib/python3.8/site-packages/sklearn/linear_model/_coordinate_descent.py:628: ConvergenceWarning: Objective did not converge. You might want to increase the number of iterations, check the scale of the features or consider increasing regularisation. Duality gap: 8.583e-01, tolerance: 7.663e-03\n",
      "  model = cd_fast.enet_coordinate_descent(\n",
      "/Users/htr365/opt/anaconda3/envs/muscles/lib/python3.8/site-packages/sklearn/linear_model/_coordinate_descent.py:628: ConvergenceWarning: Objective did not converge. You might want to increase the number of iterations, check the scale of the features or consider increasing regularisation. Duality gap: 3.787e-01, tolerance: 7.074e-03\n",
      "  model = cd_fast.enet_coordinate_descent(\n",
      "/Users/htr365/opt/anaconda3/envs/muscles/lib/python3.8/site-packages/sklearn/linear_model/_coordinate_descent.py:628: ConvergenceWarning: Objective did not converge. You might want to increase the number of iterations, check the scale of the features or consider increasing regularisation. Duality gap: 1.804e-01, tolerance: 7.074e-03\n",
      "  model = cd_fast.enet_coordinate_descent(\n",
      "/Users/htr365/opt/anaconda3/envs/muscles/lib/python3.8/site-packages/sklearn/linear_model/_coordinate_descent.py:628: ConvergenceWarning: Objective did not converge. You might want to increase the number of iterations, check the scale of the features or consider increasing regularisation. Duality gap: 1.368e-02, tolerance: 7.642e-03\n",
      "  model = cd_fast.enet_coordinate_descent(\n",
      "/Users/htr365/opt/anaconda3/envs/muscles/lib/python3.8/site-packages/sklearn/linear_model/_coordinate_descent.py:628: ConvergenceWarning: Objective did not converge. You might want to increase the number of iterations, check the scale of the features or consider increasing regularisation. Duality gap: 9.398e-01, tolerance: 7.411e-03\n",
      "  model = cd_fast.enet_coordinate_descent(\n",
      "/Users/htr365/opt/anaconda3/envs/muscles/lib/python3.8/site-packages/sklearn/linear_model/_coordinate_descent.py:628: ConvergenceWarning: Objective did not converge. You might want to increase the number of iterations, check the scale of the features or consider increasing regularisation. Duality gap: 2.850e-01, tolerance: 7.663e-03\n",
      "  model = cd_fast.enet_coordinate_descent(\n",
      "/Users/htr365/opt/anaconda3/envs/muscles/lib/python3.8/site-packages/sklearn/linear_model/_coordinate_descent.py:628: ConvergenceWarning: Objective did not converge. You might want to increase the number of iterations, check the scale of the features or consider increasing regularisation. Duality gap: 9.198e-01, tolerance: 7.411e-03\n",
      "  model = cd_fast.enet_coordinate_descent(\n",
      "/Users/htr365/opt/anaconda3/envs/muscles/lib/python3.8/site-packages/sklearn/linear_model/_coordinate_descent.py:628: ConvergenceWarning: Objective did not converge. You might want to increase the number of iterations, check the scale of the features or consider increasing regularisation. Duality gap: 8.752e-01, tolerance: 7.642e-03\n",
      "  model = cd_fast.enet_coordinate_descent(\n",
      "/Users/htr365/opt/anaconda3/envs/muscles/lib/python3.8/site-packages/sklearn/linear_model/_coordinate_descent.py:628: ConvergenceWarning: Objective did not converge. You might want to increase the number of iterations, check the scale of the features or consider increasing regularisation. Duality gap: 7.415e-01, tolerance: 7.074e-03\n",
      "  model = cd_fast.enet_coordinate_descent(\n",
      "/Users/htr365/opt/anaconda3/envs/muscles/lib/python3.8/site-packages/sklearn/linear_model/_coordinate_descent.py:628: ConvergenceWarning: Objective did not converge. You might want to increase the number of iterations, check the scale of the features or consider increasing regularisation. Duality gap: 9.426e-01, tolerance: 7.474e-03\n",
      "  model = cd_fast.enet_coordinate_descent(\n",
      "/Users/htr365/opt/anaconda3/envs/muscles/lib/python3.8/site-packages/sklearn/linear_model/_coordinate_descent.py:628: ConvergenceWarning: Objective did not converge. You might want to increase the number of iterations, check the scale of the features or consider increasing regularisation. Duality gap: 5.087e-01, tolerance: 7.642e-03\n",
      "  model = cd_fast.enet_coordinate_descent(\n",
      "/Users/htr365/opt/anaconda3/envs/muscles/lib/python3.8/site-packages/sklearn/linear_model/_coordinate_descent.py:628: ConvergenceWarning: Objective did not converge. You might want to increase the number of iterations, check the scale of the features or consider increasing regularisation. Duality gap: 1.067e-02, tolerance: 6.844e-03\n",
      "  model = cd_fast.enet_coordinate_descent(\n",
      "/Users/htr365/opt/anaconda3/envs/muscles/lib/python3.8/site-packages/sklearn/linear_model/_coordinate_descent.py:628: ConvergenceWarning: Objective did not converge. You might want to increase the number of iterations, check the scale of the features or consider increasing regularisation. Duality gap: 9.737e-01, tolerance: 7.074e-03\n",
      "  model = cd_fast.enet_coordinate_descent(\n",
      "/Users/htr365/opt/anaconda3/envs/muscles/lib/python3.8/site-packages/sklearn/linear_model/_coordinate_descent.py:628: ConvergenceWarning: Objective did not converge. You might want to increase the number of iterations, check the scale of the features or consider increasing regularisation. Duality gap: 8.789e-01, tolerance: 6.463e-03\n",
      "  model = cd_fast.enet_coordinate_descent(\n",
      "/Users/htr365/opt/anaconda3/envs/muscles/lib/python3.8/site-packages/sklearn/linear_model/_coordinate_descent.py:628: ConvergenceWarning: Objective did not converge. You might want to increase the number of iterations, check the scale of the features or consider increasing regularisation. Duality gap: 7.957e-03, tolerance: 7.642e-03\n",
      "  model = cd_fast.enet_coordinate_descent(\n",
      "/Users/htr365/opt/anaconda3/envs/muscles/lib/python3.8/site-packages/sklearn/linear_model/_coordinate_descent.py:628: ConvergenceWarning: Objective did not converge. You might want to increase the number of iterations, check the scale of the features or consider increasing regularisation. Duality gap: 1.413e+00, tolerance: 6.828e-03\n",
      "  model = cd_fast.enet_coordinate_descent(\n",
      "/Users/htr365/opt/anaconda3/envs/muscles/lib/python3.8/site-packages/sklearn/linear_model/_coordinate_descent.py:628: ConvergenceWarning: Objective did not converge. You might want to increase the number of iterations, check the scale of the features or consider increasing regularisation. Duality gap: 5.242e-01, tolerance: 7.074e-03\n",
      "  model = cd_fast.enet_coordinate_descent(\n",
      "/Users/htr365/opt/anaconda3/envs/muscles/lib/python3.8/site-packages/sklearn/linear_model/_coordinate_descent.py:628: ConvergenceWarning: Objective did not converge. You might want to increase the number of iterations, check the scale of the features or consider increasing regularisation. Duality gap: 4.229e-02, tolerance: 7.074e-03\n",
      "  model = cd_fast.enet_coordinate_descent(\n",
      "/Users/htr365/opt/anaconda3/envs/muscles/lib/python3.8/site-packages/sklearn/linear_model/_coordinate_descent.py:628: ConvergenceWarning: Objective did not converge. You might want to increase the number of iterations, check the scale of the features or consider increasing regularisation. Duality gap: 4.829e-01, tolerance: 7.074e-03\n",
      "  model = cd_fast.enet_coordinate_descent(\n",
      "/Users/htr365/opt/anaconda3/envs/muscles/lib/python3.8/site-packages/sklearn/linear_model/_coordinate_descent.py:628: ConvergenceWarning: Objective did not converge. You might want to increase the number of iterations, check the scale of the features or consider increasing regularisation. Duality gap: 1.791e+00, tolerance: 7.411e-03\n",
      "  model = cd_fast.enet_coordinate_descent(\n",
      "/Users/htr365/opt/anaconda3/envs/muscles/lib/python3.8/site-packages/sklearn/linear_model/_coordinate_descent.py:628: ConvergenceWarning: Objective did not converge. You might want to increase the number of iterations, check the scale of the features or consider increasing regularisation. Duality gap: 1.095e+00, tolerance: 7.074e-03\n",
      "  model = cd_fast.enet_coordinate_descent(\n",
      "/Users/htr365/opt/anaconda3/envs/muscles/lib/python3.8/site-packages/sklearn/linear_model/_coordinate_descent.py:628: ConvergenceWarning: Objective did not converge. You might want to increase the number of iterations, check the scale of the features or consider increasing regularisation. Duality gap: 4.110e-02, tolerance: 7.474e-03\n",
      "  model = cd_fast.enet_coordinate_descent(\n",
      "/Users/htr365/opt/anaconda3/envs/muscles/lib/python3.8/site-packages/sklearn/linear_model/_coordinate_descent.py:628: ConvergenceWarning: Objective did not converge. You might want to increase the number of iterations, check the scale of the features or consider increasing regularisation. Duality gap: 1.280e+00, tolerance: 7.074e-03\n",
      "  model = cd_fast.enet_coordinate_descent(\n",
      "/Users/htr365/opt/anaconda3/envs/muscles/lib/python3.8/site-packages/sklearn/linear_model/_coordinate_descent.py:628: ConvergenceWarning: Objective did not converge. You might want to increase the number of iterations, check the scale of the features or consider increasing regularisation. Duality gap: 2.787e-02, tolerance: 7.242e-03\n",
      "  model = cd_fast.enet_coordinate_descent(\n",
      "/Users/htr365/opt/anaconda3/envs/muscles/lib/python3.8/site-packages/sklearn/linear_model/_coordinate_descent.py:628: ConvergenceWarning: Objective did not converge. You might want to increase the number of iterations, check the scale of the features or consider increasing regularisation. Duality gap: 8.080e-01, tolerance: 7.074e-03\n",
      "  model = cd_fast.enet_coordinate_descent(\n",
      "/Users/htr365/opt/anaconda3/envs/muscles/lib/python3.8/site-packages/sklearn/linear_model/_coordinate_descent.py:628: ConvergenceWarning: Objective did not converge. You might want to increase the number of iterations, check the scale of the features or consider increasing regularisation. Duality gap: 8.045e-02, tolerance: 7.074e-03\n",
      "  model = cd_fast.enet_coordinate_descent(\n",
      "/Users/htr365/opt/anaconda3/envs/muscles/lib/python3.8/site-packages/sklearn/linear_model/_coordinate_descent.py:628: ConvergenceWarning: Objective did not converge. You might want to increase the number of iterations, check the scale of the features or consider increasing regularisation. Duality gap: 5.488e-01, tolerance: 7.074e-03\n",
      "  model = cd_fast.enet_coordinate_descent(\n",
      "/Users/htr365/opt/anaconda3/envs/muscles/lib/python3.8/site-packages/sklearn/linear_model/_coordinate_descent.py:628: ConvergenceWarning: Objective did not converge. You might want to increase the number of iterations, check the scale of the features or consider increasing regularisation. Duality gap: 5.063e-01, tolerance: 7.074e-03\n",
      "  model = cd_fast.enet_coordinate_descent(\n",
      "/Users/htr365/opt/anaconda3/envs/muscles/lib/python3.8/site-packages/sklearn/linear_model/_coordinate_descent.py:628: ConvergenceWarning: Objective did not converge. You might want to increase the number of iterations, check the scale of the features or consider increasing regularisation. Duality gap: 1.707e-02, tolerance: 7.474e-03\n",
      "  model = cd_fast.enet_coordinate_descent(\n",
      "/Users/htr365/opt/anaconda3/envs/muscles/lib/python3.8/site-packages/sklearn/linear_model/_coordinate_descent.py:628: ConvergenceWarning: Objective did not converge. You might want to increase the number of iterations, check the scale of the features or consider increasing regularisation. Duality gap: 3.861e-02, tolerance: 7.074e-03\n",
      "  model = cd_fast.enet_coordinate_descent(\n",
      "/Users/htr365/opt/anaconda3/envs/muscles/lib/python3.8/site-packages/sklearn/linear_model/_coordinate_descent.py:628: ConvergenceWarning: Objective did not converge. You might want to increase the number of iterations, check the scale of the features or consider increasing regularisation. Duality gap: 8.592e-02, tolerance: 7.074e-03\n",
      "  model = cd_fast.enet_coordinate_descent(\n",
      "/Users/htr365/opt/anaconda3/envs/muscles/lib/python3.8/site-packages/sklearn/linear_model/_coordinate_descent.py:628: ConvergenceWarning: Objective did not converge. You might want to increase the number of iterations, check the scale of the features or consider increasing regularisation. Duality gap: 1.059e+00, tolerance: 7.411e-03\n",
      "  model = cd_fast.enet_coordinate_descent(\n",
      "/Users/htr365/opt/anaconda3/envs/muscles/lib/python3.8/site-packages/sklearn/linear_model/_coordinate_descent.py:628: ConvergenceWarning: Objective did not converge. You might want to increase the number of iterations, check the scale of the features or consider increasing regularisation. Duality gap: 7.680e-03, tolerance: 7.074e-03\n",
      "  model = cd_fast.enet_coordinate_descent(\n",
      "/Users/htr365/opt/anaconda3/envs/muscles/lib/python3.8/site-packages/sklearn/linear_model/_coordinate_descent.py:628: ConvergenceWarning: Objective did not converge. You might want to increase the number of iterations, check the scale of the features or consider increasing regularisation. Duality gap: 2.010e+00, tolerance: 7.474e-03\n",
      "  model = cd_fast.enet_coordinate_descent(\n",
      "/Users/htr365/opt/anaconda3/envs/muscles/lib/python3.8/site-packages/sklearn/linear_model/_coordinate_descent.py:628: ConvergenceWarning: Objective did not converge. You might want to increase the number of iterations, check the scale of the features or consider increasing regularisation. Duality gap: 1.736e-02, tolerance: 7.642e-03\n",
      "  model = cd_fast.enet_coordinate_descent(\n",
      "/Users/htr365/opt/anaconda3/envs/muscles/lib/python3.8/site-packages/sklearn/linear_model/_coordinate_descent.py:628: ConvergenceWarning: Objective did not converge. You might want to increase the number of iterations, check the scale of the features or consider increasing regularisation. Duality gap: 8.017e-03, tolerance: 7.642e-03\n",
      "  model = cd_fast.enet_coordinate_descent(\n",
      "/Users/htr365/opt/anaconda3/envs/muscles/lib/python3.8/site-packages/sklearn/linear_model/_coordinate_descent.py:628: ConvergenceWarning: Objective did not converge. You might want to increase the number of iterations, check the scale of the features or consider increasing regularisation. Duality gap: 7.339e-03, tolerance: 7.074e-03\n",
      "  model = cd_fast.enet_coordinate_descent(\n",
      "/Users/htr365/opt/anaconda3/envs/muscles/lib/python3.8/site-packages/sklearn/linear_model/_coordinate_descent.py:628: ConvergenceWarning: Objective did not converge. You might want to increase the number of iterations, check the scale of the features or consider increasing regularisation. Duality gap: 3.108e-01, tolerance: 7.074e-03\n",
      "  model = cd_fast.enet_coordinate_descent(\n",
      "/Users/htr365/opt/anaconda3/envs/muscles/lib/python3.8/site-packages/sklearn/linear_model/_coordinate_descent.py:628: ConvergenceWarning: Objective did not converge. You might want to increase the number of iterations, check the scale of the features or consider increasing regularisation. Duality gap: 1.023e-02, tolerance: 7.474e-03\n",
      "  model = cd_fast.enet_coordinate_descent(\n",
      "/Users/htr365/opt/anaconda3/envs/muscles/lib/python3.8/site-packages/sklearn/linear_model/_coordinate_descent.py:628: ConvergenceWarning: Objective did not converge. You might want to increase the number of iterations, check the scale of the features or consider increasing regularisation. Duality gap: 1.250e+00, tolerance: 7.663e-03\n",
      "  model = cd_fast.enet_coordinate_descent(\n",
      "/Users/htr365/opt/anaconda3/envs/muscles/lib/python3.8/site-packages/sklearn/linear_model/_coordinate_descent.py:628: ConvergenceWarning: Objective did not converge. You might want to increase the number of iterations, check the scale of the features or consider increasing regularisation. Duality gap: 1.614e-02, tolerance: 7.663e-03\n",
      "  model = cd_fast.enet_coordinate_descent(\n",
      "/Users/htr365/opt/anaconda3/envs/muscles/lib/python3.8/site-packages/sklearn/linear_model/_coordinate_descent.py:628: ConvergenceWarning: Objective did not converge. You might want to increase the number of iterations, check the scale of the features or consider increasing regularisation. Duality gap: 9.931e-02, tolerance: 7.663e-03\n",
      "  model = cd_fast.enet_coordinate_descent(\n",
      "/Users/htr365/opt/anaconda3/envs/muscles/lib/python3.8/site-packages/sklearn/linear_model/_coordinate_descent.py:628: ConvergenceWarning: Objective did not converge. You might want to increase the number of iterations, check the scale of the features or consider increasing regularisation. Duality gap: 9.891e-03, tolerance: 7.663e-03\n",
      "  model = cd_fast.enet_coordinate_descent(\n",
      "/Users/htr365/opt/anaconda3/envs/muscles/lib/python3.8/site-packages/sklearn/linear_model/_coordinate_descent.py:628: ConvergenceWarning: Objective did not converge. You might want to increase the number of iterations, check the scale of the features or consider increasing regularisation. Duality gap: 2.252e-01, tolerance: 7.663e-03\n",
      "  model = cd_fast.enet_coordinate_descent(\n",
      "With alpha=0, this algorithm does not converge well. You are advised to use the LinearRegression estimator\n",
      "Coordinate descent with no regularization may lead to unexpected results and is discouraged.\n",
      "With alpha=0, this algorithm does not converge well. You are advised to use the LinearRegression estimator\n",
      "Coordinate descent with no regularization may lead to unexpected results and is discouraged.\n",
      "/Users/htr365/opt/anaconda3/envs/muscles/lib/python3.8/site-packages/sklearn/base.py:1151: UserWarning: With alpha=0, this algorithm does not converge well. You are advised to use the LinearRegression estimator\n",
      "  return fit_method(estimator, *args, **kwargs)\n",
      "/Users/htr365/opt/anaconda3/envs/muscles/lib/python3.8/site-packages/sklearn/base.py:1151: UserWarning: With alpha=0, this algorithm does not converge well. You are advised to use the LinearRegression estimator\n",
      "  return fit_method(estimator, *args, **kwargs)\n",
      "/Users/htr365/opt/anaconda3/envs/muscles/lib/python3.8/site-packages/sklearn/base.py:1151: UserWarning: With alpha=0, this algorithm does not converge well. You are advised to use the LinearRegression estimator\n",
      "  return fit_method(estimator, *args, **kwargs)\n",
      "/Users/htr365/opt/anaconda3/envs/muscles/lib/python3.8/site-packages/sklearn/base.py:1151: UserWarning: With alpha=0, this algorithm does not converge well. You are advised to use the LinearRegression estimator\n",
      "  return fit_method(estimator, *args, **kwargs)\n",
      "/Users/htr365/opt/anaconda3/envs/muscles/lib/python3.8/site-packages/sklearn/linear_model/_coordinate_descent.py:628: UserWarning: Coordinate descent with no regularization may lead to unexpected results and is discouraged.\n",
      "  model = cd_fast.enet_coordinate_descent(\n",
      "/Users/htr365/opt/anaconda3/envs/muscles/lib/python3.8/site-packages/sklearn/linear_model/_coordinate_descent.py:628: UserWarning: Coordinate descent with no regularization may lead to unexpected results and is discouraged.\n",
      "  model = cd_fast.enet_coordinate_descent(\n",
      "/Users/htr365/opt/anaconda3/envs/muscles/lib/python3.8/site-packages/sklearn/linear_model/_coordinate_descent.py:628: UserWarning: Coordinate descent with no regularization may lead to unexpected results and is discouraged.\n",
      "  model = cd_fast.enet_coordinate_descent(\n",
      "/Users/htr365/opt/anaconda3/envs/muscles/lib/python3.8/site-packages/sklearn/linear_model/_coordinate_descent.py:628: UserWarning: Coordinate descent with no regularization may lead to unexpected results and is discouraged.\n",
      "  model = cd_fast.enet_coordinate_descent(\n",
      "/Users/htr365/opt/anaconda3/envs/muscles/lib/python3.8/site-packages/sklearn/base.py:1151: UserWarning: With alpha=0, this algorithm does not converge well. You are advised to use the LinearRegression estimator\n",
      "  return fit_method(estimator, *args, **kwargs)\n",
      "/Users/htr365/opt/anaconda3/envs/muscles/lib/python3.8/site-packages/sklearn/base.py:1151: UserWarning: With alpha=0, this algorithm does not converge well. You are advised to use the LinearRegression estimator\n",
      "  return fit_method(estimator, *args, **kwargs)\n",
      "/Users/htr365/opt/anaconda3/envs/muscles/lib/python3.8/site-packages/sklearn/linear_model/_coordinate_descent.py:628: UserWarning: Coordinate descent with no regularization may lead to unexpected results and is discouraged.\n",
      "  model = cd_fast.enet_coordinate_descent(\n",
      "/Users/htr365/opt/anaconda3/envs/muscles/lib/python3.8/site-packages/sklearn/base.py:1151: UserWarning: With alpha=0, this algorithm does not converge well. You are advised to use the LinearRegression estimator\n",
      "  return fit_method(estimator, *args, **kwargs)\n",
      "/Users/htr365/opt/anaconda3/envs/muscles/lib/python3.8/site-packages/sklearn/base.py:1151: UserWarning: With alpha=0, this algorithm does not converge well. You are advised to use the LinearRegression estimator\n",
      "  return fit_method(estimator, *args, **kwargs)\n",
      "/Users/htr365/opt/anaconda3/envs/muscles/lib/python3.8/site-packages/sklearn/base.py:1151: UserWarning: With alpha=0, this algorithm does not converge well. You are advised to use the LinearRegression estimator\n",
      "  return fit_method(estimator, *args, **kwargs)\n",
      "/Users/htr365/opt/anaconda3/envs/muscles/lib/python3.8/site-packages/sklearn/linear_model/_coordinate_descent.py:628: UserWarning: Coordinate descent with no regularization may lead to unexpected results and is discouraged.\n",
      "  model = cd_fast.enet_coordinate_descent(\n",
      "/Users/htr365/opt/anaconda3/envs/muscles/lib/python3.8/site-packages/sklearn/linear_model/_coordinate_descent.py:628: UserWarning: Coordinate descent with no regularization may lead to unexpected results and is discouraged.\n",
      "  model = cd_fast.enet_coordinate_descent(\n",
      "/Users/htr365/opt/anaconda3/envs/muscles/lib/python3.8/site-packages/sklearn/linear_model/_coordinate_descent.py:628: UserWarning: Coordinate descent with no regularization may lead to unexpected results and is discouraged.\n",
      "  model = cd_fast.enet_coordinate_descent(\n",
      "/Users/htr365/opt/anaconda3/envs/muscles/lib/python3.8/site-packages/sklearn/base.py:1151: UserWarning: With alpha=0, this algorithm does not converge well. You are advised to use the LinearRegression estimator\n",
      "  return fit_method(estimator, *args, **kwargs)\n",
      "/Users/htr365/opt/anaconda3/envs/muscles/lib/python3.8/site-packages/sklearn/base.py:1151: UserWarning: With alpha=0, this algorithm does not converge well. You are advised to use the LinearRegression estimator\n",
      "  return fit_method(estimator, *args, **kwargs)\n",
      "/Users/htr365/opt/anaconda3/envs/muscles/lib/python3.8/site-packages/sklearn/base.py:1151: UserWarning: With alpha=0, this algorithm does not converge well. You are advised to use the LinearRegression estimator\n",
      "  return fit_method(estimator, *args, **kwargs)\n"
     ]
    },
    {
     "name": "stdout",
     "output_type": "stream",
     "text": [
      "hooper_muscles_sore\n",
      "           0                       1\n",
      "0   0.339471                   cis_1\n",
      "1   0.064900                   cis_2\n",
      "2  -0.160213                   cis_3\n",
      "3   0.083076                   cis_4\n",
      "4   0.004649                   cis_5\n",
      "5  -0.738130                   cis_6\n",
      "6   0.319937                   cis_7\n",
      "7  -0.447874                   cis_8\n",
      "8  -0.276690                   cis_9\n",
      "9  -0.360036                  cis_10\n",
      "10  0.438828                  cis_11\n",
      "11  0.297364                  cis_12\n",
      "12 -0.080586                  cis_13\n",
      "13  0.189619                  cis_14\n",
      "14  0.063618                  cis_15\n",
      "15 -0.202464                  cis_16\n",
      "16  0.008469                  cis_17\n",
      "17 -0.181885                  cis_18\n",
      "18 -0.046058                  cis_19\n",
      "19 -0.101738                  cis_20\n",
      "20  0.015153     hooper_muscles_sore\n",
      "21  0.150106     extra_muscles_tired\n",
      "22  0.047514    hooper_sleep_quality\n",
      "23  0.104301    hooper_fatigue_level\n",
      "24 -0.038060     hooper_stress_level\n",
      "25  0.268956            coffee_count\n",
      "26 -0.000017              step_count\n",
      "27 -0.182386                 alcohol\n",
      "28 -0.090125        fatigue_expected\n",
      "29  0.297341   muscles_sore_expected\n",
      "30  0.034179  muscles_tired_expected\n",
      "31 -0.095744  cis_subjective_fatigue\n",
      "32 -0.129126       cis_concentration\n",
      "33 -0.022640          cis_motivation\n",
      "34  0.065120   cis_physical_activity\n",
      "35  0.002096              sleep_time\n",
      "36 -0.390729                 walking\n",
      "37 -0.941033                 cycling\n",
      "38 -0.221703             ball_sports\n",
      "39  0.648349          weight_lifting\n",
      "40 -0.318798                 running\n",
      "41 -0.427033                    yoga\n",
      "42  1.158657                    HITT\n",
      "43  0.000000           manual_labour\n"
     ]
    },
    {
     "name": "stderr",
     "output_type": "stream",
     "text": [
      "/Users/htr365/opt/anaconda3/envs/muscles/lib/python3.8/site-packages/sklearn/base.py:1151: UserWarning: With alpha=0, this algorithm does not converge well. You are advised to use the LinearRegression estimator\n",
      "  return fit_method(estimator, *args, **kwargs)\n",
      "/Users/htr365/opt/anaconda3/envs/muscles/lib/python3.8/site-packages/sklearn/linear_model/_coordinate_descent.py:628: UserWarning: Coordinate descent with no regularization may lead to unexpected results and is discouraged.\n",
      "  model = cd_fast.enet_coordinate_descent(\n",
      "/Users/htr365/opt/anaconda3/envs/muscles/lib/python3.8/site-packages/sklearn/linear_model/_coordinate_descent.py:628: UserWarning: Coordinate descent with no regularization may lead to unexpected results and is discouraged.\n",
      "  model = cd_fast.enet_coordinate_descent(\n",
      "/Users/htr365/opt/anaconda3/envs/muscles/lib/python3.8/site-packages/sklearn/linear_model/_coordinate_descent.py:628: UserWarning: Coordinate descent with no regularization may lead to unexpected results and is discouraged.\n",
      "  model = cd_fast.enet_coordinate_descent(\n",
      "/Users/htr365/opt/anaconda3/envs/muscles/lib/python3.8/site-packages/sklearn/base.py:1151: UserWarning: With alpha=0, this algorithm does not converge well. You are advised to use the LinearRegression estimator\n",
      "  return fit_method(estimator, *args, **kwargs)\n",
      "/Users/htr365/opt/anaconda3/envs/muscles/lib/python3.8/site-packages/sklearn/linear_model/_coordinate_descent.py:628: UserWarning: Coordinate descent with no regularization may lead to unexpected results and is discouraged.\n",
      "  model = cd_fast.enet_coordinate_descent(\n",
      "/Users/htr365/opt/anaconda3/envs/muscles/lib/python3.8/site-packages/sklearn/linear_model/_coordinate_descent.py:628: UserWarning: Coordinate descent with no regularization may lead to unexpected results and is discouraged.\n",
      "  model = cd_fast.enet_coordinate_descent(\n",
      "/Users/htr365/opt/anaconda3/envs/muscles/lib/python3.8/site-packages/sklearn/linear_model/_coordinate_descent.py:628: UserWarning: Coordinate descent with no regularization may lead to unexpected results and is discouraged.\n",
      "  model = cd_fast.enet_coordinate_descent(\n",
      "/Users/htr365/opt/anaconda3/envs/muscles/lib/python3.8/site-packages/sklearn/base.py:1151: UserWarning: With alpha=0, this algorithm does not converge well. You are advised to use the LinearRegression estimator\n",
      "  return fit_method(estimator, *args, **kwargs)\n",
      "/Users/htr365/opt/anaconda3/envs/muscles/lib/python3.8/site-packages/sklearn/base.py:1151: UserWarning: With alpha=0, this algorithm does not converge well. You are advised to use the LinearRegression estimator\n",
      "  return fit_method(estimator, *args, **kwargs)\n",
      "/Users/htr365/opt/anaconda3/envs/muscles/lib/python3.8/site-packages/sklearn/linear_model/_coordinate_descent.py:628: UserWarning: Coordinate descent with no regularization may lead to unexpected results and is discouraged.\n",
      "  model = cd_fast.enet_coordinate_descent(\n",
      "/Users/htr365/opt/anaconda3/envs/muscles/lib/python3.8/site-packages/sklearn/linear_model/_coordinate_descent.py:628: UserWarning: Coordinate descent with no regularization may lead to unexpected results and is discouraged.\n",
      "  model = cd_fast.enet_coordinate_descent(\n",
      "/Users/htr365/opt/anaconda3/envs/muscles/lib/python3.8/site-packages/sklearn/base.py:1151: UserWarning: With alpha=0, this algorithm does not converge well. You are advised to use the LinearRegression estimator\n",
      "  return fit_method(estimator, *args, **kwargs)\n",
      "/Users/htr365/opt/anaconda3/envs/muscles/lib/python3.8/site-packages/sklearn/base.py:1151: UserWarning: With alpha=0, this algorithm does not converge well. You are advised to use the LinearRegression estimator\n",
      "  return fit_method(estimator, *args, **kwargs)\n",
      "/Users/htr365/opt/anaconda3/envs/muscles/lib/python3.8/site-packages/sklearn/linear_model/_coordinate_descent.py:628: UserWarning: Coordinate descent with no regularization may lead to unexpected results and is discouraged.\n",
      "  model = cd_fast.enet_coordinate_descent(\n",
      "/Users/htr365/opt/anaconda3/envs/muscles/lib/python3.8/site-packages/sklearn/base.py:1151: UserWarning: With alpha=0, this algorithm does not converge well. You are advised to use the LinearRegression estimator\n",
      "  return fit_method(estimator, *args, **kwargs)\n",
      "/Users/htr365/opt/anaconda3/envs/muscles/lib/python3.8/site-packages/sklearn/linear_model/_coordinate_descent.py:628: UserWarning: Coordinate descent with no regularization may lead to unexpected results and is discouraged.\n",
      "  model = cd_fast.enet_coordinate_descent(\n",
      "/Users/htr365/opt/anaconda3/envs/muscles/lib/python3.8/site-packages/sklearn/base.py:1151: UserWarning: With alpha=0, this algorithm does not converge well. You are advised to use the LinearRegression estimator\n",
      "  return fit_method(estimator, *args, **kwargs)\n",
      "/Users/htr365/opt/anaconda3/envs/muscles/lib/python3.8/site-packages/sklearn/linear_model/_coordinate_descent.py:628: UserWarning: Coordinate descent with no regularization may lead to unexpected results and is discouraged.\n",
      "  model = cd_fast.enet_coordinate_descent(\n",
      "/Users/htr365/opt/anaconda3/envs/muscles/lib/python3.8/site-packages/sklearn/linear_model/_coordinate_descent.py:628: UserWarning: Coordinate descent with no regularization may lead to unexpected results and is discouraged.\n",
      "  model = cd_fast.enet_coordinate_descent(\n",
      "/Users/htr365/opt/anaconda3/envs/muscles/lib/python3.8/site-packages/sklearn/base.py:1151: UserWarning: With alpha=0, this algorithm does not converge well. You are advised to use the LinearRegression estimator\n",
      "  return fit_method(estimator, *args, **kwargs)\n",
      "/Users/htr365/opt/anaconda3/envs/muscles/lib/python3.8/site-packages/sklearn/base.py:1151: UserWarning: With alpha=0, this algorithm does not converge well. You are advised to use the LinearRegression estimator\n",
      "  return fit_method(estimator, *args, **kwargs)\n",
      "/Users/htr365/opt/anaconda3/envs/muscles/lib/python3.8/site-packages/sklearn/base.py:1151: UserWarning: With alpha=0, this algorithm does not converge well. You are advised to use the LinearRegression estimator\n",
      "  return fit_method(estimator, *args, **kwargs)\n",
      "/Users/htr365/opt/anaconda3/envs/muscles/lib/python3.8/site-packages/sklearn/base.py:1151: UserWarning: With alpha=0, this algorithm does not converge well. You are advised to use the LinearRegression estimator\n",
      "  return fit_method(estimator, *args, **kwargs)\n",
      "/Users/htr365/opt/anaconda3/envs/muscles/lib/python3.8/site-packages/sklearn/base.py:1151: UserWarning: With alpha=0, this algorithm does not converge well. You are advised to use the LinearRegression estimator\n",
      "  return fit_method(estimator, *args, **kwargs)\n",
      "/Users/htr365/opt/anaconda3/envs/muscles/lib/python3.8/site-packages/sklearn/linear_model/_coordinate_descent.py:628: UserWarning: Coordinate descent with no regularization may lead to unexpected results and is discouraged.\n",
      "  model = cd_fast.enet_coordinate_descent(\n",
      "/Users/htr365/opt/anaconda3/envs/muscles/lib/python3.8/site-packages/sklearn/linear_model/_coordinate_descent.py:628: UserWarning: Coordinate descent with no regularization may lead to unexpected results and is discouraged.\n",
      "  model = cd_fast.enet_coordinate_descent(\n",
      "/Users/htr365/opt/anaconda3/envs/muscles/lib/python3.8/site-packages/sklearn/linear_model/_coordinate_descent.py:628: UserWarning: Coordinate descent with no regularization may lead to unexpected results and is discouraged.\n",
      "  model = cd_fast.enet_coordinate_descent(\n",
      "/Users/htr365/opt/anaconda3/envs/muscles/lib/python3.8/site-packages/sklearn/linear_model/_coordinate_descent.py:628: UserWarning: Coordinate descent with no regularization may lead to unexpected results and is discouraged.\n",
      "  model = cd_fast.enet_coordinate_descent(\n",
      "/Users/htr365/opt/anaconda3/envs/muscles/lib/python3.8/site-packages/sklearn/linear_model/_coordinate_descent.py:628: UserWarning: Coordinate descent with no regularization may lead to unexpected results and is discouraged.\n",
      "  model = cd_fast.enet_coordinate_descent(\n",
      "/Users/htr365/opt/anaconda3/envs/muscles/lib/python3.8/site-packages/sklearn/base.py:1151: UserWarning: With alpha=0, this algorithm does not converge well. You are advised to use the LinearRegression estimator\n",
      "  return fit_method(estimator, *args, **kwargs)\n",
      "/Users/htr365/opt/anaconda3/envs/muscles/lib/python3.8/site-packages/sklearn/base.py:1151: UserWarning: With alpha=0, this algorithm does not converge well. You are advised to use the LinearRegression estimator\n",
      "  return fit_method(estimator, *args, **kwargs)\n",
      "/Users/htr365/opt/anaconda3/envs/muscles/lib/python3.8/site-packages/sklearn/linear_model/_coordinate_descent.py:628: UserWarning: Coordinate descent with no regularization may lead to unexpected results and is discouraged.\n",
      "  model = cd_fast.enet_coordinate_descent(\n",
      "/Users/htr365/opt/anaconda3/envs/muscles/lib/python3.8/site-packages/sklearn/base.py:1151: UserWarning: With alpha=0, this algorithm does not converge well. You are advised to use the LinearRegression estimator\n",
      "  return fit_method(estimator, *args, **kwargs)\n",
      "/Users/htr365/opt/anaconda3/envs/muscles/lib/python3.8/site-packages/sklearn/linear_model/_coordinate_descent.py:628: UserWarning: Coordinate descent with no regularization may lead to unexpected results and is discouraged.\n",
      "  model = cd_fast.enet_coordinate_descent(\n",
      "/Users/htr365/opt/anaconda3/envs/muscles/lib/python3.8/site-packages/sklearn/base.py:1151: UserWarning: With alpha=0, this algorithm does not converge well. You are advised to use the LinearRegression estimator\n",
      "  return fit_method(estimator, *args, **kwargs)\n",
      "/Users/htr365/opt/anaconda3/envs/muscles/lib/python3.8/site-packages/sklearn/linear_model/_coordinate_descent.py:628: UserWarning: Coordinate descent with no regularization may lead to unexpected results and is discouraged.\n",
      "  model = cd_fast.enet_coordinate_descent(\n",
      "/Users/htr365/opt/anaconda3/envs/muscles/lib/python3.8/site-packages/sklearn/linear_model/_coordinate_descent.py:628: UserWarning: Coordinate descent with no regularization may lead to unexpected results and is discouraged.\n",
      "  model = cd_fast.enet_coordinate_descent(\n",
      "/Users/htr365/opt/anaconda3/envs/muscles/lib/python3.8/site-packages/sklearn/base.py:1151: UserWarning: With alpha=0, this algorithm does not converge well. You are advised to use the LinearRegression estimator\n",
      "  return fit_method(estimator, *args, **kwargs)\n",
      "/Users/htr365/opt/anaconda3/envs/muscles/lib/python3.8/site-packages/sklearn/linear_model/_coordinate_descent.py:628: ConvergenceWarning: Objective did not converge. You might want to increase the number of iterations, check the scale of the features or consider increasing regularisation. Duality gap: 6.018e-01, tolerance: 9.263e-03\n",
      "  model = cd_fast.enet_coordinate_descent(\n",
      "/Users/htr365/opt/anaconda3/envs/muscles/lib/python3.8/site-packages/sklearn/linear_model/_coordinate_descent.py:628: UserWarning: Coordinate descent with no regularization may lead to unexpected results and is discouraged.\n",
      "  model = cd_fast.enet_coordinate_descent(\n",
      "/Users/htr365/opt/anaconda3/envs/muscles/lib/python3.8/site-packages/sklearn/linear_model/_coordinate_descent.py:628: ConvergenceWarning: Objective did not converge. You might want to increase the number of iterations, check the scale of the features or consider increasing regularisation. Duality gap: 7.454e-01, tolerance: 8.674e-03\n",
      "  model = cd_fast.enet_coordinate_descent(\n",
      "/Users/htr365/opt/anaconda3/envs/muscles/lib/python3.8/site-packages/sklearn/linear_model/_coordinate_descent.py:628: ConvergenceWarning: Objective did not converge. You might want to increase the number of iterations, check the scale of the features or consider increasing regularisation. Duality gap: 1.917e-01, tolerance: 9.074e-03\n",
      "  model = cd_fast.enet_coordinate_descent(\n",
      "/Users/htr365/opt/anaconda3/envs/muscles/lib/python3.8/site-packages/sklearn/linear_model/_coordinate_descent.py:628: ConvergenceWarning: Objective did not converge. You might want to increase the number of iterations, check the scale of the features or consider increasing regularisation. Duality gap: 6.476e-01, tolerance: 9.074e-03\n",
      "  model = cd_fast.enet_coordinate_descent(\n",
      "/Users/htr365/opt/anaconda3/envs/muscles/lib/python3.8/site-packages/sklearn/linear_model/_coordinate_descent.py:628: ConvergenceWarning: Objective did not converge. You might want to increase the number of iterations, check the scale of the features or consider increasing regularisation. Duality gap: 9.903e-01, tolerance: 9.074e-03\n",
      "  model = cd_fast.enet_coordinate_descent(\n",
      "/Users/htr365/opt/anaconda3/envs/muscles/lib/python3.8/site-packages/sklearn/linear_model/_coordinate_descent.py:628: ConvergenceWarning: Objective did not converge. You might want to increase the number of iterations, check the scale of the features or consider increasing regularisation. Duality gap: 9.873e-01, tolerance: 8.674e-03\n",
      "  model = cd_fast.enet_coordinate_descent(\n",
      "/Users/htr365/opt/anaconda3/envs/muscles/lib/python3.8/site-packages/sklearn/linear_model/_coordinate_descent.py:628: ConvergenceWarning: Objective did not converge. You might want to increase the number of iterations, check the scale of the features or consider increasing regularisation. Duality gap: 6.765e-01, tolerance: 9.263e-03\n",
      "  model = cd_fast.enet_coordinate_descent(\n",
      "/Users/htr365/opt/anaconda3/envs/muscles/lib/python3.8/site-packages/sklearn/linear_model/_coordinate_descent.py:628: ConvergenceWarning: Objective did not converge. You might want to increase the number of iterations, check the scale of the features or consider increasing regularisation. Duality gap: 2.030e-01, tolerance: 9.074e-03\n",
      "  model = cd_fast.enet_coordinate_descent(\n",
      "/Users/htr365/opt/anaconda3/envs/muscles/lib/python3.8/site-packages/sklearn/linear_model/_coordinate_descent.py:628: ConvergenceWarning: Objective did not converge. You might want to increase the number of iterations, check the scale of the features or consider increasing regularisation. Duality gap: 4.212e-01, tolerance: 8.968e-03\n",
      "  model = cd_fast.enet_coordinate_descent(\n",
      "/Users/htr365/opt/anaconda3/envs/muscles/lib/python3.8/site-packages/sklearn/linear_model/_coordinate_descent.py:628: ConvergenceWarning: Objective did not converge. You might want to increase the number of iterations, check the scale of the features or consider increasing regularisation. Duality gap: 1.043e+00, tolerance: 9.211e-03\n",
      "  model = cd_fast.enet_coordinate_descent(\n",
      "/Users/htr365/opt/anaconda3/envs/muscles/lib/python3.8/site-packages/sklearn/linear_model/_coordinate_descent.py:628: ConvergenceWarning: Objective did not converge. You might want to increase the number of iterations, check the scale of the features or consider increasing regularisation. Duality gap: 9.288e-01, tolerance: 9.063e-03\n",
      "  model = cd_fast.enet_coordinate_descent(\n",
      "/Users/htr365/opt/anaconda3/envs/muscles/lib/python3.8/site-packages/sklearn/linear_model/_coordinate_descent.py:628: ConvergenceWarning: Objective did not converge. You might want to increase the number of iterations, check the scale of the features or consider increasing regularisation. Duality gap: 6.667e-01, tolerance: 9.074e-03\n",
      "  model = cd_fast.enet_coordinate_descent(\n",
      "/Users/htr365/opt/anaconda3/envs/muscles/lib/python3.8/site-packages/sklearn/linear_model/_coordinate_descent.py:628: ConvergenceWarning: Objective did not converge. You might want to increase the number of iterations, check the scale of the features or consider increasing regularisation. Duality gap: 8.191e-01, tolerance: 9.211e-03\n",
      "  model = cd_fast.enet_coordinate_descent(\n",
      "/Users/htr365/opt/anaconda3/envs/muscles/lib/python3.8/site-packages/sklearn/linear_model/_coordinate_descent.py:628: ConvergenceWarning: Objective did not converge. You might want to increase the number of iterations, check the scale of the features or consider increasing regularisation. Duality gap: 4.194e-01, tolerance: 8.568e-03\n",
      "  model = cd_fast.enet_coordinate_descent(\n",
      "/Users/htr365/opt/anaconda3/envs/muscles/lib/python3.8/site-packages/sklearn/linear_model/_coordinate_descent.py:628: ConvergenceWarning: Objective did not converge. You might want to increase the number of iterations, check the scale of the features or consider increasing regularisation. Duality gap: 9.520e-01, tolerance: 9.642e-03\n",
      "  model = cd_fast.enet_coordinate_descent(\n",
      "/Users/htr365/opt/anaconda3/envs/muscles/lib/python3.8/site-packages/sklearn/linear_model/_coordinate_descent.py:628: ConvergenceWarning: Objective did not converge. You might want to increase the number of iterations, check the scale of the features or consider increasing regularisation. Duality gap: 5.916e-01, tolerance: 8.442e-03\n",
      "  model = cd_fast.enet_coordinate_descent(\n",
      "/Users/htr365/opt/anaconda3/envs/muscles/lib/python3.8/site-packages/sklearn/linear_model/_coordinate_descent.py:628: ConvergenceWarning: Objective did not converge. You might want to increase the number of iterations, check the scale of the features or consider increasing regularisation. Duality gap: 9.558e-01, tolerance: 8.674e-03\n",
      "  model = cd_fast.enet_coordinate_descent(\n",
      "/Users/htr365/opt/anaconda3/envs/muscles/lib/python3.8/site-packages/sklearn/linear_model/_coordinate_descent.py:628: ConvergenceWarning: Objective did not converge. You might want to increase the number of iterations, check the scale of the features or consider increasing regularisation. Duality gap: 1.731e+00, tolerance: 9.074e-03\n",
      "  model = cd_fast.enet_coordinate_descent(\n",
      "/Users/htr365/opt/anaconda3/envs/muscles/lib/python3.8/site-packages/sklearn/linear_model/_coordinate_descent.py:628: ConvergenceWarning: Objective did not converge. You might want to increase the number of iterations, check the scale of the features or consider increasing regularisation. Duality gap: 1.822e+00, tolerance: 9.074e-03\n",
      "  model = cd_fast.enet_coordinate_descent(\n",
      "/Users/htr365/opt/anaconda3/envs/muscles/lib/python3.8/site-packages/sklearn/linear_model/_coordinate_descent.py:628: ConvergenceWarning: Objective did not converge. You might want to increase the number of iterations, check the scale of the features or consider increasing regularisation. Duality gap: 1.283e-02, tolerance: 9.074e-03\n",
      "  model = cd_fast.enet_coordinate_descent(\n",
      "/Users/htr365/opt/anaconda3/envs/muscles/lib/python3.8/site-packages/sklearn/linear_model/_coordinate_descent.py:628: ConvergenceWarning: Objective did not converge. You might want to increase the number of iterations, check the scale of the features or consider increasing regularisation. Duality gap: 1.180e+00, tolerance: 9.074e-03\n",
      "  model = cd_fast.enet_coordinate_descent(\n",
      "/Users/htr365/opt/anaconda3/envs/muscles/lib/python3.8/site-packages/sklearn/linear_model/_coordinate_descent.py:628: ConvergenceWarning: Objective did not converge. You might want to increase the number of iterations, check the scale of the features or consider increasing regularisation. Duality gap: 1.058e+00, tolerance: 8.568e-03\n",
      "  model = cd_fast.enet_coordinate_descent(\n",
      "/Users/htr365/opt/anaconda3/envs/muscles/lib/python3.8/site-packages/sklearn/linear_model/_coordinate_descent.py:628: ConvergenceWarning: Objective did not converge. You might want to increase the number of iterations, check the scale of the features or consider increasing regularisation. Duality gap: 2.055e-02, tolerance: 9.211e-03\n",
      "  model = cd_fast.enet_coordinate_descent(\n",
      "/Users/htr365/opt/anaconda3/envs/muscles/lib/python3.8/site-packages/sklearn/linear_model/_coordinate_descent.py:628: ConvergenceWarning: Objective did not converge. You might want to increase the number of iterations, check the scale of the features or consider increasing regularisation. Duality gap: 1.033e-02, tolerance: 8.674e-03\n",
      "  model = cd_fast.enet_coordinate_descent(\n",
      "/Users/htr365/opt/anaconda3/envs/muscles/lib/python3.8/site-packages/sklearn/linear_model/_coordinate_descent.py:628: ConvergenceWarning: Objective did not converge. You might want to increase the number of iterations, check the scale of the features or consider increasing regularisation. Duality gap: 5.155e-01, tolerance: 9.074e-03\n",
      "  model = cd_fast.enet_coordinate_descent(\n",
      "/Users/htr365/opt/anaconda3/envs/muscles/lib/python3.8/site-packages/sklearn/linear_model/_coordinate_descent.py:628: ConvergenceWarning: Objective did not converge. You might want to increase the number of iterations, check the scale of the features or consider increasing regularisation. Duality gap: 7.454e-01, tolerance: 8.674e-03\n",
      "  model = cd_fast.enet_coordinate_descent(\n",
      "/Users/htr365/opt/anaconda3/envs/muscles/lib/python3.8/site-packages/sklearn/linear_model/_coordinate_descent.py:628: ConvergenceWarning: Objective did not converge. You might want to increase the number of iterations, check the scale of the features or consider increasing regularisation. Duality gap: 2.247e-02, tolerance: 9.263e-03\n",
      "  model = cd_fast.enet_coordinate_descent(\n",
      "/Users/htr365/opt/anaconda3/envs/muscles/lib/python3.8/site-packages/sklearn/linear_model/_coordinate_descent.py:628: ConvergenceWarning: Objective did not converge. You might want to increase the number of iterations, check the scale of the features or consider increasing regularisation. Duality gap: 1.702e-01, tolerance: 9.074e-03\n",
      "  model = cd_fast.enet_coordinate_descent(\n",
      "/Users/htr365/opt/anaconda3/envs/muscles/lib/python3.8/site-packages/sklearn/linear_model/_coordinate_descent.py:628: ConvergenceWarning: Objective did not converge. You might want to increase the number of iterations, check the scale of the features or consider increasing regularisation. Duality gap: 1.337e+00, tolerance: 9.074e-03\n",
      "  model = cd_fast.enet_coordinate_descent(\n",
      "/Users/htr365/opt/anaconda3/envs/muscles/lib/python3.8/site-packages/sklearn/linear_model/_coordinate_descent.py:628: ConvergenceWarning: Objective did not converge. You might want to increase the number of iterations, check the scale of the features or consider increasing regularisation. Duality gap: 6.613e-01, tolerance: 8.568e-03\n",
      "  model = cd_fast.enet_coordinate_descent(\n",
      "/Users/htr365/opt/anaconda3/envs/muscles/lib/python3.8/site-packages/sklearn/linear_model/_coordinate_descent.py:628: ConvergenceWarning: Objective did not converge. You might want to increase the number of iterations, check the scale of the features or consider increasing regularisation. Duality gap: 1.033e-02, tolerance: 8.674e-03\n",
      "  model = cd_fast.enet_coordinate_descent(\n",
      "/Users/htr365/opt/anaconda3/envs/muscles/lib/python3.8/site-packages/sklearn/linear_model/_coordinate_descent.py:628: ConvergenceWarning: Objective did not converge. You might want to increase the number of iterations, check the scale of the features or consider increasing regularisation. Duality gap: 1.179e-02, tolerance: 9.263e-03\n",
      "  model = cd_fast.enet_coordinate_descent(\n",
      "/Users/htr365/opt/anaconda3/envs/muscles/lib/python3.8/site-packages/sklearn/linear_model/_coordinate_descent.py:628: ConvergenceWarning: Objective did not converge. You might want to increase the number of iterations, check the scale of the features or consider increasing regularisation. Duality gap: 8.790e-01, tolerance: 9.074e-03\n",
      "  model = cd_fast.enet_coordinate_descent(\n",
      "/Users/htr365/opt/anaconda3/envs/muscles/lib/python3.8/site-packages/sklearn/linear_model/_coordinate_descent.py:628: ConvergenceWarning: Objective did not converge. You might want to increase the number of iterations, check the scale of the features or consider increasing regularisation. Duality gap: 1.007e+00, tolerance: 9.074e-03\n",
      "  model = cd_fast.enet_coordinate_descent(\n",
      "/Users/htr365/opt/anaconda3/envs/muscles/lib/python3.8/site-packages/sklearn/linear_model/_coordinate_descent.py:628: ConvergenceWarning: Objective did not converge. You might want to increase the number of iterations, check the scale of the features or consider increasing regularisation. Duality gap: 8.430e-01, tolerance: 8.568e-03\n",
      "  model = cd_fast.enet_coordinate_descent(\n",
      "/Users/htr365/opt/anaconda3/envs/muscles/lib/python3.8/site-packages/sklearn/linear_model/_coordinate_descent.py:628: ConvergenceWarning: Objective did not converge. You might want to increase the number of iterations, check the scale of the features or consider increasing regularisation. Duality gap: 8.987e-01, tolerance: 9.642e-03\n",
      "  model = cd_fast.enet_coordinate_descent(\n",
      "/Users/htr365/opt/anaconda3/envs/muscles/lib/python3.8/site-packages/sklearn/linear_model/_coordinate_descent.py:628: ConvergenceWarning: Objective did not converge. You might want to increase the number of iterations, check the scale of the features or consider increasing regularisation. Duality gap: 7.761e-02, tolerance: 9.211e-03\n",
      "  model = cd_fast.enet_coordinate_descent(\n",
      "/Users/htr365/opt/anaconda3/envs/muscles/lib/python3.8/site-packages/sklearn/linear_model/_coordinate_descent.py:628: ConvergenceWarning: Objective did not converge. You might want to increase the number of iterations, check the scale of the features or consider increasing regularisation. Duality gap: 1.970e-01, tolerance: 8.674e-03\n",
      "  model = cd_fast.enet_coordinate_descent(\n",
      "/Users/htr365/opt/anaconda3/envs/muscles/lib/python3.8/site-packages/sklearn/linear_model/_coordinate_descent.py:628: ConvergenceWarning: Objective did not converge. You might want to increase the number of iterations, check the scale of the features or consider increasing regularisation. Duality gap: 9.765e-03, tolerance: 9.074e-03\n",
      "  model = cd_fast.enet_coordinate_descent(\n",
      "/Users/htr365/opt/anaconda3/envs/muscles/lib/python3.8/site-packages/sklearn/linear_model/_coordinate_descent.py:628: ConvergenceWarning: Objective did not converge. You might want to increase the number of iterations, check the scale of the features or consider increasing regularisation. Duality gap: 4.662e-01, tolerance: 8.674e-03\n",
      "  model = cd_fast.enet_coordinate_descent(\n",
      "/Users/htr365/opt/anaconda3/envs/muscles/lib/python3.8/site-packages/sklearn/linear_model/_coordinate_descent.py:628: ConvergenceWarning: Objective did not converge. You might want to increase the number of iterations, check the scale of the features or consider increasing regularisation. Duality gap: 1.022e-02, tolerance: 9.211e-03\n",
      "  model = cd_fast.enet_coordinate_descent(\n",
      "/Users/htr365/opt/anaconda3/envs/muscles/lib/python3.8/site-packages/sklearn/linear_model/_coordinate_descent.py:628: ConvergenceWarning: Objective did not converge. You might want to increase the number of iterations, check the scale of the features or consider increasing regularisation. Duality gap: 1.445e-01, tolerance: 8.844e-03\n",
      "  model = cd_fast.enet_coordinate_descent(\n",
      "/Users/htr365/opt/anaconda3/envs/muscles/lib/python3.8/site-packages/sklearn/linear_model/_coordinate_descent.py:628: ConvergenceWarning: Objective did not converge. You might want to increase the number of iterations, check the scale of the features or consider increasing regularisation. Duality gap: 2.147e-02, tolerance: 9.263e-03\n",
      "  model = cd_fast.enet_coordinate_descent(\n",
      "/Users/htr365/opt/anaconda3/envs/muscles/lib/python3.8/site-packages/sklearn/linear_model/_coordinate_descent.py:628: ConvergenceWarning: Objective did not converge. You might want to increase the number of iterations, check the scale of the features or consider increasing regularisation. Duality gap: 1.999e-01, tolerance: 8.844e-03\n",
      "  model = cd_fast.enet_coordinate_descent(\n",
      "/Users/htr365/opt/anaconda3/envs/muscles/lib/python3.8/site-packages/sklearn/linear_model/_coordinate_descent.py:628: ConvergenceWarning: Objective did not converge. You might want to increase the number of iterations, check the scale of the features or consider increasing regularisation. Duality gap: 7.278e-02, tolerance: 9.074e-03\n",
      "  model = cd_fast.enet_coordinate_descent(\n",
      "/Users/htr365/opt/anaconda3/envs/muscles/lib/python3.8/site-packages/sklearn/linear_model/_coordinate_descent.py:628: ConvergenceWarning: Objective did not converge. You might want to increase the number of iterations, check the scale of the features or consider increasing regularisation. Duality gap: 9.452e-02, tolerance: 9.074e-03\n",
      "  model = cd_fast.enet_coordinate_descent(\n",
      "/Users/htr365/opt/anaconda3/envs/muscles/lib/python3.8/site-packages/sklearn/linear_model/_coordinate_descent.py:628: ConvergenceWarning: Objective did not converge. You might want to increase the number of iterations, check the scale of the features or consider increasing regularisation. Duality gap: 1.415e+00, tolerance: 9.074e-03\n",
      "  model = cd_fast.enet_coordinate_descent(\n",
      "/Users/htr365/opt/anaconda3/envs/muscles/lib/python3.8/site-packages/sklearn/linear_model/_coordinate_descent.py:628: ConvergenceWarning: Objective did not converge. You might want to increase the number of iterations, check the scale of the features or consider increasing regularisation. Duality gap: 7.110e-01, tolerance: 9.063e-03\n",
      "  model = cd_fast.enet_coordinate_descent(\n",
      "/Users/htr365/opt/anaconda3/envs/muscles/lib/python3.8/site-packages/sklearn/linear_model/_coordinate_descent.py:628: ConvergenceWarning: Objective did not converge. You might want to increase the number of iterations, check the scale of the features or consider increasing regularisation. Duality gap: 1.347e+00, tolerance: 9.263e-03\n",
      "  model = cd_fast.enet_coordinate_descent(\n",
      "/Users/htr365/opt/anaconda3/envs/muscles/lib/python3.8/site-packages/sklearn/linear_model/_coordinate_descent.py:628: ConvergenceWarning: Objective did not converge. You might want to increase the number of iterations, check the scale of the features or consider increasing regularisation. Duality gap: 1.917e-01, tolerance: 9.063e-03\n",
      "  model = cd_fast.enet_coordinate_descent(\n",
      "/Users/htr365/opt/anaconda3/envs/muscles/lib/python3.8/site-packages/sklearn/linear_model/_coordinate_descent.py:628: ConvergenceWarning: Objective did not converge. You might want to increase the number of iterations, check the scale of the features or consider increasing regularisation. Duality gap: 2.982e-01, tolerance: 9.063e-03\n",
      "  model = cd_fast.enet_coordinate_descent(\n",
      "/Users/htr365/opt/anaconda3/envs/muscles/lib/python3.8/site-packages/sklearn/linear_model/_coordinate_descent.py:628: ConvergenceWarning: Objective did not converge. You might want to increase the number of iterations, check the scale of the features or consider increasing regularisation. Duality gap: 1.059e-01, tolerance: 9.063e-03\n",
      "  model = cd_fast.enet_coordinate_descent(\n",
      "/Users/htr365/opt/anaconda3/envs/muscles/lib/python3.8/site-packages/sklearn/linear_model/_coordinate_descent.py:628: ConvergenceWarning: Objective did not converge. You might want to increase the number of iterations, check the scale of the features or consider increasing regularisation. Duality gap: 8.985e-02, tolerance: 9.063e-03\n",
      "  model = cd_fast.enet_coordinate_descent(\n"
     ]
    },
    {
     "name": "stdout",
     "output_type": "stream",
     "text": [
      "extra_muscles_tired\n",
      "           0                       1\n",
      "0   0.000000                   cis_1\n",
      "1   0.000000                   cis_2\n",
      "2  -0.025909                   cis_3\n",
      "3   0.000000                   cis_4\n",
      "4  -0.000000                   cis_5\n",
      "5  -1.260174                   cis_6\n",
      "6   0.000000                   cis_7\n",
      "7  -0.060116                   cis_8\n",
      "8  -0.000000                   cis_9\n",
      "9  -0.000000                  cis_10\n",
      "10 -0.000000                  cis_11\n",
      "11  0.000000                  cis_12\n",
      "12 -0.000000                  cis_13\n",
      "13 -0.000000                  cis_14\n",
      "14 -0.760370                  cis_15\n",
      "15 -0.054756                  cis_16\n",
      "16 -0.193429                  cis_17\n",
      "17 -0.000000                  cis_18\n",
      "18  0.000000                  cis_19\n",
      "19 -0.021417                  cis_20\n",
      "20  0.000000     hooper_muscles_sore\n",
      "21 -0.009004     extra_muscles_tired\n",
      "22  0.000000    hooper_sleep_quality\n",
      "23  0.000000    hooper_fatigue_level\n",
      "24  0.000000     hooper_stress_level\n",
      "25 -0.000000            coffee_count\n",
      "26  0.000216              step_count\n",
      "27 -0.000000                 alcohol\n",
      "28  0.544089        fatigue_expected\n",
      "29  0.333287   muscles_sore_expected\n",
      "30 -0.000000  muscles_tired_expected\n",
      "31 -0.000000  cis_subjective_fatigue\n",
      "32 -0.000000       cis_concentration\n",
      "33 -0.000000          cis_motivation\n",
      "34 -0.000000   cis_physical_activity\n",
      "35 -0.027044              sleep_time\n",
      "36 -0.000000                 walking\n",
      "37  0.000000                 cycling\n",
      "38 -0.000000             ball_sports\n",
      "39  0.000000          weight_lifting\n",
      "40  0.000000                 running\n",
      "41 -0.000000                    yoga\n",
      "42  0.000000                    HITT\n",
      "43  0.000000           manual_labour\n"
     ]
    }
   ],
   "source": [
    "prediction_lasso = pd.DataFrame()\n",
    "for outcome in pred_variables:     \n",
    "    X, y = data.loc[:end_train,vars].shift(1).dropna(), data.loc[data.loc[:end_train,vars].shift(1).dropna().index][outcome]\n",
    "    # define model\n",
    "    model = Lasso(alpha=1.0)\n",
    "    # define model evaluation method\n",
    "    cv = RepeatedKFold(n_splits=10, n_repeats=3, random_state=1)\n",
    "    # define grid\n",
    "    grid = dict()\n",
    "    grid['alpha'] = np.arange(0, 1, 0.01)\n",
    "    # define search\n",
    "    search = GridSearchCV(model, grid, scoring='neg_mean_absolute_error', cv=cv, n_jobs=-1)\n",
    "    results = search.fit(X, y)\n",
    "\n",
    "\n",
    "    model_opt_alpha = Lasso(alpha=results.best_params_['alpha'])\n",
    "    model_opt_alpha.fit(X,y)\n",
    "    prediction_lasso = pd.concat([prediction_lasso,pd.DataFrame(model_opt_alpha.predict(data.loc[end_train:,vars].shift(1).dropna())).rename(columns={0:outcome})],axis=1)\n",
    "    print(outcome)\n",
    "    print(pd.concat([pd.Series(model_opt_alpha.coef_),pd.Series(data.loc[:end_train,vars].shift(1).dropna().columns)],axis=1))"
   ]
  },
  {
   "cell_type": "code",
   "execution_count": 431,
   "metadata": {},
   "outputs": [
    {
     "data": {
      "text/html": [
       "<div>\n",
       "<style scoped>\n",
       "    .dataframe tbody tr th:only-of-type {\n",
       "        vertical-align: middle;\n",
       "    }\n",
       "\n",
       "    .dataframe tbody tr th {\n",
       "        vertical-align: top;\n",
       "    }\n",
       "\n",
       "    .dataframe thead th {\n",
       "        text-align: right;\n",
       "    }\n",
       "</style>\n",
       "<table border=\"1\" class=\"dataframe\">\n",
       "  <thead>\n",
       "    <tr style=\"text-align: right;\">\n",
       "      <th></th>\n",
       "      <th>cis_subjective_fatigue</th>\n",
       "      <th>hooper_muscles_sore</th>\n",
       "      <th>extra_muscles_tired</th>\n",
       "      <th>model</th>\n",
       "    </tr>\n",
       "  </thead>\n",
       "  <tbody>\n",
       "    <tr>\n",
       "      <th>2024-07-22</th>\n",
       "      <td>3.397884</td>\n",
       "      <td>0.122905</td>\n",
       "      <td>4.299959</td>\n",
       "      <td>Lasso</td>\n",
       "    </tr>\n",
       "    <tr>\n",
       "      <th>2024-07-23</th>\n",
       "      <td>1.947126</td>\n",
       "      <td>2.458165</td>\n",
       "      <td>3.852589</td>\n",
       "      <td>Lasso</td>\n",
       "    </tr>\n",
       "    <tr>\n",
       "      <th>2024-07-24</th>\n",
       "      <td>3.876853</td>\n",
       "      <td>4.560154</td>\n",
       "      <td>4.647963</td>\n",
       "      <td>Lasso</td>\n",
       "    </tr>\n",
       "    <tr>\n",
       "      <th>2024-07-25</th>\n",
       "      <td>3.494093</td>\n",
       "      <td>4.940907</td>\n",
       "      <td>4.107356</td>\n",
       "      <td>Lasso</td>\n",
       "    </tr>\n",
       "    <tr>\n",
       "      <th>2024-07-26</th>\n",
       "      <td>1.306702</td>\n",
       "      <td>2.070707</td>\n",
       "      <td>-2.869431</td>\n",
       "      <td>Lasso</td>\n",
       "    </tr>\n",
       "    <tr>\n",
       "      <th>2024-07-27</th>\n",
       "      <td>3.243407</td>\n",
       "      <td>2.841183</td>\n",
       "      <td>4.049578</td>\n",
       "      <td>Lasso</td>\n",
       "    </tr>\n",
       "    <tr>\n",
       "      <th>2024-07-28</th>\n",
       "      <td>4.164527</td>\n",
       "      <td>1.962335</td>\n",
       "      <td>5.552081</td>\n",
       "      <td>Lasso</td>\n",
       "    </tr>\n",
       "  </tbody>\n",
       "</table>\n",
       "</div>"
      ],
      "text/plain": [
       "            cis_subjective_fatigue  hooper_muscles_sore  extra_muscles_tired  \\\n",
       "2024-07-22                3.397884             0.122905             4.299959   \n",
       "2024-07-23                1.947126             2.458165             3.852589   \n",
       "2024-07-24                3.876853             4.560154             4.647963   \n",
       "2024-07-25                3.494093             4.940907             4.107356   \n",
       "2024-07-26                1.306702             2.070707            -2.869431   \n",
       "2024-07-27                3.243407             2.841183             4.049578   \n",
       "2024-07-28                4.164527             1.962335             5.552081   \n",
       "\n",
       "            model  \n",
       "2024-07-22  Lasso  \n",
       "2024-07-23  Lasso  \n",
       "2024-07-24  Lasso  \n",
       "2024-07-25  Lasso  \n",
       "2024-07-26  Lasso  \n",
       "2024-07-27  Lasso  \n",
       "2024-07-28  Lasso  "
      ]
     },
     "execution_count": 431,
     "metadata": {},
     "output_type": "execute_result"
    }
   ],
   "source": [
    "prediction_lasso['model'] = 'Lasso'\n",
    "prediction_lasso.index =data.loc[end_train:,vars].shift(1).dropna().index\n",
    "prediction_lasso"
   ]
  },
  {
   "cell_type": "markdown",
   "metadata": {},
   "source": [
    "# Combine and Compare"
   ]
  },
  {
   "cell_type": "code",
   "execution_count": 432,
   "metadata": {},
   "outputs": [],
   "source": [
    "def prep_pred_dataframe(preds, model):\n",
    "    preds_df = pd.concat(preds.values(), axis=1)\n",
    "    preds_df.columns = preds.keys()\n",
    "    preds_df = preds_df.reset_index().melt(id_vars='index', var_name='measurement', value_name='value')\n",
    "    preds_df['model'] = model\n",
    "    return preds_df"
   ]
  },
  {
   "cell_type": "code",
   "execution_count": 433,
   "metadata": {},
   "outputs": [],
   "source": [
    "gb_ms_df = gb_predictions_ms[pred_variables].reset_index().melt(id_vars='index', var_name='measurement', value_name='value')\n",
    "gb_ms_df['model'] = 'Gradient Boosting Multiseries'\n",
    "\n",
    "rf_ms_df = rf_predictions_ms[pred_variables].reset_index().melt(id_vars='index', var_name='measurement', value_name='value')\n",
    "rf_ms_df['model'] = 'Random Forest Multiseries'"
   ]
  },
  {
   "cell_type": "code",
   "execution_count": 434,
   "metadata": {},
   "outputs": [],
   "source": [
    "gb_df = prep_pred_dataframe(gb_predictions,'Gradient Boosting')\n",
    "rf_df = prep_pred_dataframe(rf_predictions,'Random Forest')"
   ]
  },
  {
   "cell_type": "code",
   "execution_count": 435,
   "metadata": {},
   "outputs": [],
   "source": [
    "# get Human prediction\n",
    "human_df = human_prediction[['fatigue_prediction','muscles_tired_prediction','muscles_sore_prediction']][end_train:].\\\n",
    "rename(columns={'fatigue_prediction':'cis_subjective_fatigue','muscles_tired_prediction':'extra_muscles_tired','muscles_sore_prediction':'hooper_muscles_sore'}).\\\n",
    "reset_index().melt(id_vars='index', var_name='measurement', value_name='value')\n",
    "human_df['model'] = 'Human Prediction'"
   ]
  },
  {
   "cell_type": "code",
   "execution_count": 436,
   "metadata": {},
   "outputs": [],
   "source": [
    "# get mean\n",
    "mean_df = df[pred_variables][:end_train].mean()\n",
    "mean_df = mean_df.rename('mean')\n",
    "mean_df = pd.merge(gb_ms_df[['index','measurement']],mean_df,how='left',right_index=True, left_on='measurement')\n",
    "mean_df['model'] =\"Always predict Mean\"\n",
    "mean_df = mean_df.rename(columns={'mean':'value'})\n"
   ]
  },
  {
   "cell_type": "code",
   "execution_count": 437,
   "metadata": {},
   "outputs": [],
   "source": [
    "gb_ms_df_wide  = gb_ms_df.pivot(index='index',columns='measurement', values='value')\n",
    "gb_ms_df_wide['model'] = 'Gradient boosting multiseries'\n",
    "\n",
    "rf_ms_df_wide = rf_ms_df.pivot(index='index',columns='measurement', values='value')\n",
    "rf_ms_df_wide['model'] = 'Random forest multiseries'\n",
    "\n",
    "gb_df_wide = gb_df.pivot(index='index',columns='measurement', values='value')\n",
    "gb_df_wide['model'] = 'Gradient boosting timeseries'\n",
    "\n",
    "rf_df_wide = rf_df.pivot(index='index',columns='measurement', values='value')\n",
    "rf_df_wide['model'] = 'Random forest time series'\n",
    "\n",
    "human_df_wide = human_df.pivot(index='index',columns='measurement', values='value')\n",
    "human_df_wide['model'] = 'Human Prediction'\n",
    "\n",
    "mean_df_wide = mean_df.pivot(index='index',columns='measurement', values='value')\n",
    "mean_df_wide['model'] = 'Always predicting the mean'\n"
   ]
  },
  {
   "cell_type": "code",
   "execution_count": 438,
   "metadata": {},
   "outputs": [],
   "source": [
    "df_true = data_test[pred_variables]\n",
    "df_true['model'] = 'Ground Truth'"
   ]
  },
  {
   "cell_type": "code",
   "execution_count": 439,
   "metadata": {},
   "outputs": [],
   "source": [
    "if person =='Amanda':\n",
    "    df_true = df_true.drop('2024-08-07')\n",
    "    human_df_wide = human_df_wide.drop('2024-08-07')\n",
    "if person =='Johanna':\n",
    "    df_true = df_true.drop('2024-07-21')\n",
    "    human_df_wide = human_df_wide.drop('2024-07-21')\n",
    "#df_true"
   ]
  },
  {
   "cell_type": "code",
   "execution_count": 440,
   "metadata": {},
   "outputs": [
    {
     "data": {
      "text/html": [
       "<div>\n",
       "<style scoped>\n",
       "    .dataframe tbody tr th:only-of-type {\n",
       "        vertical-align: middle;\n",
       "    }\n",
       "\n",
       "    .dataframe tbody tr th {\n",
       "        vertical-align: top;\n",
       "    }\n",
       "\n",
       "    .dataframe thead th {\n",
       "        text-align: right;\n",
       "    }\n",
       "</style>\n",
       "<table border=\"1\" class=\"dataframe\">\n",
       "  <thead>\n",
       "    <tr style=\"text-align: right;\">\n",
       "      <th></th>\n",
       "      <th>cis_subjective_fatigue</th>\n",
       "      <th>extra_muscles_tired</th>\n",
       "      <th>hooper_muscles_sore</th>\n",
       "      <th>model</th>\n",
       "      <th>index</th>\n",
       "    </tr>\n",
       "  </thead>\n",
       "  <tbody>\n",
       "    <tr>\n",
       "      <th>2024-07-22</th>\n",
       "      <td>2.916183</td>\n",
       "      <td>4.804222</td>\n",
       "      <td>3.450080</td>\n",
       "      <td>Gradient boosting multiseries</td>\n",
       "      <td>2024-07-22</td>\n",
       "    </tr>\n",
       "    <tr>\n",
       "      <th>2024-07-23</th>\n",
       "      <td>2.394111</td>\n",
       "      <td>1.907373</td>\n",
       "      <td>2.734665</td>\n",
       "      <td>Gradient boosting multiseries</td>\n",
       "      <td>2024-07-23</td>\n",
       "    </tr>\n",
       "    <tr>\n",
       "      <th>2024-07-24</th>\n",
       "      <td>3.986925</td>\n",
       "      <td>4.475180</td>\n",
       "      <td>1.651559</td>\n",
       "      <td>Gradient boosting multiseries</td>\n",
       "      <td>2024-07-24</td>\n",
       "    </tr>\n",
       "    <tr>\n",
       "      <th>2024-07-25</th>\n",
       "      <td>2.799626</td>\n",
       "      <td>1.444737</td>\n",
       "      <td>4.675842</td>\n",
       "      <td>Gradient boosting multiseries</td>\n",
       "      <td>2024-07-25</td>\n",
       "    </tr>\n",
       "    <tr>\n",
       "      <th>2024-07-26</th>\n",
       "      <td>3.786342</td>\n",
       "      <td>3.489365</td>\n",
       "      <td>3.545411</td>\n",
       "      <td>Gradient boosting multiseries</td>\n",
       "      <td>2024-07-26</td>\n",
       "    </tr>\n",
       "    <tr>\n",
       "      <th>...</th>\n",
       "      <td>...</td>\n",
       "      <td>...</td>\n",
       "      <td>...</td>\n",
       "      <td>...</td>\n",
       "      <td>...</td>\n",
       "    </tr>\n",
       "    <tr>\n",
       "      <th>2024-07-24</th>\n",
       "      <td>3.505221</td>\n",
       "      <td>4.837982</td>\n",
       "      <td>3.001273</td>\n",
       "      <td>Gradient Boosting</td>\n",
       "      <td>2024-07-24</td>\n",
       "    </tr>\n",
       "    <tr>\n",
       "      <th>2024-07-25</th>\n",
       "      <td>2.927718</td>\n",
       "      <td>4.335040</td>\n",
       "      <td>5.334459</td>\n",
       "      <td>Gradient Boosting</td>\n",
       "      <td>2024-07-25</td>\n",
       "    </tr>\n",
       "    <tr>\n",
       "      <th>2024-07-26</th>\n",
       "      <td>3.440055</td>\n",
       "      <td>3.451629</td>\n",
       "      <td>3.627543</td>\n",
       "      <td>Gradient Boosting</td>\n",
       "      <td>2024-07-26</td>\n",
       "    </tr>\n",
       "    <tr>\n",
       "      <th>2024-07-27</th>\n",
       "      <td>3.884521</td>\n",
       "      <td>4.837692</td>\n",
       "      <td>2.394590</td>\n",
       "      <td>Gradient Boosting</td>\n",
       "      <td>2024-07-27</td>\n",
       "    </tr>\n",
       "    <tr>\n",
       "      <th>2024-07-28</th>\n",
       "      <td>3.560690</td>\n",
       "      <td>4.608380</td>\n",
       "      <td>2.707036</td>\n",
       "      <td>Gradient Boosting</td>\n",
       "      <td>2024-07-28</td>\n",
       "    </tr>\n",
       "  </tbody>\n",
       "</table>\n",
       "<p>70 rows × 5 columns</p>\n",
       "</div>"
      ],
      "text/plain": [
       "            cis_subjective_fatigue  extra_muscles_tired  hooper_muscles_sore  \\\n",
       "2024-07-22                2.916183             4.804222             3.450080   \n",
       "2024-07-23                2.394111             1.907373             2.734665   \n",
       "2024-07-24                3.986925             4.475180             1.651559   \n",
       "2024-07-25                2.799626             1.444737             4.675842   \n",
       "2024-07-26                3.786342             3.489365             3.545411   \n",
       "...                            ...                  ...                  ...   \n",
       "2024-07-24                3.505221             4.837982             3.001273   \n",
       "2024-07-25                2.927718             4.335040             5.334459   \n",
       "2024-07-26                3.440055             3.451629             3.627543   \n",
       "2024-07-27                3.884521             4.837692             2.394590   \n",
       "2024-07-28                3.560690             4.608380             2.707036   \n",
       "\n",
       "                                    model      index  \n",
       "2024-07-22  Gradient boosting multiseries 2024-07-22  \n",
       "2024-07-23  Gradient boosting multiseries 2024-07-23  \n",
       "2024-07-24  Gradient boosting multiseries 2024-07-24  \n",
       "2024-07-25  Gradient boosting multiseries 2024-07-25  \n",
       "2024-07-26  Gradient boosting multiseries 2024-07-26  \n",
       "...                                   ...        ...  \n",
       "2024-07-24              Gradient Boosting 2024-07-24  \n",
       "2024-07-25              Gradient Boosting 2024-07-25  \n",
       "2024-07-26              Gradient Boosting 2024-07-26  \n",
       "2024-07-27              Gradient Boosting 2024-07-27  \n",
       "2024-07-28              Gradient Boosting 2024-07-28  \n",
       "\n",
       "[70 rows x 5 columns]"
      ]
     },
     "execution_count": 440,
     "metadata": {},
     "output_type": "execute_result"
    }
   ],
   "source": [
    "all_predictions = pd.concat([gb_ms_df_wide, rf_ms_df_wide,rf_df_wide, gb_df_wide, human_df_wide, mean_df_wide,df_true,prediction_lasso, prediction_rf,prediction_gb])\n",
    "all_predictions['index'] = all_predictions.index\n",
    "all_predictions"
   ]
  },
  {
   "cell_type": "code",
   "execution_count": 444,
   "metadata": {},
   "outputs": [
    {
     "data": {
      "text/plain": [
       "DatetimeIndex(['2024-07-22', '2024-07-23', '2024-07-24', '2024-07-25',\n",
       "               '2024-07-26', '2024-07-27', '2024-07-28'],\n",
       "              dtype='datetime64[ns]', freq=None)"
      ]
     },
     "execution_count": 444,
     "metadata": {},
     "output_type": "execute_result"
    }
   ],
   "source": [
    "all_predictions.index.unique()"
   ]
  },
  {
   "cell_type": "code",
   "execution_count": 445,
   "metadata": {},
   "outputs": [],
   "source": [
    "all_predictions[['cis_subjective_fatigue',\t'extra_muscles_tired',\t'hooper_muscles_sore']] = all_predictions[['cis_subjective_fatigue',\t'extra_muscles_tired',\t'hooper_muscles_sore']].applymap(lambda x: 1 if x < 1 else x)\n",
    "all_predictions[['cis_subjective_fatigue',\t'extra_muscles_tired',\t'hooper_muscles_sore']] = all_predictions[['cis_subjective_fatigue',\t'extra_muscles_tired',\t'hooper_muscles_sore']].applymap(lambda x: 7 if x >7 else x)\n"
   ]
  },
  {
   "cell_type": "code",
   "execution_count": 446,
   "metadata": {},
   "outputs": [],
   "source": [
    "all_predictions['person'] =person\n",
    "#all_predictions = all_predictions[all_predictions['index']>pd.to_datetime('2024-07-22')]"
   ]
  },
  {
   "cell_type": "code",
   "execution_count": 447,
   "metadata": {},
   "outputs": [],
   "source": [
    "all_predictions.to_csv('/Users/htr365/no_icloud/quantified_self_all/quantified_self/website/docs/data/predictions_'+person+'.csv')"
   ]
  },
  {
   "cell_type": "code",
   "execution_count": 448,
   "metadata": {},
   "outputs": [],
   "source": [
    "all_predictions_amanda = pd.read_csv(('/Users/htr365/no_icloud/quantified_self_all/quantified_self/website/docs/data/predictions_Amanda.csv'))\n",
    "all_predictions_johanna= pd.read_csv(('/Users/htr365/no_icloud/quantified_self_all/quantified_self/website/docs/data/predictions_Johanna.csv'))"
   ]
  },
  {
   "cell_type": "code",
   "execution_count": 449,
   "metadata": {},
   "outputs": [
    {
     "data": {
      "text/html": [
       "<div>\n",
       "<style scoped>\n",
       "    .dataframe tbody tr th:only-of-type {\n",
       "        vertical-align: middle;\n",
       "    }\n",
       "\n",
       "    .dataframe tbody tr th {\n",
       "        vertical-align: top;\n",
       "    }\n",
       "\n",
       "    .dataframe thead th {\n",
       "        text-align: right;\n",
       "    }\n",
       "</style>\n",
       "<table border=\"1\" class=\"dataframe\">\n",
       "  <thead>\n",
       "    <tr style=\"text-align: right;\">\n",
       "      <th></th>\n",
       "      <th>Unnamed: 0</th>\n",
       "      <th>cis_subjective_fatigue</th>\n",
       "      <th>extra_muscles_tired</th>\n",
       "      <th>hooper_muscles_sore</th>\n",
       "      <th>model</th>\n",
       "      <th>index</th>\n",
       "      <th>person</th>\n",
       "    </tr>\n",
       "  </thead>\n",
       "  <tbody>\n",
       "    <tr>\n",
       "      <th>0</th>\n",
       "      <td>2024-07-22</td>\n",
       "      <td>2.916183</td>\n",
       "      <td>4.804222</td>\n",
       "      <td>3.450080</td>\n",
       "      <td>Gradient boosting multiseries</td>\n",
       "      <td>2024-07-22</td>\n",
       "      <td>Johanna</td>\n",
       "    </tr>\n",
       "    <tr>\n",
       "      <th>1</th>\n",
       "      <td>2024-07-23</td>\n",
       "      <td>2.394111</td>\n",
       "      <td>1.907373</td>\n",
       "      <td>2.734665</td>\n",
       "      <td>Gradient boosting multiseries</td>\n",
       "      <td>2024-07-23</td>\n",
       "      <td>Johanna</td>\n",
       "    </tr>\n",
       "    <tr>\n",
       "      <th>2</th>\n",
       "      <td>2024-07-24</td>\n",
       "      <td>3.986925</td>\n",
       "      <td>4.475180</td>\n",
       "      <td>1.651559</td>\n",
       "      <td>Gradient boosting multiseries</td>\n",
       "      <td>2024-07-24</td>\n",
       "      <td>Johanna</td>\n",
       "    </tr>\n",
       "    <tr>\n",
       "      <th>3</th>\n",
       "      <td>2024-07-25</td>\n",
       "      <td>2.799626</td>\n",
       "      <td>1.444737</td>\n",
       "      <td>4.675842</td>\n",
       "      <td>Gradient boosting multiseries</td>\n",
       "      <td>2024-07-25</td>\n",
       "      <td>Johanna</td>\n",
       "    </tr>\n",
       "    <tr>\n",
       "      <th>4</th>\n",
       "      <td>2024-07-26</td>\n",
       "      <td>3.786342</td>\n",
       "      <td>3.489365</td>\n",
       "      <td>3.545411</td>\n",
       "      <td>Gradient boosting multiseries</td>\n",
       "      <td>2024-07-26</td>\n",
       "      <td>Johanna</td>\n",
       "    </tr>\n",
       "    <tr>\n",
       "      <th>...</th>\n",
       "      <td>...</td>\n",
       "      <td>...</td>\n",
       "      <td>...</td>\n",
       "      <td>...</td>\n",
       "      <td>...</td>\n",
       "      <td>...</td>\n",
       "      <td>...</td>\n",
       "    </tr>\n",
       "    <tr>\n",
       "      <th>65</th>\n",
       "      <td>2024-08-10</td>\n",
       "      <td>2.445082</td>\n",
       "      <td>2.626476</td>\n",
       "      <td>2.295289</td>\n",
       "      <td>Gradient Boosting</td>\n",
       "      <td>2024-08-10</td>\n",
       "      <td>Amanda</td>\n",
       "    </tr>\n",
       "    <tr>\n",
       "      <th>66</th>\n",
       "      <td>2024-08-11</td>\n",
       "      <td>3.251650</td>\n",
       "      <td>3.163093</td>\n",
       "      <td>4.138082</td>\n",
       "      <td>Gradient Boosting</td>\n",
       "      <td>2024-08-11</td>\n",
       "      <td>Amanda</td>\n",
       "    </tr>\n",
       "    <tr>\n",
       "      <th>67</th>\n",
       "      <td>2024-08-12</td>\n",
       "      <td>3.687401</td>\n",
       "      <td>4.354936</td>\n",
       "      <td>4.320752</td>\n",
       "      <td>Gradient Boosting</td>\n",
       "      <td>2024-08-12</td>\n",
       "      <td>Amanda</td>\n",
       "    </tr>\n",
       "    <tr>\n",
       "      <th>68</th>\n",
       "      <td>2024-08-13</td>\n",
       "      <td>2.275682</td>\n",
       "      <td>1.866278</td>\n",
       "      <td>2.232001</td>\n",
       "      <td>Gradient Boosting</td>\n",
       "      <td>2024-08-13</td>\n",
       "      <td>Amanda</td>\n",
       "    </tr>\n",
       "    <tr>\n",
       "      <th>69</th>\n",
       "      <td>2024-08-14</td>\n",
       "      <td>3.005323</td>\n",
       "      <td>2.841003</td>\n",
       "      <td>2.748752</td>\n",
       "      <td>Gradient Boosting</td>\n",
       "      <td>2024-08-14</td>\n",
       "      <td>Amanda</td>\n",
       "    </tr>\n",
       "  </tbody>\n",
       "</table>\n",
       "<p>140 rows × 7 columns</p>\n",
       "</div>"
      ],
      "text/plain": [
       "    Unnamed: 0  cis_subjective_fatigue  extra_muscles_tired  \\\n",
       "0   2024-07-22                2.916183             4.804222   \n",
       "1   2024-07-23                2.394111             1.907373   \n",
       "2   2024-07-24                3.986925             4.475180   \n",
       "3   2024-07-25                2.799626             1.444737   \n",
       "4   2024-07-26                3.786342             3.489365   \n",
       "..         ...                     ...                  ...   \n",
       "65  2024-08-10                2.445082             2.626476   \n",
       "66  2024-08-11                3.251650             3.163093   \n",
       "67  2024-08-12                3.687401             4.354936   \n",
       "68  2024-08-13                2.275682             1.866278   \n",
       "69  2024-08-14                3.005323             2.841003   \n",
       "\n",
       "    hooper_muscles_sore                          model       index   person  \n",
       "0              3.450080  Gradient boosting multiseries  2024-07-22  Johanna  \n",
       "1              2.734665  Gradient boosting multiseries  2024-07-23  Johanna  \n",
       "2              1.651559  Gradient boosting multiseries  2024-07-24  Johanna  \n",
       "3              4.675842  Gradient boosting multiseries  2024-07-25  Johanna  \n",
       "4              3.545411  Gradient boosting multiseries  2024-07-26  Johanna  \n",
       "..                  ...                            ...         ...      ...  \n",
       "65             2.295289              Gradient Boosting  2024-08-10   Amanda  \n",
       "66             4.138082              Gradient Boosting  2024-08-11   Amanda  \n",
       "67             4.320752              Gradient Boosting  2024-08-12   Amanda  \n",
       "68             2.232001              Gradient Boosting  2024-08-13   Amanda  \n",
       "69             2.748752              Gradient Boosting  2024-08-14   Amanda  \n",
       "\n",
       "[140 rows x 7 columns]"
      ]
     },
     "execution_count": 449,
     "metadata": {},
     "output_type": "execute_result"
    }
   ],
   "source": [
    "pd.concat([all_predictions_johanna,all_predictions_amanda])"
   ]
  },
  {
   "cell_type": "code",
   "execution_count": 450,
   "metadata": {},
   "outputs": [],
   "source": [
    "pd.concat([all_predictions_johanna,all_predictions_amanda]).to_csv('/Users/htr365/no_icloud/quantified_self_all/quantified_self/website/docs/data/predictions.csv')"
   ]
  },
  {
   "cell_type": "markdown",
   "metadata": {},
   "source": [
    "# OLD STUFF"
   ]
  },
  {
   "cell_type": "code",
   "execution_count": 76,
   "metadata": {},
   "outputs": [],
   "source": [
    "\n",
    "def pred_to_df(predictions):\n",
    "    combined_df= pd.DataFrame()\n",
    "\n",
    "    # Loop through each key, value pair in the dictionary\n",
    "    for key, df in predictions.items():\n",
    "        # Rename the 'pred' column to the key value\n",
    "        df = df.rename(columns={'pred': key})\n",
    "        # Concatenate along columns\n",
    "        if combined_df.empty:\n",
    "            combined_df = df\n",
    "        else:\n",
    "            combined_df = pd.concat([combined_df, df], axis=1)\n",
    "    return combined_df"
   ]
  },
  {
   "cell_type": "code",
   "execution_count": 77,
   "metadata": {},
   "outputs": [],
   "source": [
    "rf_test_pred = pred_to_df(rf_predictions)\n",
    "gb_test_pred = pred_to_df(gb_predictions)"
   ]
  },
  {
   "cell_type": "code",
   "execution_count": 78,
   "metadata": {},
   "outputs": [],
   "source": [
    "var_outcome = 'cis_subjective_fatigue'#,'hooper_fatigue_level','extra_muscles_tired','hooper_muscles_sore']\n",
    "human_pred = ['fatigue_expected','muscles_sore_expected','muscles_tired_expected']"
   ]
  },
  {
   "cell_type": "code",
   "execution_count": 79,
   "metadata": {},
   "outputs": [],
   "source": [
    "dict_human = {'cis_subjective_fatigue':'fatigue_expected',\n",
    "              'hooper_fatigue_level':'fatigue_expected',\n",
    "              'extra_muscles_tired':'muscles_tired_expected',\n",
    "              'hooper_muscles_sore':'muscles_sore_expected'}"
   ]
  },
  {
   "cell_type": "code",
   "execution_count": null,
   "metadata": {},
   "outputs": [],
   "source": []
  },
  {
   "cell_type": "code",
   "execution_count": 80,
   "metadata": {},
   "outputs": [
    {
     "data": {
      "text/plain": [
       "'fatigue_expected'"
      ]
     },
     "execution_count": 80,
     "metadata": {},
     "output_type": "execute_result"
    }
   ],
   "source": [
    "dict_human.get(var_outcome)"
   ]
  },
  {
   "cell_type": "code",
   "execution_count": 97,
   "metadata": {},
   "outputs": [
    {
     "data": {
      "text/plain": [
       "DatetimeIndex(['2024-07-27', '2024-07-28', '2024-07-29'], dtype='datetime64[ns]', name='date', freq='D')"
      ]
     },
     "execution_count": 97,
     "metadata": {},
     "output_type": "execute_result"
    }
   ],
   "source": [
    "data_test.index"
   ]
  },
  {
   "cell_type": "code",
   "execution_count": 124,
   "metadata": {},
   "outputs": [],
   "source": [
    "import datetime\n",
    "data_human_pred = data[np.isin(data.index,data_test.index-datetime.timedelta(days=1))][dict_human.get(var_outcome)].rename('h_'+var_outcome)\n",
    "data_human_pred.index = data_human_pred.index +datetime.timedelta(days=1)"
   ]
  },
  {
   "cell_type": "code",
   "execution_count": 125,
   "metadata": {},
   "outputs": [
    {
     "data": {
      "text/html": [
       "<div>\n",
       "<style scoped>\n",
       "    .dataframe tbody tr th:only-of-type {\n",
       "        vertical-align: middle;\n",
       "    }\n",
       "\n",
       "    .dataframe tbody tr th {\n",
       "        vertical-align: top;\n",
       "    }\n",
       "\n",
       "    .dataframe thead th {\n",
       "        text-align: right;\n",
       "    }\n",
       "</style>\n",
       "<table border=\"1\" class=\"dataframe\">\n",
       "  <thead>\n",
       "    <tr style=\"text-align: right;\">\n",
       "      <th></th>\n",
       "      <th>rf_cis_subjective_fatigue</th>\n",
       "      <th>gb_cis_subjective_fatigue</th>\n",
       "      <th>h_cis_subjective_fatigue</th>\n",
       "    </tr>\n",
       "  </thead>\n",
       "  <tbody>\n",
       "    <tr>\n",
       "      <th>2024-07-26</th>\n",
       "      <td>4.917500</td>\n",
       "      <td>4.831731</td>\n",
       "      <td>NaN</td>\n",
       "    </tr>\n",
       "    <tr>\n",
       "      <th>2024-07-27</th>\n",
       "      <td>4.522500</td>\n",
       "      <td>4.831731</td>\n",
       "      <td>4.0</td>\n",
       "    </tr>\n",
       "    <tr>\n",
       "      <th>2024-07-28</th>\n",
       "      <td>4.845625</td>\n",
       "      <td>4.831731</td>\n",
       "      <td>7.0</td>\n",
       "    </tr>\n",
       "    <tr>\n",
       "      <th>2024-07-29</th>\n",
       "      <td>4.905625</td>\n",
       "      <td>4.831731</td>\n",
       "      <td>7.0</td>\n",
       "    </tr>\n",
       "  </tbody>\n",
       "</table>\n",
       "</div>"
      ],
      "text/plain": [
       "            rf_cis_subjective_fatigue  gb_cis_subjective_fatigue  \\\n",
       "2024-07-26                   4.917500                   4.831731   \n",
       "2024-07-27                   4.522500                   4.831731   \n",
       "2024-07-28                   4.845625                   4.831731   \n",
       "2024-07-29                   4.905625                   4.831731   \n",
       "\n",
       "            h_cis_subjective_fatigue  \n",
       "2024-07-26                       NaN  \n",
       "2024-07-27                       4.0  \n",
       "2024-07-28                       7.0  \n",
       "2024-07-29                       7.0  "
      ]
     },
     "execution_count": 125,
     "metadata": {},
     "output_type": "execute_result"
    }
   ],
   "source": [
    "results = pd.concat([rf_test_pred[var_outcome].rename('rf_'+var_outcome),\n",
    "gb_test_pred[var_outcome].rename('gb_'+var_outcome),\n",
    "data_human_pred],\n",
    "axis=1)\n",
    "\n",
    "results_diff = data_test[var_outcome]-results\n",
    "results"
   ]
  },
  {
   "cell_type": "code",
   "execution_count": 86,
   "metadata": {},
   "outputs": [
    {
     "data": {
      "text/plain": [
       "Index(['person', 'date', 'cis_1', 'cis_2', 'cis_3', 'cis_4', 'cis_5', 'cis_6',\n",
       "       'cis_7', 'cis_8', 'cis_9', 'cis_10', 'cis_11', 'cis_12', 'cis_13',\n",
       "       'cis_14', 'cis_15', 'cis_16', 'cis_17', 'cis_18', 'cis_19', 'cis_20',\n",
       "       'hooper_muscles_sore', 'extra_muscles_tired', 'hooper_sleep_quality',\n",
       "       'hooper_fatigue_level', 'hooper_stress_level', 'sleep_hours',\n",
       "       'coffee_count', 'physical_activity', 'step_count', 'alcohol',\n",
       "       'fatigue_expected', 'muscles_sore_expected', 'muscles_tired_expected',\n",
       "       'cis_subjective_fatigue', 'cis_concentration', 'cis_motivation',\n",
       "       'cis_physical_activity', 'sleep_time', 'walking', 'cycling',\n",
       "       'ball_sports', 'weight_lifting', 'running', 'yoga', 'HITT',\n",
       "       'manual_labour', 'hiking', 'cis_subjective_fatigue_lead1',\n",
       "       'hooper_fatigue_level_lead1'],\n",
       "      dtype='object')"
      ]
     },
     "execution_count": 86,
     "metadata": {},
     "output_type": "execute_result"
    }
   ],
   "source": [
    "data_test.columns"
   ]
  },
  {
   "cell_type": "code",
   "execution_count": 126,
   "metadata": {},
   "outputs": [
    {
     "data": {
      "text/html": [
       "<div>\n",
       "<style scoped>\n",
       "    .dataframe tbody tr th:only-of-type {\n",
       "        vertical-align: middle;\n",
       "    }\n",
       "\n",
       "    .dataframe tbody tr th {\n",
       "        vertical-align: top;\n",
       "    }\n",
       "\n",
       "    .dataframe thead th {\n",
       "        text-align: right;\n",
       "    }\n",
       "</style>\n",
       "<table border=\"1\" class=\"dataframe\">\n",
       "  <thead>\n",
       "    <tr style=\"text-align: right;\">\n",
       "      <th></th>\n",
       "      <th>rf_cis_subjective_fatigue</th>\n",
       "      <th>gb_cis_subjective_fatigue</th>\n",
       "      <th>h_cis_subjective_fatigue</th>\n",
       "    </tr>\n",
       "  </thead>\n",
       "  <tbody>\n",
       "    <tr>\n",
       "      <th>2024-07-26</th>\n",
       "      <td>NaN</td>\n",
       "      <td>NaN</td>\n",
       "      <td>NaN</td>\n",
       "    </tr>\n",
       "    <tr>\n",
       "      <th>2024-07-27</th>\n",
       "      <td>2.522500</td>\n",
       "      <td>2.831731</td>\n",
       "      <td>2.000</td>\n",
       "    </tr>\n",
       "    <tr>\n",
       "      <th>2024-07-28</th>\n",
       "      <td>0.029375</td>\n",
       "      <td>0.043269</td>\n",
       "      <td>2.125</td>\n",
       "    </tr>\n",
       "    <tr>\n",
       "      <th>2024-07-29</th>\n",
       "      <td>1.094375</td>\n",
       "      <td>1.168269</td>\n",
       "      <td>1.000</td>\n",
       "    </tr>\n",
       "  </tbody>\n",
       "</table>\n",
       "</div>"
      ],
      "text/plain": [
       "            rf_cis_subjective_fatigue  gb_cis_subjective_fatigue  \\\n",
       "2024-07-26                        NaN                        NaN   \n",
       "2024-07-27                   2.522500                   2.831731   \n",
       "2024-07-28                   0.029375                   0.043269   \n",
       "2024-07-29                   1.094375                   1.168269   \n",
       "\n",
       "            h_cis_subjective_fatigue  \n",
       "2024-07-26                       NaN  \n",
       "2024-07-27                     2.000  \n",
       "2024-07-28                     2.125  \n",
       "2024-07-29                     1.000  "
      ]
     },
     "execution_count": 126,
     "metadata": {},
     "output_type": "execute_result"
    }
   ],
   "source": [
    "np.abs(data_test[var_outcome] - results.transpose()).transpose()"
   ]
  },
  {
   "cell_type": "code",
   "execution_count": null,
   "metadata": {},
   "outputs": [],
   "source": []
  }
 ],
 "metadata": {
  "kernelspec": {
   "display_name": "muscles",
   "language": "python",
   "name": "python3"
  },
  "language_info": {
   "codemirror_mode": {
    "name": "ipython",
    "version": 3
   },
   "file_extension": ".py",
   "mimetype": "text/x-python",
   "name": "python",
   "nbconvert_exporter": "python",
   "pygments_lexer": "ipython3",
   "version": "3.8.18"
  }
 },
 "nbformat": 4,
 "nbformat_minor": 2
}
